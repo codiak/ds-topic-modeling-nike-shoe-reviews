{
  "nbformat": 4,
  "nbformat_minor": 0,
  "metadata": {
    "colab": {
      "provenance": [],
      "include_colab_link": true
    },
    "kernelspec": {
      "name": "python3",
      "display_name": "Python 3"
    },
    "language_info": {
      "name": "python"
    }
  },
  "cells": [
    {
      "cell_type": "markdown",
      "metadata": {
        "id": "view-in-github",
        "colab_type": "text"
      },
      "source": [
        "<a href=\"https://colab.research.google.com/github/codiak/ds-topic-modeling-nike-shoe-reviews/blob/main/MSDSTopicModel_Final.ipynb\" target=\"_parent\"><img src=\"https://colab.research.google.com/assets/colab-badge.svg\" alt=\"Open In Colab\"/></a>"
      ]
    },
    {
      "cell_type": "markdown",
      "source": [
        "# Topic Modeling for Nike Sneaker Research\n",
        "\n",
        "## Data Fetching"
      ],
      "metadata": {
        "id": "Yl3VQ2gUaRfc"
      }
    },
    {
      "cell_type": "markdown",
      "source": [
        "Before continuing with this lab, be sure you have completed Homework 2 and saved your corpus and topic model to your Google Drive. They should be files in the root of your Google Drive called MSDS_HW2_corpus.p and MSDS_HW2_model.p. In this lab, you will load the model and use it for classification of documents in the corpus."
      ],
      "metadata": {
        "id": "FNDCPeJakfTf"
      }
    },
    {
      "cell_type": "code",
      "source": [
        "import gzip\n",
        "import json"
      ],
      "metadata": {
        "id": "G4jBOaIbrLhj"
      },
      "execution_count": 1,
      "outputs": []
    },
    {
      "cell_type": "markdown",
      "source": [
        "Access data files in Google Drive"
      ],
      "metadata": {
        "id": "T1P537r2lWIN"
      }
    },
    {
      "cell_type": "code",
      "source": [
        "from google.colab import drive\n",
        "drive.mount('/content/drive')\n",
        "folder_path = \"drive/MyDrive/MSDS_marketing_text_analytics\""
      ],
      "metadata": {
        "colab": {
          "base_uri": "https://localhost:8080/"
        },
        "id": "_vIe26e_g9hg",
        "outputId": "b3073383-0e14-410a-b4b9-02eff9a55f57"
      },
      "execution_count": 2,
      "outputs": [
        {
          "output_type": "stream",
          "name": "stdout",
          "text": [
            "Mounted at /content/drive\n"
          ]
        }
      ]
    },
    {
      "cell_type": "code",
      "source": [
        "asins = []\n",
        "sales_ranks = {}\n",
        "\n",
        "with gzip.open(f\"{folder_path}/meta_Clothing_Shoes_and_Jewelry.jsonl.gz\") as products:\n",
        "    i = 0\n",
        "    for product in products:\n",
        "        i += 1\n",
        "        # print(product)\n",
        "        # if i > 10000:\n",
        "        #   break\n",
        "        data = json.loads(product)\n",
        "        categories = []\n",
        "        for category_list in data.get(\"categories\", []):\n",
        "            _catlist = []\n",
        "            for item in category_list:\n",
        "                _catlist.append(item.lower())\n",
        "            categories += _catlist\n",
        "        sneaker_cats = [\"fashion sneakers\", \"sneakers\", \"shoes\"]\n",
        "        if \"nike\" in categories:\n",
        "            if any(x in categories for x in sneaker_cats):\n",
        "                asins.append(data[\"asin\"])\n",
        "                if data.get(\"salesRank\"):\n",
        "                    sales_ranks[data[\"asin\"]] = list(data[\"salesRank\"].items())[0][1]"
      ],
      "metadata": {
        "id": "pzpztpporbiW"
      },
      "execution_count": 16,
      "outputs": []
    },
    {
      "cell_type": "code",
      "source": [
        "print(len(asins))\n",
        "asins[:3]"
      ],
      "metadata": {
        "colab": {
          "base_uri": "https://localhost:8080/"
        },
        "id": "uOyUNehDrtwp",
        "outputId": "11f887d8-bb63-4f82-8ab0-9cc4e6143d4d"
      },
      "execution_count": 18,
      "outputs": [
        {
          "output_type": "stream",
          "name": "stdout",
          "text": [
            "6611\n"
          ]
        },
        {
          "output_type": "execute_result",
          "data": {
            "text/plain": [
              "['B0002164KC', 'B0006NGUE6', 'B0007IA7O4']"
            ]
          },
          "metadata": {},
          "execution_count": 18
        }
      ]
    },
    {
      "cell_type": "code",
      "source": [
        "print(len(sales_ranks))\n",
        "dict(list(sales_ranks.items())[:3])"
      ],
      "metadata": {
        "colab": {
          "base_uri": "https://localhost:8080/"
        },
        "id": "VguY67xJti9L",
        "outputId": "a6bbdb86-2cf7-4e0c-95bf-8ddecab6d453"
      },
      "execution_count": 19,
      "outputs": [
        {
          "output_type": "stream",
          "name": "stdout",
          "text": [
            "6356\n"
          ]
        },
        {
          "output_type": "execute_result",
          "data": {
            "text/plain": [
              "{'B0002164KC': 1067625, 'B0006NGUE6': 45137, 'B0007IA7O4': 24189}"
            ]
          },
          "metadata": {},
          "execution_count": 19
        }
      ]
    },
    {
      "cell_type": "markdown",
      "source": [
        "### Exploring Sales Rank\n",
        "\n",
        "Looking at top items and distribution."
      ],
      "metadata": {
        "id": "v6iBKNgLt0o9"
      }
    },
    {
      "cell_type": "code",
      "source": [
        "import operator\n",
        "ordered_asin_ranks = sorted(sales_ranks.items(), key=operator.itemgetter(1))\n",
        "ordered_asin_ranks[0]"
      ],
      "metadata": {
        "colab": {
          "base_uri": "https://localhost:8080/"
        },
        "id": "HT7hpyT3twIo",
        "outputId": "297a9513-9f8c-40c4-e1db-8b73a18e64b8"
      },
      "execution_count": 20,
      "outputs": [
        {
          "output_type": "execute_result",
          "data": {
            "text/plain": [
              "('B00EQBFL62', 179)"
            ]
          },
          "metadata": {},
          "execution_count": 20
        }
      ]
    },
    {
      "cell_type": "code",
      "source": [
        "import seaborn as sns\n",
        "plot = sns.distplot(list(sales_ranks.values()))"
      ],
      "metadata": {
        "colab": {
          "base_uri": "https://localhost:8080/",
          "height": 659
        },
        "id": "DQO4joUKt5QY",
        "outputId": "3168e860-ba6b-45f4-b699-a2d4bb43c3c6"
      },
      "execution_count": 21,
      "outputs": [
        {
          "output_type": "stream",
          "name": "stderr",
          "text": [
            "<ipython-input-21-a00462e37432>:2: UserWarning: \n",
            "\n",
            "`distplot` is a deprecated function and will be removed in seaborn v0.14.0.\n",
            "\n",
            "Please adapt your code to use either `displot` (a figure-level function with\n",
            "similar flexibility) or `histplot` (an axes-level function for histograms).\n",
            "\n",
            "For a guide to updating your code to use the new functions, please see\n",
            "https://gist.github.com/mwaskom/de44147ed2974457ad6372750bbe5751\n",
            "\n",
            "  plot = sns.distplot(list(sales_ranks.values()))\n"
          ]
        },
        {
          "output_type": "display_data",
          "data": {
            "text/plain": [
              "<Figure size 640x480 with 1 Axes>"
            ],
            "image/png": "[encoded data removed]"
          },
          "metadata": {}
        }
      ]
    },
    {
      "cell_type": "markdown",
      "source": [
        "## Data Cleaning\n",
        "\n",
        "Trim the long tail of products, allowing a lower rank since this is focused on a subcategory (sneaker)."
      ],
      "metadata": {
        "id": "7am73dr6uCpN"
      }
    },
    {
      "cell_type": "code",
      "source": [
        "best_asins = [asin for asin, rank in sales_ranks.items() if rank <= 15000]\n",
        "len(best_asins)"
      ],
      "metadata": {
        "colab": {
          "base_uri": "https://localhost:8080/"
        },
        "id": "yV9ximJ3uFkq",
        "outputId": "9e9390c8-c2aa-492c-a863-2b15190807f1"
      },
      "execution_count": 24,
      "outputs": [
        {
          "output_type": "execute_result",
          "data": {
            "text/plain": [
              "598"
            ]
          },
          "metadata": {},
          "execution_count": 24
        }
      ]
    },
    {
      "cell_type": "markdown",
      "source": [
        "## Pulling in Review Text\n",
        "\n",
        "Time to aggregate reviews for the selected ASINs."
      ],
      "metadata": {
        "id": "Tf2Mt-yzulWM"
      }
    },
    {
      "cell_type": "code",
      "source": [
        "top_reviews = {}\n",
        "\n",
        "with gzip.open(f\"{folder_path}/reviews_Clothing_Shoes_and_Jewelry.json.gz\") as reviews:\n",
        "    for i, review in enumerate(reviews):\n",
        "        review = json.loads(review)\n",
        "        _id = \"%s.%s\" % (review[\"asin\"], review[\"reviewerID\"])\n",
        "        if review[\"asin\"] in best_asins:\n",
        "            top_reviews[_id] = review"
      ],
      "metadata": {
        "id": "MJYe1lG2urFw"
      },
      "execution_count": 25,
      "outputs": []
    },
    {
      "cell_type": "code",
      "source": [
        "# How many do we have?\n",
        "len(top_reviews)"
      ],
      "metadata": {
        "colab": {
          "base_uri": "https://localhost:8080/"
        },
        "id": "5U6aIHI4uz2p",
        "outputId": "87e7e76d-84c5-45dd-8471-768a04ab0ae5"
      },
      "execution_count": 26,
      "outputs": [
        {
          "output_type": "execute_result",
          "data": {
            "text/plain": [
              "5353"
            ]
          },
          "metadata": {},
          "execution_count": 26
        }
      ]
    },
    {
      "cell_type": "code",
      "source": [
        "# Save for reference/checkpoint\n",
        "with open(f\"{folder_path}/NikeSneaker_TopReviews.jsonl\", \"w\") as top_reviews_file:\n",
        "    for k, v in top_reviews.items():\n",
        "        review = json.dumps(v)\n",
        "        top_reviews_file.write(f\"{review}\\n\")"
      ],
      "metadata": {
        "id": "NS55WjnRu6P3"
      },
      "execution_count": 27,
      "outputs": []
    },
    {
      "cell_type": "code",
      "source": [
        "# remove conflicting dependencies for preprocessing\n",
        "!pip uninstall -y numba\n",
        "!pip uninstall -y tensorflow"
      ],
      "metadata": {
        "colab": {
          "base_uri": "https://localhost:8080/"
        },
        "id": "8BUADwIzvjXU",
        "outputId": "b9ec4568-ac5a-4136-e7d2-ff8a2e002879"
      },
      "execution_count": 73,
      "outputs": [
        {
          "output_type": "stream",
          "name": "stderr",
          "text": [
            "/usr/local/lib/python3.10/dist-packages/ipykernel/ipkernel.py:283: DeprecationWarning: `should_run_async` will not call `transform_cell` automatically in the future. Please pass the result to `transformed_cell` argument and any exception that happen during thetransform in `preprocessing_exc_tuple` in IPython 7.17 and above.\n",
            "  and should_run_async(code)\n"
          ]
        },
        {
          "output_type": "stream",
          "name": "stdout",
          "text": [
            "\u001b[33mWARNING: Skipping numba as it is not installed.\u001b[0m\u001b[33m\n",
            "\u001b[0m\u001b[33mWARNING: Skipping tensorflow as it is not installed.\u001b[0m\u001b[33m\n",
            "\u001b[0m"
          ]
        }
      ]
    },
    {
      "cell_type": "code",
      "source": [
        "# fetch required dependencies\n",
        "!pip install lda\n",
        "!pip install \"tmtoolkit[recommended]\""
      ],
      "metadata": {
        "colab": {
          "base_uri": "https://localhost:8080/"
        },
        "collapsed": true,
        "id": "QUng8YHZvrFG",
        "outputId": "3f18696e-3de1-47d2-8d53-18a3c6192b65"
      },
      "execution_count": 74,
      "outputs": [
        {
          "output_type": "stream",
          "name": "stderr",
          "text": [
            "/usr/local/lib/python3.10/dist-packages/ipykernel/ipkernel.py:283: DeprecationWarning: `should_run_async` will not call `transform_cell` automatically in the future. Please pass the result to `transformed_cell` argument and any exception that happen during thetransform in `preprocessing_exc_tuple` in IPython 7.17 and above.\n",
            "  and should_run_async(code)\n"
          ]
        },
        {
          "output_type": "stream",
          "name": "stdout",
          "text": [
            "Requirement already satisfied: lda in /usr/local/lib/python3.10/dist-packages (3.0.1)\n",
            "Collecting numpy>=1.83 (from lda)\n",
            "  Using cached numpy-2.0.0-cp310-cp310-manylinux_2_17_x86_64.manylinux2014_x86_64.whl (19.3 MB)\n",
            "Installing collected packages: numpy\n",
            "  Attempting uninstall: numpy\n",
            "    Found existing installation: numpy 1.26.4\n",
            "    Uninstalling numpy-1.26.4:\n",
            "      Successfully uninstalled numpy-1.26.4\n",
            "\u001b[31mERROR: pip's dependency resolver does not currently take into account all the packages that are installed. This behaviour is the source of the following dependency conflicts.\n",
            "cudf-cu12 24.4.1 requires numba>=0.57, which is not installed.\n",
            "dopamine-rl 4.0.9 requires tensorflow>=2.2.0, which is not installed.\n",
            "librosa 0.10.2.post1 requires numba>=0.51.0, which is not installed.\n",
            "rmm-cu12 24.4.0 requires numba>=0.57, which is not installed.\n",
            "astropy 5.3.4 requires numpy<2,>=1.21, but you have numpy 2.0.0 which is incompatible.\n",
            "cudf-cu12 24.4.1 requires numpy<2.0a0,>=1.23, but you have numpy 2.0.0 which is incompatible.\n",
            "cupy-cuda12x 12.2.0 requires numpy<1.27,>=1.20, but you have numpy 2.0.0 which is incompatible.\n",
            "ibis-framework 8.0.0 requires numpy<2,>=1, but you have numpy 2.0.0 which is incompatible.\n",
            "rmm-cu12 24.4.0 requires numpy<2.0a0,>=1.23, but you have numpy 2.0.0 which is incompatible.\n",
            "scipy 1.11.4 requires numpy<1.28.0,>=1.21.6, but you have numpy 2.0.0 which is incompatible.\n",
            "tmtoolkit 0.12.0 requires numpy<2.0,>=1.23.0, but you have numpy 2.0.0 which is incompatible.\u001b[0m\u001b[31m\n",
            "\u001b[0mSuccessfully installed numpy-2.0.0\n",
            "Requirement already satisfied: tmtoolkit[recommended] in /usr/local/lib/python3.10/dist-packages (0.12.0)\n",
            "Collecting numpy<2.0,>=1.23.0 (from tmtoolkit[recommended])\n",
            "  Using cached numpy-1.26.4-cp310-cp310-manylinux_2_17_x86_64.manylinux2014_x86_64.whl (18.2 MB)\n",
            "Requirement already satisfied: scipy<2.0,>=1.7.0 in /usr/local/lib/python3.10/dist-packages (from tmtoolkit[recommended]) (1.11.4)\n",
            "Requirement already satisfied: globre<0.2,>=0.1.5 in /usr/local/lib/python3.10/dist-packages (from tmtoolkit[recommended]) (0.1.5)\n",
            "Requirement already satisfied: pandas<3.0,>=1.4.0 in /usr/local/lib/python3.10/dist-packages (from tmtoolkit[recommended]) (2.0.3)\n",
            "Requirement already satisfied: xlrd>=2.0.0 in /usr/local/lib/python3.10/dist-packages (from tmtoolkit[recommended]) (2.0.1)\n",
            "Requirement already satisfied: openpyxl<4.0,>=3.0.0 in /usr/local/lib/python3.10/dist-packages (from tmtoolkit[recommended]) (3.1.3)\n",
            "Requirement already satisfied: matplotlib<4.0,>=3.5.0 in /usr/local/lib/python3.10/dist-packages (from tmtoolkit[recommended]) (3.7.1)\n",
            "Requirement already satisfied: bidict<1.0,>=0.21.0 in /usr/local/lib/python3.10/dist-packages (from tmtoolkit[recommended]) (0.23.1)\n",
            "Requirement already satisfied: wheel<1.0,>=0.40 in /usr/local/lib/python3.10/dist-packages (from tmtoolkit[recommended]) (0.43.0)\n",
            "Requirement already satisfied: spacy<4.0,>=3.3.0 in /usr/local/lib/python3.10/dist-packages (from tmtoolkit[recommended]) (3.7.5)\n",
            "Requirement already satisfied: loky<4.0,>=3.0.0 in /usr/local/lib/python3.10/dist-packages (from tmtoolkit[recommended]) (3.4.1)\n",
            "Requirement already satisfied: cloudpickle in /usr/local/lib/python3.10/dist-packages (from loky<4.0,>=3.0.0->tmtoolkit[recommended]) (2.2.1)\n",
            "Requirement already satisfied: contourpy>=1.0.1 in /usr/local/lib/python3.10/dist-packages (from matplotlib<4.0,>=3.5.0->tmtoolkit[recommended]) (1.2.1)\n",
            "Requirement already satisfied: cycler>=0.10 in /usr/local/lib/python3.10/dist-packages (from matplotlib<4.0,>=3.5.0->tmtoolkit[recommended]) (0.12.1)\n",
            "Requirement already satisfied: fonttools>=4.22.0 in /usr/local/lib/python3.10/dist-packages (from matplotlib<4.0,>=3.5.0->tmtoolkit[recommended]) (4.53.0)\n",
            "Requirement already satisfied: kiwisolver>=1.0.1 in /usr/local/lib/python3.10/dist-packages (from matplotlib<4.0,>=3.5.0->tmtoolkit[recommended]) (1.4.5)\n",
            "Requirement already satisfied: packaging>=20.0 in /usr/local/lib/python3.10/dist-packages (from matplotlib<4.0,>=3.5.0->tmtoolkit[recommended]) (24.1)\n",
            "Requirement already satisfied: pillow>=6.2.0 in /usr/local/lib/python3.10/dist-packages (from matplotlib<4.0,>=3.5.0->tmtoolkit[recommended]) (9.4.0)\n",
            "Requirement already satisfied: pyparsing>=2.3.1 in /usr/local/lib/python3.10/dist-packages (from matplotlib<4.0,>=3.5.0->tmtoolkit[recommended]) (3.1.2)\n",
            "Requirement already satisfied: python-dateutil>=2.7 in /usr/local/lib/python3.10/dist-packages (from matplotlib<4.0,>=3.5.0->tmtoolkit[recommended]) (2.8.2)\n",
            "Requirement already satisfied: et-xmlfile in /usr/local/lib/python3.10/dist-packages (from openpyxl<4.0,>=3.0.0->tmtoolkit[recommended]) (1.1.0)\n",
            "Requirement already satisfied: pytz>=2020.1 in /usr/local/lib/python3.10/dist-packages (from pandas<3.0,>=1.4.0->tmtoolkit[recommended]) (2023.4)\n",
            "Requirement already satisfied: tzdata>=2022.1 in /usr/local/lib/python3.10/dist-packages (from pandas<3.0,>=1.4.0->tmtoolkit[recommended]) (2024.1)\n",
            "Requirement already satisfied: spacy-legacy<3.1.0,>=3.0.11 in /usr/local/lib/python3.10/dist-packages (from spacy<4.0,>=3.3.0->tmtoolkit[recommended]) (3.0.12)\n",
            "Requirement already satisfied: spacy-loggers<2.0.0,>=1.0.0 in /usr/local/lib/python3.10/dist-packages (from spacy<4.0,>=3.3.0->tmtoolkit[recommended]) (1.0.5)\n",
            "Requirement already satisfied: murmurhash<1.1.0,>=0.28.0 in /usr/local/lib/python3.10/dist-packages (from spacy<4.0,>=3.3.0->tmtoolkit[recommended]) (1.0.10)\n",
            "Requirement already satisfied: cymem<2.1.0,>=2.0.2 in /usr/local/lib/python3.10/dist-packages (from spacy<4.0,>=3.3.0->tmtoolkit[recommended]) (2.0.8)\n",
            "Requirement already satisfied: preshed<3.1.0,>=3.0.2 in /usr/local/lib/python3.10/dist-packages (from spacy<4.0,>=3.3.0->tmtoolkit[recommended]) (3.0.9)\n",
            "Requirement already satisfied: thinc<8.3.0,>=8.2.2 in /usr/local/lib/python3.10/dist-packages (from spacy<4.0,>=3.3.0->tmtoolkit[recommended]) (8.2.4)\n",
            "Requirement already satisfied: wasabi<1.2.0,>=0.9.1 in /usr/local/lib/python3.10/dist-packages (from spacy<4.0,>=3.3.0->tmtoolkit[recommended]) (1.1.3)\n",
            "Requirement already satisfied: srsly<3.0.0,>=2.4.3 in /usr/local/lib/python3.10/dist-packages (from spacy<4.0,>=3.3.0->tmtoolkit[recommended]) (2.4.8)\n",
            "Requirement already satisfied: catalogue<2.1.0,>=2.0.6 in /usr/local/lib/python3.10/dist-packages (from spacy<4.0,>=3.3.0->tmtoolkit[recommended]) (2.0.10)\n",
            "Requirement already satisfied: weasel<0.5.0,>=0.1.0 in /usr/local/lib/python3.10/dist-packages (from spacy<4.0,>=3.3.0->tmtoolkit[recommended]) (0.4.1)\n",
            "Requirement already satisfied: typer<1.0.0,>=0.3.0 in /usr/local/lib/python3.10/dist-packages (from spacy<4.0,>=3.3.0->tmtoolkit[recommended]) (0.12.3)\n",
            "Requirement already satisfied: tqdm<5.0.0,>=4.38.0 in /usr/local/lib/python3.10/dist-packages (from spacy<4.0,>=3.3.0->tmtoolkit[recommended]) (4.66.4)\n",
            "Requirement already satisfied: requests<3.0.0,>=2.13.0 in /usr/local/lib/python3.10/dist-packages (from spacy<4.0,>=3.3.0->tmtoolkit[recommended]) (2.31.0)\n",
            "Requirement already satisfied: pydantic!=1.8,!=1.8.1,<3.0.0,>=1.7.4 in /usr/local/lib/python3.10/dist-packages (from spacy<4.0,>=3.3.0->tmtoolkit[recommended]) (2.7.3)\n",
            "Requirement already satisfied: jinja2 in /usr/local/lib/python3.10/dist-packages (from spacy<4.0,>=3.3.0->tmtoolkit[recommended]) (3.1.4)\n",
            "Requirement already satisfied: setuptools in /usr/local/lib/python3.10/dist-packages (from spacy<4.0,>=3.3.0->tmtoolkit[recommended]) (67.7.2)\n",
            "Requirement already satisfied: langcodes<4.0.0,>=3.2.0 in /usr/local/lib/python3.10/dist-packages (from spacy<4.0,>=3.3.0->tmtoolkit[recommended]) (3.4.0)\n",
            "Requirement already satisfied: language-data>=1.2 in /usr/local/lib/python3.10/dist-packages (from langcodes<4.0.0,>=3.2.0->spacy<4.0,>=3.3.0->tmtoolkit[recommended]) (1.2.0)\n",
            "Requirement already satisfied: annotated-types>=0.4.0 in /usr/local/lib/python3.10/dist-packages (from pydantic!=1.8,!=1.8.1,<3.0.0,>=1.7.4->spacy<4.0,>=3.3.0->tmtoolkit[recommended]) (0.7.0)\n",
            "Requirement already satisfied: pydantic-core==2.18.4 in /usr/local/lib/python3.10/dist-packages (from pydantic!=1.8,!=1.8.1,<3.0.0,>=1.7.4->spacy<4.0,>=3.3.0->tmtoolkit[recommended]) (2.18.4)\n",
            "Requirement already satisfied: typing-extensions>=4.6.1 in /usr/local/lib/python3.10/dist-packages (from pydantic!=1.8,!=1.8.1,<3.0.0,>=1.7.4->spacy<4.0,>=3.3.0->tmtoolkit[recommended]) (4.12.2)\n",
            "Requirement already satisfied: six>=1.5 in /usr/local/lib/python3.10/dist-packages (from python-dateutil>=2.7->matplotlib<4.0,>=3.5.0->tmtoolkit[recommended]) (1.16.0)\n",
            "Requirement already satisfied: charset-normalizer<4,>=2 in /usr/local/lib/python3.10/dist-packages (from requests<3.0.0,>=2.13.0->spacy<4.0,>=3.3.0->tmtoolkit[recommended]) (3.3.2)\n",
            "Requirement already satisfied: idna<4,>=2.5 in /usr/local/lib/python3.10/dist-packages (from requests<3.0.0,>=2.13.0->spacy<4.0,>=3.3.0->tmtoolkit[recommended]) (3.7)\n",
            "Requirement already satisfied: urllib3<3,>=1.21.1 in /usr/local/lib/python3.10/dist-packages (from requests<3.0.0,>=2.13.0->spacy<4.0,>=3.3.0->tmtoolkit[recommended]) (2.0.7)\n",
            "Requirement already satisfied: certifi>=2017.4.17 in /usr/local/lib/python3.10/dist-packages (from requests<3.0.0,>=2.13.0->spacy<4.0,>=3.3.0->tmtoolkit[recommended]) (2024.6.2)\n",
            "Requirement already satisfied: blis<0.8.0,>=0.7.8 in /usr/local/lib/python3.10/dist-packages (from thinc<8.3.0,>=8.2.2->spacy<4.0,>=3.3.0->tmtoolkit[recommended]) (0.7.11)\n",
            "Requirement already satisfied: confection<1.0.0,>=0.0.1 in /usr/local/lib/python3.10/dist-packages (from thinc<8.3.0,>=8.2.2->spacy<4.0,>=3.3.0->tmtoolkit[recommended]) (0.1.5)\n",
            "Requirement already satisfied: click>=8.0.0 in /usr/local/lib/python3.10/dist-packages (from typer<1.0.0,>=0.3.0->spacy<4.0,>=3.3.0->tmtoolkit[recommended]) (8.1.7)\n",
            "Requirement already satisfied: shellingham>=1.3.0 in /usr/local/lib/python3.10/dist-packages (from typer<1.0.0,>=0.3.0->spacy<4.0,>=3.3.0->tmtoolkit[recommended]) (1.5.4)\n",
            "Requirement already satisfied: rich>=10.11.0 in /usr/local/lib/python3.10/dist-packages (from typer<1.0.0,>=0.3.0->spacy<4.0,>=3.3.0->tmtoolkit[recommended]) (13.7.1)\n",
            "Requirement already satisfied: cloudpathlib<1.0.0,>=0.7.0 in /usr/local/lib/python3.10/dist-packages (from weasel<0.5.0,>=0.1.0->spacy<4.0,>=3.3.0->tmtoolkit[recommended]) (0.18.1)\n",
            "Requirement already satisfied: smart-open<8.0.0,>=5.2.1 in /usr/local/lib/python3.10/dist-packages (from weasel<0.5.0,>=0.1.0->spacy<4.0,>=3.3.0->tmtoolkit[recommended]) (7.0.4)\n",
            "Requirement already satisfied: MarkupSafe>=2.0 in /usr/local/lib/python3.10/dist-packages (from jinja2->spacy<4.0,>=3.3.0->tmtoolkit[recommended]) (2.1.5)\n",
            "Requirement already satisfied: marisa-trie>=0.7.7 in /usr/local/lib/python3.10/dist-packages (from language-data>=1.2->langcodes<4.0.0,>=3.2.0->spacy<4.0,>=3.3.0->tmtoolkit[recommended]) (1.2.0)\n",
            "Requirement already satisfied: markdown-it-py>=2.2.0 in /usr/local/lib/python3.10/dist-packages (from rich>=10.11.0->typer<1.0.0,>=0.3.0->spacy<4.0,>=3.3.0->tmtoolkit[recommended]) (3.0.0)\n",
            "Requirement already satisfied: pygments<3.0.0,>=2.13.0 in /usr/local/lib/python3.10/dist-packages (from rich>=10.11.0->typer<1.0.0,>=0.3.0->spacy<4.0,>=3.3.0->tmtoolkit[recommended]) (2.16.1)\n",
            "Requirement already satisfied: wrapt in /usr/local/lib/python3.10/dist-packages (from smart-open<8.0.0,>=5.2.1->weasel<0.5.0,>=0.1.0->spacy<4.0,>=3.3.0->tmtoolkit[recommended]) (1.14.1)\n",
            "Requirement already satisfied: mdurl~=0.1 in /usr/local/lib/python3.10/dist-packages (from markdown-it-py>=2.2.0->rich>=10.11.0->typer<1.0.0,>=0.3.0->spacy<4.0,>=3.3.0->tmtoolkit[recommended]) (0.1.2)\n",
            "Installing collected packages: numpy\n",
            "  Attempting uninstall: numpy\n",
            "    Found existing installation: numpy 2.0.0\n",
            "    Uninstalling numpy-2.0.0:\n",
            "      Successfully uninstalled numpy-2.0.0\n",
            "\u001b[31mERROR: pip's dependency resolver does not currently take into account all the packages that are installed. This behaviour is the source of the following dependency conflicts.\n",
            "cudf-cu12 24.4.1 requires numba>=0.57, which is not installed.\n",
            "dopamine-rl 4.0.9 requires tensorflow>=2.2.0, which is not installed.\n",
            "librosa 0.10.2.post1 requires numba>=0.51.0, which is not installed.\n",
            "rmm-cu12 24.4.0 requires numba>=0.57, which is not installed.\n",
            "lda 3.0.1 requires numpy>=1.83, but you have numpy 1.26.4 which is incompatible.\u001b[0m\u001b[31m\n",
            "\u001b[0mSuccessfully installed numpy-1.26.4\n"
          ]
        }
      ]
    },
    {
      "cell_type": "code",
      "source": [
        "# preprocessing dependency imports\n",
        "from tmtoolkit.corpus import Corpus, lemmatize, to_lowercase, remove_chars, filter_clean_tokens\n",
        "from tmtoolkit.corpus import corpus_num_tokens, corpus_tokens_flattened\n",
        "from tmtoolkit.corpus import dtm\n",
        "from tmtoolkit.corpus import vocabulary\n",
        "from tmtoolkit.topicmod.model_io import print_ldamodel_topic_words\n",
        "from tmtoolkit.topicmod.tm_lda import compute_models_parallel\n",
        "from string import punctuation"
      ],
      "metadata": {
        "colab": {
          "base_uri": "https://localhost:8080/"
        },
        "id": "pJQFN6bIvxpZ",
        "outputId": "1482c2dc-867a-40c2-9665-0ee4affc6917"
      },
      "execution_count": 75,
      "outputs": [
        {
          "output_type": "stream",
          "name": "stderr",
          "text": [
            "/usr/local/lib/python3.10/dist-packages/ipykernel/ipkernel.py:283: DeprecationWarning: `should_run_async` will not call `transform_cell` automatically in the future. Please pass the result to `transformed_cell` argument and any exception that happen during thetransform in `preprocessing_exc_tuple` in IPython 7.17 and above.\n",
            "  and should_run_async(code)\n"
          ]
        }
      ]
    },
    {
      "cell_type": "code",
      "source": [
        "def build_corpus(texts, lang=\"en\"):\n",
        "\n",
        "    corpus = Corpus({ i:r for i, r in enumerate(texts) }, language=lang)\n",
        "    lemmatize(corpus)\n",
        "    to_lowercase(corpus)\n",
        "    remove_chars(corpus, punctuation)\n",
        "    filter_clean_tokens(corpus, remove_shorter_than=3, remove_numbers=True)\n",
        "    return corpus"
      ],
      "metadata": {
        "colab": {
          "base_uri": "https://localhost:8080/"
        },
        "id": "7DGLLqsLv6Gh",
        "outputId": "71fb2e58-e816-4e42-83df-60e38c787a01"
      },
      "execution_count": 76,
      "outputs": [
        {
          "output_type": "stream",
          "name": "stderr",
          "text": [
            "/usr/local/lib/python3.10/dist-packages/ipykernel/ipkernel.py:283: DeprecationWarning: `should_run_async` will not call `transform_cell` automatically in the future. Please pass the result to `transformed_cell` argument and any exception that happen during thetransform in `preprocessing_exc_tuple` in IPython 7.17 and above.\n",
            "  and should_run_async(code)\n"
          ]
        }
      ]
    },
    {
      "cell_type": "code",
      "source": [
        "# REDUCED_REVIEWS_FILE = \"drive/MyDrive/MSDS_marketing_text_analytics/reviews_Clothing_Shoes_and_Jewelry_5.json.gz\"\n",
        "FULL_REVIEWS_FILE = \"drive/MyDrive/MSDS_marketing_text_analytics/reviews_Clothing_Shoes_and_Jewelry.json.gz\"\n",
        "\n",
        "reviews = []\n",
        "with gzip.open(FULL_REVIEWS_FILE) as f:\n",
        "    for review in f:\n",
        "        data = json.loads(review)\n",
        "        if data[\"asin\"] in best_asins:\n",
        "            text = data[\"reviewText\"]\n",
        "            if text and len(text) > 3:\n",
        "                reviews.append(text)\n",
        "        if len(reviews) >= 1000:\n",
        "            break"
      ],
      "metadata": {
        "colab": {
          "base_uri": "https://localhost:8080/"
        },
        "id": "SFGgMkKzwCN4",
        "outputId": "f8487d9f-815b-4277-fea4-873637f20d3a"
      },
      "execution_count": 77,
      "outputs": [
        {
          "output_type": "stream",
          "name": "stderr",
          "text": [
            "/usr/local/lib/python3.10/dist-packages/ipykernel/ipkernel.py:283: DeprecationWarning: `should_run_async` will not call `transform_cell` automatically in the future. Please pass the result to `transformed_cell` argument and any exception that happen during thetransform in `preprocessing_exc_tuple` in IPython 7.17 and above.\n",
            "  and should_run_async(code)\n"
          ]
        }
      ]
    },
    {
      "cell_type": "markdown",
      "source": [
        "## Inspect a Few Reviews"
      ],
      "metadata": {
        "id": "8fWS7liFwmy7"
      }
    },
    {
      "cell_type": "code",
      "source": [
        "len(reviews)"
      ],
      "metadata": {
        "colab": {
          "base_uri": "https://localhost:8080/"
        },
        "id": "-Cy5Z9wYx0t4",
        "outputId": "828fa2e5-ee21-4fa7-d926-96197e643867"
      },
      "execution_count": 78,
      "outputs": [
        {
          "output_type": "stream",
          "name": "stderr",
          "text": [
            "/usr/local/lib/python3.10/dist-packages/ipykernel/ipkernel.py:283: DeprecationWarning: `should_run_async` will not call `transform_cell` automatically in the future. Please pass the result to `transformed_cell` argument and any exception that happen during thetransform in `preprocessing_exc_tuple` in IPython 7.17 and above.\n",
            "  and should_run_async(code)\n"
          ]
        },
        {
          "output_type": "execute_result",
          "data": {
            "text/plain": [
              "1000"
            ]
          },
          "metadata": {},
          "execution_count": 78
        }
      ]
    },
    {
      "cell_type": "code",
      "source": [
        "for i, review in enumerate(reviews[:5]):\n",
        "    print(i, review[:80])"
      ],
      "metadata": {
        "colab": {
          "base_uri": "https://localhost:8080/"
        },
        "id": "P4olWYVywlFi",
        "outputId": "a3903808-e9fa-444b-fc54-7ca8c664e12d"
      },
      "execution_count": 80,
      "outputs": [
        {
          "output_type": "stream",
          "name": "stdout",
          "text": [
            "0 Just as expected. This pair is perfect for work and are very comfortable. Great \n",
            "1 Too tight which makr it uncomfortable, I think the size may not be accurate. Est\n",
            "2 They seem like super-cheap Chinese shoes. Not usual Nike quality. First of all, \n",
            "3 They are very comfortable and I've gotten lots of compliments from people. If yo\n",
            "4 Normally my friend wears a size 11, so I bought these the same size even though \n"
          ]
        },
        {
          "output_type": "stream",
          "name": "stderr",
          "text": [
            "/usr/local/lib/python3.10/dist-packages/ipykernel/ipkernel.py:283: DeprecationWarning: `should_run_async` will not call `transform_cell` automatically in the future. Please pass the result to `transformed_cell` argument and any exception that happen during thetransform in `preprocessing_exc_tuple` in IPython 7.17 and above.\n",
            "  and should_run_async(code)\n"
          ]
        }
      ]
    },
    {
      "cell_type": "code",
      "source": [
        "# Save review text as json for reference/checkpoint\n",
        "with open(f\"{folder_path}/NikeSneaker_TopReviews_Text.jsonl\", \"w\") as top_reviews_text:\n",
        "    for i, review in enumerate(reviews):\n",
        "        top_reviews_text.write(f\"{i}\\t{review}\\n\")\n",
        ""
      ],
      "metadata": {
        "id": "CW41SDIix9Hu"
      },
      "execution_count": 48,
      "outputs": []
    },
    {
      "cell_type": "markdown",
      "source": [
        "# Model Building\n",
        "\n",
        "Now that the data is prepared, time to preprocess the reviews and train a model."
      ],
      "metadata": {
        "id": "utNUURjcvGBT"
      }
    },
    {
      "cell_type": "markdown",
      "source": [
        "### Build Document Corpus"
      ],
      "metadata": {
        "id": "V7ja-vYJw1Y0"
      }
    },
    {
      "cell_type": "code",
      "source": [
        "reviews_corpus = build_corpus(reviews)"
      ],
      "metadata": {
        "colab": {
          "base_uri": "https://localhost:8080/"
        },
        "id": "k449-F2Bw079",
        "outputId": "b106de11-b80a-4052-c7de-46a570e4be10"
      },
      "execution_count": 81,
      "outputs": [
        {
          "output_type": "stream",
          "name": "stderr",
          "text": [
            "/usr/local/lib/python3.10/dist-packages/ipykernel/ipkernel.py:283: DeprecationWarning: `should_run_async` will not call `transform_cell` automatically in the future. Please pass the result to `transformed_cell` argument and any exception that happen during thetransform in `preprocessing_exc_tuple` in IPython 7.17 and above.\n",
            "  and should_run_async(code)\n"
          ]
        }
      ]
    },
    {
      "cell_type": "code",
      "source": [
        "dtms = {\n",
        "    \"reviews_corpus\": dtm(reviews_corpus)\n",
        "}\n",
        "lda_params = {\n",
        "    'n_topics': 10,\n",
        "    'eta': .01,\n",
        "    'n_iter': 10,\n",
        "    'random_state': 1234,\n",
        "    'alpha': 1/16\n",
        "}\n",
        "\n",
        "models = compute_models_parallel(dtms, constant_parameters=lda_params)"
      ],
      "metadata": {
        "colab": {
          "base_uri": "https://localhost:8080/"
        },
        "id": "z6ZgDQd6w7HO",
        "outputId": "104c5059-8efb-4b0e-d6bd-d54c9c20caf3"
      },
      "execution_count": 82,
      "outputs": [
        {
          "output_type": "stream",
          "name": "stderr",
          "text": [
            "/usr/local/lib/python3.10/dist-packages/ipykernel/ipkernel.py:283: DeprecationWarning: `should_run_async` will not call `transform_cell` automatically in the future. Please pass the result to `transformed_cell` argument and any exception that happen during thetransform in `preprocessing_exc_tuple` in IPython 7.17 and above.\n",
            "  and should_run_async(code)\n",
            "WARNING:lda:all zero row in document-term matrix found\n"
          ]
        }
      ]
    },
    {
      "cell_type": "markdown",
      "source": [
        "### View the Topics"
      ],
      "metadata": {
        "id": "_zJrwnGnxCMs"
      }
    },
    {
      "cell_type": "code",
      "source": [
        "model = models[\"reviews_corpus\"][0][1]\n",
        "print_ldamodel_topic_words(model.topic_word_, vocabulary(reviews_corpus), top_n=5)"
      ],
      "metadata": {
        "colab": {
          "base_uri": "https://localhost:8080/"
        },
        "id": "Ozz_bELKxBvv",
        "outputId": "2d581616-00eb-43a7-ff84-8730a900f3d5"
      },
      "execution_count": 83,
      "outputs": [
        {
          "output_type": "stream",
          "name": "stdout",
          "text": [
            "topic_1\n",
            "> #1. shoe (0.043356)\n",
            "> #2. wear (0.033855)\n",
            "> #3. fit (0.028510)\n",
            "> #4. foot (0.023760)\n",
            "> #5. size (0.021384)\n",
            "topic_2\n",
            "> #1. size (0.030632)\n",
            "> #2. shoe (0.030007)\n",
            "> #3. great (0.028757)\n",
            "> #4. comfortable (0.028132)\n",
            "> #5. order (0.027507)\n",
            "topic_3\n",
            "> #1. foot (0.035226)\n",
            "> #2. nike (0.025988)\n",
            "> #3. size (0.024256)\n",
            "> #4. pair (0.022524)\n",
            "> #5. flop (0.022524)\n",
            "topic_4\n",
            "> #1. sandal (0.038317)\n",
            "> #2. nike (0.034354)\n",
            "> #3. wear (0.030391)\n",
            "> #4. size (0.027749)\n",
            "> #5. buy (0.023785)\n",
            "topic_5\n",
            "> #1. shoe (0.067866)\n",
            "> #2. great (0.049454)\n",
            "> #3. buy (0.040511)\n",
            "> #4. comfortable (0.034199)\n",
            "> #5. love (0.031568)\n",
            "topic_6\n",
            "> #1. shoe (0.056975)\n",
            "> #2. foot (0.048052)\n",
            "> #3. size (0.039130)\n",
            "> #4. good (0.038443)\n",
            "> #5. fit (0.037757)\n",
            "topic_7\n",
            "> #1. shoe (0.042908)\n",
            "> #2. fit (0.033844)\n",
            "> #3. wear (0.027197)\n",
            "> #4. buy (0.027197)\n",
            "> #5. comfortable (0.025384)\n",
            "topic_8\n",
            "> #1. shoe (0.072690)\n",
            "> #2. buy (0.030082)\n",
            "> #3. look (0.028203)\n",
            "> #4. wear (0.027576)\n",
            "> #5. great (0.027576)\n",
            "topic_9\n",
            "> #1. shoe (0.066271)\n",
            "> #2. great (0.031235)\n",
            "> #3. fit (0.028188)\n",
            "> #4. comfortable (0.022095)\n",
            "> #5. nice (0.020572)\n",
            "topic_10\n",
            "> #1. foot (0.032042)\n",
            "> #2. sandal (0.025774)\n",
            "> #3. size (0.024381)\n",
            "> #4. like (0.024381)\n",
            "> #5. shoe (0.023685)\n"
          ]
        },
        {
          "output_type": "stream",
          "name": "stderr",
          "text": [
            "/usr/local/lib/python3.10/dist-packages/ipykernel/ipkernel.py:283: DeprecationWarning: `should_run_async` will not call `transform_cell` automatically in the future. Please pass the result to `transformed_cell` argument and any exception that happen during thetransform in `preprocessing_exc_tuple` in IPython 7.17 and above.\n",
            "  and should_run_async(code)\n"
          ]
        }
      ]
    },
    {
      "cell_type": "code",
      "source": [
        "# Save model for reference\n",
        "import pickle\n",
        "from tmtoolkit.topicmod.model_io import save_ldamodel_to_pickle\n",
        "\n",
        "with open(f\"{folder_path}/NikeShoeReviews_model.p\", \"wb\") as modelfile:\n",
        "    save_ldamodel_to_pickle(modelfile, model, vocabulary(reviews_corpus), reviews_corpus.doc_labels, dtm=dtm(reviews_corpus))\n",
        "\n",
        "with open(f\"{folder_path}/NikeShoeReviews.p\", \"wb\") as reviewsfile:\n",
        "    pickle.dump(reviews, reviewsfile)"
      ],
      "metadata": {
        "colab": {
          "base_uri": "https://localhost:8080/"
        },
        "id": "xwnj-IZ70jm4",
        "outputId": "41da226e-1490-4a91-cfac-1852d2e036cb"
      },
      "execution_count": 84,
      "outputs": [
        {
          "output_type": "stream",
          "name": "stderr",
          "text": [
            "/usr/local/lib/python3.10/dist-packages/ipykernel/ipkernel.py:283: DeprecationWarning: `should_run_async` will not call `transform_cell` automatically in the future. Please pass the result to `transformed_cell` argument and any exception that happen during thetransform in `preprocessing_exc_tuple` in IPython 7.17 and above.\n",
            "  and should_run_async(code)\n"
          ]
        }
      ]
    },
    {
      "cell_type": "markdown",
      "source": [
        "# Classification and Topic Analysis"
      ],
      "metadata": {
        "id": "Czgya4-W05Bb"
      }
    },
    {
      "cell_type": "code",
      "source": [
        "# Install requirements\n",
        "import numpy as np\n",
        "import pickle\n",
        "\n",
        "try:\n",
        "  import pyLDAvis\n",
        "except:\n",
        "  !pip install pyLDAvis==3.4.1\n",
        "  import pyLDAvis\n",
        "\n",
        "try:\n",
        "  import tmtoolkit\n",
        "except:\n",
        "  !pip install tmtoolkit\n",
        "  import tmtoolkit\n",
        "\n",
        "try:\n",
        "  from lda import LDA\n",
        "except:\n",
        "  !pip install lda\n",
        "  from lda import LDA\n",
        "\n",
        "from tmtoolkit.bow.bow_stats import doc_lengths\n",
        "from tmtoolkit.topicmod.model_stats import generate_topic_labels_from_top_words\n",
        "from tmtoolkit.topicmod.model_io import ldamodel_top_doc_topics\n",
        "from tmtoolkit.topicmod.model_io import load_ldamodel_from_pickle\n",
        "from tmtoolkit.topicmod.visualize import parameters_for_ldavis"
      ],
      "metadata": {
        "colab": {
          "base_uri": "https://localhost:8080/"
        },
        "collapsed": true,
        "id": "iOy-DFkrvMLH",
        "outputId": "90ca1369-6201-4767-ab9e-efb3103d409b"
      },
      "execution_count": 85,
      "outputs": [
        {
          "output_type": "stream",
          "name": "stderr",
          "text": [
            "/usr/local/lib/python3.10/dist-packages/ipykernel/ipkernel.py:283: DeprecationWarning: `should_run_async` will not call `transform_cell` automatically in the future. Please pass the result to `transformed_cell` argument and any exception that happen during thetransform in `preprocessing_exc_tuple` in IPython 7.17 and above.\n",
            "  and should_run_async(code)\n"
          ]
        }
      ]
    },
    {
      "cell_type": "code",
      "source": [
        "# prompt: Ensure matplotlib version 3.1.3 is installed. Restart the kernel if a different version is installed after installing.\n",
        "# !pip install matplotlib==3.1.3"
      ],
      "metadata": {
        "colab": {
          "base_uri": "https://localhost:8080/"
        },
        "id": "Zi4fBu47ils1",
        "outputId": "64ee3ad1-d982-4c3b-d403-5a92b1a071ed"
      },
      "execution_count": 86,
      "outputs": [
        {
          "output_type": "stream",
          "name": "stderr",
          "text": [
            "/usr/local/lib/python3.10/dist-packages/ipykernel/ipkernel.py:283: DeprecationWarning: `should_run_async` will not call `transform_cell` automatically in the future. Please pass the result to `transformed_cell` argument and any exception that happen during thetransform in `preprocessing_exc_tuple` in IPython 7.17 and above.\n",
            "  and should_run_async(code)\n"
          ]
        }
      ]
    },
    {
      "cell_type": "markdown",
      "source": [
        "## Classification"
      ],
      "metadata": {
        "id": "nYEPjiCWPnap"
      }
    },
    {
      "cell_type": "markdown",
      "source": [
        "Generate topic labels."
      ],
      "metadata": {
        "id": "PMg0V5QyR0R5"
      }
    },
    {
      "cell_type": "code",
      "source": [
        "from tmtoolkit.corpus import dtm\n",
        "vocab = vocabulary(reviews_corpus)\n",
        "dtm = dtm(reviews_corpus)\n",
        "doc_labels = reviews_corpus.doc_labels\n",
        "\n",
        "topic_labels = generate_topic_labels_from_top_words(\n",
        "    model.topic_word_,\n",
        "    model.doc_topic_,\n",
        "    doc_lengths(dtm),\n",
        "    np.array(vocab),\n",
        "    n_words=5\n",
        ")"
      ],
      "metadata": {
        "id": "wUThn--etn-n",
        "colab": {
          "base_uri": "https://localhost:8080/"
        },
        "outputId": "b48a890a-f37b-4291-b50d-93a16406223d"
      },
      "execution_count": 90,
      "outputs": [
        {
          "output_type": "stream",
          "name": "stderr",
          "text": [
            "/usr/local/lib/python3.10/dist-packages/ipykernel/ipkernel.py:283: DeprecationWarning: `should_run_async` will not call `transform_cell` automatically in the future. Please pass the result to `transformed_cell` argument and any exception that happen during thetransform in `preprocessing_exc_tuple` in IPython 7.17 and above.\n",
            "  and should_run_async(code)\n"
          ]
        }
      ]
    },
    {
      "cell_type": "code",
      "source": [
        "topic_labels"
      ],
      "metadata": {
        "id": "Ckw-6lOcAGBe",
        "colab": {
          "base_uri": "https://localhost:8080/"
        },
        "outputId": "8026c903-ea92-4643-8d35-3b46520381c6"
      },
      "execution_count": 91,
      "outputs": [
        {
          "output_type": "stream",
          "name": "stderr",
          "text": [
            "/usr/local/lib/python3.10/dist-packages/ipykernel/ipkernel.py:283: DeprecationWarning: `should_run_async` will not call `transform_cell` automatically in the future. Please pass the result to `transformed_cell` argument and any exception that happen during thetransform in `preprocessing_exc_tuple` in IPython 7.17 and above.\n",
            "  and should_run_async(code)\n"
          ]
        },
        {
          "output_type": "execute_result",
          "data": {
            "text/plain": [
              "array(['1_shoe_wear_fit_foot_size', '2_size_shoe_great_comfortable_order',\n",
              "       '3_foot_nike_size_pair_flop', '4_sandal_nike_wear_size_buy',\n",
              "       '5_shoe_great_buy_comfortable_love', '6_shoe_foot_size_good_fit',\n",
              "       '7_shoe_fit_wear_buy_comfortable', '8_shoe_buy_look_wear_great',\n",
              "       '9_shoe_great_fit_comfortable_nice',\n",
              "       '10_foot_sandal_size_like_shoe'], dtype='<U35')"
            ]
          },
          "metadata": {},
          "execution_count": 91
        }
      ]
    },
    {
      "cell_type": "markdown",
      "source": [
        "Document classifications can be retrieved via [ldamodel_top_doc_topics](https://tmtoolkit.readthedocs.io/en/latest/api.html?highlight=ldamodel_top_doc_topics#tmtoolkit.topicmod.model_io.ldamodel_top_doc_topics)"
      ],
      "metadata": {
        "id": "s5HnccNyT3Ix"
      }
    },
    {
      "cell_type": "code",
      "source": [
        "doc_topic = model.doc_topic_\n",
        "documentclassifications = ldamodel_top_doc_topics(doc_topic, doc_labels, top_n=2, topic_labels=topic_labels)"
      ],
      "metadata": {
        "id": "PdF3sNdNA0TS",
        "colab": {
          "base_uri": "https://localhost:8080/"
        },
        "outputId": "d54f85ed-678d-44dd-95d7-6249cbc59b14"
      },
      "execution_count": 92,
      "outputs": [
        {
          "output_type": "stream",
          "name": "stderr",
          "text": [
            "/usr/local/lib/python3.10/dist-packages/ipykernel/ipkernel.py:283: DeprecationWarning: `should_run_async` will not call `transform_cell` automatically in the future. Please pass the result to `transformed_cell` argument and any exception that happen during thetransform in `preprocessing_exc_tuple` in IPython 7.17 and above.\n",
            "  and should_run_async(code)\n"
          ]
        }
      ]
    },
    {
      "cell_type": "code",
      "source": [
        "documentclassifications.head()"
      ],
      "metadata": {
        "id": "zlzDDyEdDC4A",
        "colab": {
          "base_uri": "https://localhost:8080/",
          "height": 293
        },
        "outputId": "2cab40ed-0e96-44d1-a15d-7ba943c51815"
      },
      "execution_count": 93,
      "outputs": [
        {
          "output_type": "stream",
          "name": "stderr",
          "text": [
            "/usr/local/lib/python3.10/dist-packages/ipykernel/ipkernel.py:283: DeprecationWarning: `should_run_async` will not call `transform_cell` automatically in the future. Please pass the result to `transformed_cell` argument and any exception that happen during thetransform in `preprocessing_exc_tuple` in IPython 7.17 and above.\n",
            "  and should_run_async(code)\n"
          ]
        },
        {
          "output_type": "execute_result",
          "data": {
            "text/plain": [
              "                                              rank_1  \\\n",
              "document                                               \n",
              "0               4_sandal_nike_wear_size_buy (0.6647)   \n",
              "1             10_foot_sandal_size_like_shoe (0.6935)   \n",
              "2                3_foot_nike_size_pair_flop (0.4317)   \n",
              "3         5_shoe_great_buy_comfortable_love (0.5594)   \n",
              "4         5_shoe_great_buy_comfortable_love (0.4394)   \n",
              "\n",
              "                                              rank_2  \n",
              "document                                              \n",
              "0                3_foot_nike_size_pair_flop (0.1941)  \n",
              "1         9_shoe_great_fit_comfortable_nice (0.1774)  \n",
              "2             10_foot_sandal_size_like_shoe (0.1976)  \n",
              "3                 8_shoe_buy_look_wear_great (0.401)  \n",
              "4                 6_shoe_foot_size_good_fit (0.3909)  "
            ],
            "text/html": [
              "\n",
              "  <div id=\"df-ac01289a-591e-48ff-a81f-30c29214f89d\" class=\"colab-df-container\">\n",
              "    <div>\n",
              "<style scoped>\n",
              "    .dataframe tbody tr th:only-of-type {\n",
              "        vertical-align: middle;\n",
              "    }\n",
              "\n",
              "    .dataframe tbody tr th {\n",
              "        vertical-align: top;\n",
              "    }\n",
              "\n",
              "    .dataframe thead th {\n",
              "        text-align: right;\n",
              "    }\n",
              "</style>\n",
              "<table border=\"1\" class=\"dataframe\">\n",
              "  <thead>\n",
              "    <tr style=\"text-align: right;\">\n",
              "      <th></th>\n",
              "      <th>rank_1</th>\n",
              "      <th>rank_2</th>\n",
              "    </tr>\n",
              "    <tr>\n",
              "      <th>document</th>\n",
              "      <th></th>\n",
              "      <th></th>\n",
              "    </tr>\n",
              "  </thead>\n",
              "  <tbody>\n",
              "    <tr>\n",
              "      <th>0</th>\n",
              "      <td>4_sandal_nike_wear_size_buy (0.6647)</td>\n",
              "      <td>3_foot_nike_size_pair_flop (0.1941)</td>\n",
              "    </tr>\n",
              "    <tr>\n",
              "      <th>1</th>\n",
              "      <td>10_foot_sandal_size_like_shoe (0.6935)</td>\n",
              "      <td>9_shoe_great_fit_comfortable_nice (0.1774)</td>\n",
              "    </tr>\n",
              "    <tr>\n",
              "      <th>2</th>\n",
              "      <td>3_foot_nike_size_pair_flop (0.4317)</td>\n",
              "      <td>10_foot_sandal_size_like_shoe (0.1976)</td>\n",
              "    </tr>\n",
              "    <tr>\n",
              "      <th>3</th>\n",
              "      <td>5_shoe_great_buy_comfortable_love (0.5594)</td>\n",
              "      <td>8_shoe_buy_look_wear_great (0.401)</td>\n",
              "    </tr>\n",
              "    <tr>\n",
              "      <th>4</th>\n",
              "      <td>5_shoe_great_buy_comfortable_love (0.4394)</td>\n",
              "      <td>6_shoe_foot_size_good_fit (0.3909)</td>\n",
              "    </tr>\n",
              "  </tbody>\n",
              "</table>\n",
              "</div>\n",
              "    <div class=\"colab-df-buttons\">\n",
              "\n",
              "  <div class=\"colab-df-container\">\n",
              "    <button class=\"colab-df-convert\" onclick=\"convertToInteractive('df-ac01289a-591e-48ff-a81f-30c29214f89d')\"\n",
              "            title=\"Convert this dataframe to an interactive table.\"\n",
              "            style=\"display:none;\">\n",
              "\n",
              "  <svg xmlns=\"http://www.w3.org/2000/svg\" height=\"24px\" viewBox=\"0 -960 960 960\">\n",
              "    <path d=\"M120-120v-720h720v720H120Zm60-500h600v-160H180v160Zm220 220h160v-160H400v160Zm0 220h160v-160H400v160ZM180-400h160v-160H180v160Zm440 0h160v-160H620v160ZM180-180h160v-160H180v160Zm440 0h160v-160H620v160Z\"/>\n",
              "  </svg>\n",
              "    </button>\n",
              "\n",
              "  <style>\n",
              "    .colab-df-container {\n",
              "      display:flex;\n",
              "      gap: 12px;\n",
              "    }\n",
              "\n",
              "    .colab-df-convert {\n",
              "      background-color: #E8F0FE;\n",
              "      border: none;\n",
              "      border-radius: 50%;\n",
              "      cursor: pointer;\n",
              "      display: none;\n",
              "      fill: #1967D2;\n",
              "      height: 32px;\n",
              "      padding: 0 0 0 0;\n",
              "      width: 32px;\n",
              "    }\n",
              "\n",
              "    .colab-df-convert:hover {\n",
              "      background-color: #E2EBFA;\n",
              "      box-shadow: 0px 1px 2px rgba(60, 64, 67, 0.3), 0px 1px 3px 1px rgba(60, 64, 67, 0.15);\n",
              "      fill: #174EA6;\n",
              "    }\n",
              "\n",
              "    .colab-df-buttons div {\n",
              "      margin-bottom: 4px;\n",
              "    }\n",
              "\n",
              "    [theme=dark] .colab-df-convert {\n",
              "      background-color: #3B4455;\n",
              "      fill: #D2E3FC;\n",
              "    }\n",
              "\n",
              "    [theme=dark] .colab-df-convert:hover {\n",
              "      background-color: #434B5C;\n",
              "      box-shadow: 0px 1px 3px 1px rgba(0, 0, 0, 0.15);\n",
              "      filter: drop-shadow(0px 1px 2px rgba(0, 0, 0, 0.3));\n",
              "      fill: #FFFFFF;\n",
              "    }\n",
              "  </style>\n",
              "\n",
              "    <script>\n",
              "      const buttonEl =\n",
              "        document.querySelector('#df-ac01289a-591e-48ff-a81f-30c29214f89d button.colab-df-convert');\n",
              "      buttonEl.style.display =\n",
              "        google.colab.kernel.accessAllowed ? 'block' : 'none';\n",
              "\n",
              "      async function convertToInteractive(key) {\n",
              "        const element = document.querySelector('#df-ac01289a-591e-48ff-a81f-30c29214f89d');\n",
              "        const dataTable =\n",
              "          await google.colab.kernel.invokeFunction('convertToInteractive',\n",
              "                                                    [key], {});\n",
              "        if (!dataTable) return;\n",
              "\n",
              "        const docLinkHtml = 'Like what you see? Visit the ' +\n",
              "          '<a target=\"_blank\" href=https://colab.research.google.com/notebooks/data_table.ipynb>data table notebook</a>'\n",
              "          + ' to learn more about interactive tables.';\n",
              "        element.innerHTML = '';\n",
              "        dataTable['output_type'] = 'display_data';\n",
              "        await google.colab.output.renderOutput(dataTable, element);\n",
              "        const docLink = document.createElement('div');\n",
              "        docLink.innerHTML = docLinkHtml;\n",
              "        element.appendChild(docLink);\n",
              "      }\n",
              "    </script>\n",
              "  </div>\n",
              "\n",
              "\n",
              "<div id=\"df-e4fcc110-5e0e-4125-8d4e-7451864e9205\">\n",
              "  <button class=\"colab-df-quickchart\" onclick=\"quickchart('df-e4fcc110-5e0e-4125-8d4e-7451864e9205')\"\n",
              "            title=\"Suggest charts\"\n",
              "            style=\"display:none;\">\n",
              "\n",
              "<svg xmlns=\"http://www.w3.org/2000/svg\" height=\"24px\"viewBox=\"0 0 24 24\"\n",
              "     width=\"24px\">\n",
              "    <g>\n",
              "        <path d=\"M19 3H5c-1.1 0-2 .9-2 2v14c0 1.1.9 2 2 2h14c1.1 0 2-.9 2-2V5c0-1.1-.9-2-2-2zM9 17H7v-7h2v7zm4 0h-2V7h2v10zm4 0h-2v-4h2v4z\"/>\n",
              "    </g>\n",
              "</svg>\n",
              "  </button>\n",
              "\n",
              "<style>\n",
              "  .colab-df-quickchart {\n",
              "      --bg-color: #E8F0FE;\n",
              "      --fill-color: #1967D2;\n",
              "      --hover-bg-color: #E2EBFA;\n",
              "      --hover-fill-color: #174EA6;\n",
              "      --disabled-fill-color: #AAA;\n",
              "      --disabled-bg-color: #DDD;\n",
              "  }\n",
              "\n",
              "  [theme=dark] .colab-df-quickchart {\n",
              "      --bg-color: #3B4455;\n",
              "      --fill-color: #D2E3FC;\n",
              "      --hover-bg-color: #434B5C;\n",
              "      --hover-fill-color: #FFFFFF;\n",
              "      --disabled-bg-color: #3B4455;\n",
              "      --disabled-fill-color: #666;\n",
              "  }\n",
              "\n",
              "  .colab-df-quickchart {\n",
              "    background-color: var(--bg-color);\n",
              "    border: none;\n",
              "    border-radius: 50%;\n",
              "    cursor: pointer;\n",
              "    display: none;\n",
              "    fill: var(--fill-color);\n",
              "    height: 32px;\n",
              "    padding: 0;\n",
              "    width: 32px;\n",
              "  }\n",
              "\n",
              "  .colab-df-quickchart:hover {\n",
              "    background-color: var(--hover-bg-color);\n",
              "    box-shadow: 0 1px 2px rgba(60, 64, 67, 0.3), 0 1px 3px 1px rgba(60, 64, 67, 0.15);\n",
              "    fill: var(--button-hover-fill-color);\n",
              "  }\n",
              "\n",
              "  .colab-df-quickchart-complete:disabled,\n",
              "  .colab-df-quickchart-complete:disabled:hover {\n",
              "    background-color: var(--disabled-bg-color);\n",
              "    fill: var(--disabled-fill-color);\n",
              "    box-shadow: none;\n",
              "  }\n",
              "\n",
              "  .colab-df-spinner {\n",
              "    border: 2px solid var(--fill-color);\n",
              "    border-color: transparent;\n",
              "    border-bottom-color: var(--fill-color);\n",
              "    animation:\n",
              "      spin 1s steps(1) infinite;\n",
              "  }\n",
              "\n",
              "  @keyframes spin {\n",
              "    0% {\n",
              "      border-color: transparent;\n",
              "      border-bottom-color: var(--fill-color);\n",
              "      border-left-color: var(--fill-color);\n",
              "    }\n",
              "    20% {\n",
              "      border-color: transparent;\n",
              "      border-left-color: var(--fill-color);\n",
              "      border-top-color: var(--fill-color);\n",
              "    }\n",
              "    30% {\n",
              "      border-color: transparent;\n",
              "      border-left-color: var(--fill-color);\n",
              "      border-top-color: var(--fill-color);\n",
              "      border-right-color: var(--fill-color);\n",
              "    }\n",
              "    40% {\n",
              "      border-color: transparent;\n",
              "      border-right-color: var(--fill-color);\n",
              "      border-top-color: var(--fill-color);\n",
              "    }\n",
              "    60% {\n",
              "      border-color: transparent;\n",
              "      border-right-color: var(--fill-color);\n",
              "    }\n",
              "    80% {\n",
              "      border-color: transparent;\n",
              "      border-right-color: var(--fill-color);\n",
              "      border-bottom-color: var(--fill-color);\n",
              "    }\n",
              "    90% {\n",
              "      border-color: transparent;\n",
              "      border-bottom-color: var(--fill-color);\n",
              "    }\n",
              "  }\n",
              "</style>\n",
              "\n",
              "  <script>\n",
              "    async function quickchart(key) {\n",
              "      const quickchartButtonEl =\n",
              "        document.querySelector('#' + key + ' button');\n",
              "      quickchartButtonEl.disabled = true;  // To prevent multiple clicks.\n",
              "      quickchartButtonEl.classList.add('colab-df-spinner');\n",
              "      try {\n",
              "        const charts = await google.colab.kernel.invokeFunction(\n",
              "            'suggestCharts', [key], {});\n",
              "      } catch (error) {\n",
              "        console.error('Error during call to suggestCharts:', error);\n",
              "      }\n",
              "      quickchartButtonEl.classList.remove('colab-df-spinner');\n",
              "      quickchartButtonEl.classList.add('colab-df-quickchart-complete');\n",
              "    }\n",
              "    (() => {\n",
              "      let quickchartButtonEl =\n",
              "        document.querySelector('#df-e4fcc110-5e0e-4125-8d4e-7451864e9205 button');\n",
              "      quickchartButtonEl.style.display =\n",
              "        google.colab.kernel.accessAllowed ? 'block' : 'none';\n",
              "    })();\n",
              "  </script>\n",
              "</div>\n",
              "\n",
              "    </div>\n",
              "  </div>\n"
            ],
            "application/vnd.google.colaboratory.intrinsic+json": {
              "type": "dataframe",
              "variable_name": "documentclassifications",
              "summary": "{\n  \"name\": \"documentclassifications\",\n  \"rows\": 1000,\n  \"fields\": [\n    {\n      \"column\": \"document\",\n      \"properties\": {\n        \"dtype\": \"number\",\n        \"std\": 288,\n        \"min\": 0,\n        \"max\": 999,\n        \"num_unique_values\": 1000,\n        \"samples\": [\n          521,\n          737,\n          740\n        ],\n        \"semantic_type\": \"\",\n        \"description\": \"\"\n      }\n    },\n    {\n      \"column\": \"rank_1\",\n      \"properties\": {\n        \"dtype\": \"string\",\n        \"num_unique_values\": 719,\n        \"samples\": [\n          \"10_foot_sandal_size_like_shoe (0.6651)\",\n          \"3_foot_nike_size_pair_flop (0.4802)\",\n          \"9_shoe_great_fit_comfortable_nice (0.4653)\"\n        ],\n        \"semantic_type\": \"\",\n        \"description\": \"\"\n      }\n    },\n    {\n      \"column\": \"rank_2\",\n      \"properties\": {\n        \"dtype\": \"string\",\n        \"num_unique_values\": 605,\n        \"samples\": [\n          \"7_shoe_fit_wear_buy_comfortable (0.1506)\",\n          \"10_foot_sandal_size_like_shoe (0.324)\",\n          \"10_foot_sandal_size_like_shoe (0.2305)\"\n        ],\n        \"semantic_type\": \"\",\n        \"description\": \"\"\n      }\n    }\n  ]\n}"
            }
          },
          "metadata": {},
          "execution_count": 93
        }
      ]
    },
    {
      "cell_type": "markdown",
      "source": [
        "### Spot Checking Review Classification\n",
        "\n"
      ],
      "metadata": {
        "id": "ZqY9TMqAPgXC"
      }
    },
    {
      "cell_type": "markdown",
      "source": [
        "Add the corpus text to compare topic results."
      ],
      "metadata": {
        "id": "b5LXvvWDULps"
      }
    },
    {
      "cell_type": "code",
      "source": [
        "documentclassifications[\"text\"] = reviews\n",
        "documentclassifications.sample(5)"
      ],
      "metadata": {
        "id": "sejQHEKPE9YO",
        "colab": {
          "base_uri": "https://localhost:8080/",
          "height": 404
        },
        "outputId": "f3f83fec-e6fc-416e-ea4e-7b5bc2575fb7"
      },
      "execution_count": 97,
      "outputs": [
        {
          "output_type": "stream",
          "name": "stderr",
          "text": [
            "/usr/local/lib/python3.10/dist-packages/ipykernel/ipkernel.py:283: DeprecationWarning: `should_run_async` will not call `transform_cell` automatically in the future. Please pass the result to `transformed_cell` argument and any exception that happen during thetransform in `preprocessing_exc_tuple` in IPython 7.17 and above.\n",
            "  and should_run_async(code)\n"
          ]
        },
        {
          "output_type": "execute_result",
          "data": {
            "text/plain": [
              "                                                rank_1  \\\n",
              "document                                                 \n",
              "464             10_foot_sandal_size_like_shoe (0.6386)   \n",
              "935                   1_shoe_wear_fit_foot_size (0.58)   \n",
              "815                 1_shoe_wear_fit_foot_size (0.3551)   \n",
              "701           7_shoe_fit_wear_buy_comfortable (0.6132)   \n",
              "145       2_size_shoe_great_comfortable_order (0.4329)   \n",
              "\n",
              "                                            rank_2  \\\n",
              "document                                             \n",
              "464       7_shoe_fit_wear_buy_comfortable (0.1634)   \n",
              "935          10_foot_sandal_size_like_shoe (0.388)   \n",
              "815       7_shoe_fit_wear_buy_comfortable (0.2391)   \n",
              "701         10_foot_sandal_size_like_shoe (0.1604)   \n",
              "145       7_shoe_fit_wear_buy_comfortable (0.2181)   \n",
              "\n",
              "                                                       text  \n",
              "document                                                     \n",
              "464       These are very comfy and I like them a lot. Th...  \n",
              "935       Love these slides! I've had 2 different pair o...  \n",
              "815       i have had this type thong before , just neede...  \n",
              "701       I bought this for my stepson. He seems to be h...  \n",
              "145       Got em for my hubbys birthday. He loves the da...  "
            ],
            "text/html": [
              "\n",
              "  <div id=\"df-301bec69-9a23-4173-b09f-fc31ee78ba71\" class=\"colab-df-container\">\n",
              "    <div>\n",
              "<style scoped>\n",
              "    .dataframe tbody tr th:only-of-type {\n",
              "        vertical-align: middle;\n",
              "    }\n",
              "\n",
              "    .dataframe tbody tr th {\n",
              "        vertical-align: top;\n",
              "    }\n",
              "\n",
              "    .dataframe thead th {\n",
              "        text-align: right;\n",
              "    }\n",
              "</style>\n",
              "<table border=\"1\" class=\"dataframe\">\n",
              "  <thead>\n",
              "    <tr style=\"text-align: right;\">\n",
              "      <th></th>\n",
              "      <th>rank_1</th>\n",
              "      <th>rank_2</th>\n",
              "      <th>text</th>\n",
              "    </tr>\n",
              "    <tr>\n",
              "      <th>document</th>\n",
              "      <th></th>\n",
              "      <th></th>\n",
              "      <th></th>\n",
              "    </tr>\n",
              "  </thead>\n",
              "  <tbody>\n",
              "    <tr>\n",
              "      <th>464</th>\n",
              "      <td>10_foot_sandal_size_like_shoe (0.6386)</td>\n",
              "      <td>7_shoe_fit_wear_buy_comfortable (0.1634)</td>\n",
              "      <td>These are very comfy and I like them a lot. Th...</td>\n",
              "    </tr>\n",
              "    <tr>\n",
              "      <th>935</th>\n",
              "      <td>1_shoe_wear_fit_foot_size (0.58)</td>\n",
              "      <td>10_foot_sandal_size_like_shoe (0.388)</td>\n",
              "      <td>Love these slides! I've had 2 different pair o...</td>\n",
              "    </tr>\n",
              "    <tr>\n",
              "      <th>815</th>\n",
              "      <td>1_shoe_wear_fit_foot_size (0.3551)</td>\n",
              "      <td>7_shoe_fit_wear_buy_comfortable (0.2391)</td>\n",
              "      <td>i have had this type thong before , just neede...</td>\n",
              "    </tr>\n",
              "    <tr>\n",
              "      <th>701</th>\n",
              "      <td>7_shoe_fit_wear_buy_comfortable (0.6132)</td>\n",
              "      <td>10_foot_sandal_size_like_shoe (0.1604)</td>\n",
              "      <td>I bought this for my stepson. He seems to be h...</td>\n",
              "    </tr>\n",
              "    <tr>\n",
              "      <th>145</th>\n",
              "      <td>2_size_shoe_great_comfortable_order (0.4329)</td>\n",
              "      <td>7_shoe_fit_wear_buy_comfortable (0.2181)</td>\n",
              "      <td>Got em for my hubbys birthday. He loves the da...</td>\n",
              "    </tr>\n",
              "  </tbody>\n",
              "</table>\n",
              "</div>\n",
              "    <div class=\"colab-df-buttons\">\n",
              "\n",
              "  <div class=\"colab-df-container\">\n",
              "    <button class=\"colab-df-convert\" onclick=\"convertToInteractive('df-301bec69-9a23-4173-b09f-fc31ee78ba71')\"\n",
              "            title=\"Convert this dataframe to an interactive table.\"\n",
              "            style=\"display:none;\">\n",
              "\n",
              "  <svg xmlns=\"http://www.w3.org/2000/svg\" height=\"24px\" viewBox=\"0 -960 960 960\">\n",
              "    <path d=\"M120-120v-720h720v720H120Zm60-500h600v-160H180v160Zm220 220h160v-160H400v160Zm0 220h160v-160H400v160ZM180-400h160v-160H180v160Zm440 0h160v-160H620v160ZM180-180h160v-160H180v160Zm440 0h160v-160H620v160Z\"/>\n",
              "  </svg>\n",
              "    </button>\n",
              "\n",
              "  <style>\n",
              "    .colab-df-container {\n",
              "      display:flex;\n",
              "      gap: 12px;\n",
              "    }\n",
              "\n",
              "    .colab-df-convert {\n",
              "      background-color: #E8F0FE;\n",
              "      border: none;\n",
              "      border-radius: 50%;\n",
              "      cursor: pointer;\n",
              "      display: none;\n",
              "      fill: #1967D2;\n",
              "      height: 32px;\n",
              "      padding: 0 0 0 0;\n",
              "      width: 32px;\n",
              "    }\n",
              "\n",
              "    .colab-df-convert:hover {\n",
              "      background-color: #E2EBFA;\n",
              "      box-shadow: 0px 1px 2px rgba(60, 64, 67, 0.3), 0px 1px 3px 1px rgba(60, 64, 67, 0.15);\n",
              "      fill: #174EA6;\n",
              "    }\n",
              "\n",
              "    .colab-df-buttons div {\n",
              "      margin-bottom: 4px;\n",
              "    }\n",
              "\n",
              "    [theme=dark] .colab-df-convert {\n",
              "      background-color: #3B4455;\n",
              "      fill: #D2E3FC;\n",
              "    }\n",
              "\n",
              "    [theme=dark] .colab-df-convert:hover {\n",
              "      background-color: #434B5C;\n",
              "      box-shadow: 0px 1px 3px 1px rgba(0, 0, 0, 0.15);\n",
              "      filter: drop-shadow(0px 1px 2px rgba(0, 0, 0, 0.3));\n",
              "      fill: #FFFFFF;\n",
              "    }\n",
              "  </style>\n",
              "\n",
              "    <script>\n",
              "      const buttonEl =\n",
              "        document.querySelector('#df-301bec69-9a23-4173-b09f-fc31ee78ba71 button.colab-df-convert');\n",
              "      buttonEl.style.display =\n",
              "        google.colab.kernel.accessAllowed ? 'block' : 'none';\n",
              "\n",
              "      async function convertToInteractive(key) {\n",
              "        const element = document.querySelector('#df-301bec69-9a23-4173-b09f-fc31ee78ba71');\n",
              "        const dataTable =\n",
              "          await google.colab.kernel.invokeFunction('convertToInteractive',\n",
              "                                                    [key], {});\n",
              "        if (!dataTable) return;\n",
              "\n",
              "        const docLinkHtml = 'Like what you see? Visit the ' +\n",
              "          '<a target=\"_blank\" href=https://colab.research.google.com/notebooks/data_table.ipynb>data table notebook</a>'\n",
              "          + ' to learn more about interactive tables.';\n",
              "        element.innerHTML = '';\n",
              "        dataTable['output_type'] = 'display_data';\n",
              "        await google.colab.output.renderOutput(dataTable, element);\n",
              "        const docLink = document.createElement('div');\n",
              "        docLink.innerHTML = docLinkHtml;\n",
              "        element.appendChild(docLink);\n",
              "      }\n",
              "    </script>\n",
              "  </div>\n",
              "\n",
              "\n",
              "<div id=\"df-a27161bc-a612-4a16-b6e0-a04d44d59a13\">\n",
              "  <button class=\"colab-df-quickchart\" onclick=\"quickchart('df-a27161bc-a612-4a16-b6e0-a04d44d59a13')\"\n",
              "            title=\"Suggest charts\"\n",
              "            style=\"display:none;\">\n",
              "\n",
              "<svg xmlns=\"http://www.w3.org/2000/svg\" height=\"24px\"viewBox=\"0 0 24 24\"\n",
              "     width=\"24px\">\n",
              "    <g>\n",
              "        <path d=\"M19 3H5c-1.1 0-2 .9-2 2v14c0 1.1.9 2 2 2h14c1.1 0 2-.9 2-2V5c0-1.1-.9-2-2-2zM9 17H7v-7h2v7zm4 0h-2V7h2v10zm4 0h-2v-4h2v4z\"/>\n",
              "    </g>\n",
              "</svg>\n",
              "  </button>\n",
              "\n",
              "<style>\n",
              "  .colab-df-quickchart {\n",
              "      --bg-color: #E8F0FE;\n",
              "      --fill-color: #1967D2;\n",
              "      --hover-bg-color: #E2EBFA;\n",
              "      --hover-fill-color: #174EA6;\n",
              "      --disabled-fill-color: #AAA;\n",
              "      --disabled-bg-color: #DDD;\n",
              "  }\n",
              "\n",
              "  [theme=dark] .colab-df-quickchart {\n",
              "      --bg-color: #3B4455;\n",
              "      --fill-color: #D2E3FC;\n",
              "      --hover-bg-color: #434B5C;\n",
              "      --hover-fill-color: #FFFFFF;\n",
              "      --disabled-bg-color: #3B4455;\n",
              "      --disabled-fill-color: #666;\n",
              "  }\n",
              "\n",
              "  .colab-df-quickchart {\n",
              "    background-color: var(--bg-color);\n",
              "    border: none;\n",
              "    border-radius: 50%;\n",
              "    cursor: pointer;\n",
              "    display: none;\n",
              "    fill: var(--fill-color);\n",
              "    height: 32px;\n",
              "    padding: 0;\n",
              "    width: 32px;\n",
              "  }\n",
              "\n",
              "  .colab-df-quickchart:hover {\n",
              "    background-color: var(--hover-bg-color);\n",
              "    box-shadow: 0 1px 2px rgba(60, 64, 67, 0.3), 0 1px 3px 1px rgba(60, 64, 67, 0.15);\n",
              "    fill: var(--button-hover-fill-color);\n",
              "  }\n",
              "\n",
              "  .colab-df-quickchart-complete:disabled,\n",
              "  .colab-df-quickchart-complete:disabled:hover {\n",
              "    background-color: var(--disabled-bg-color);\n",
              "    fill: var(--disabled-fill-color);\n",
              "    box-shadow: none;\n",
              "  }\n",
              "\n",
              "  .colab-df-spinner {\n",
              "    border: 2px solid var(--fill-color);\n",
              "    border-color: transparent;\n",
              "    border-bottom-color: var(--fill-color);\n",
              "    animation:\n",
              "      spin 1s steps(1) infinite;\n",
              "  }\n",
              "\n",
              "  @keyframes spin {\n",
              "    0% {\n",
              "      border-color: transparent;\n",
              "      border-bottom-color: var(--fill-color);\n",
              "      border-left-color: var(--fill-color);\n",
              "    }\n",
              "    20% {\n",
              "      border-color: transparent;\n",
              "      border-left-color: var(--fill-color);\n",
              "      border-top-color: var(--fill-color);\n",
              "    }\n",
              "    30% {\n",
              "      border-color: transparent;\n",
              "      border-left-color: var(--fill-color);\n",
              "      border-top-color: var(--fill-color);\n",
              "      border-right-color: var(--fill-color);\n",
              "    }\n",
              "    40% {\n",
              "      border-color: transparent;\n",
              "      border-right-color: var(--fill-color);\n",
              "      border-top-color: var(--fill-color);\n",
              "    }\n",
              "    60% {\n",
              "      border-color: transparent;\n",
              "      border-right-color: var(--fill-color);\n",
              "    }\n",
              "    80% {\n",
              "      border-color: transparent;\n",
              "      border-right-color: var(--fill-color);\n",
              "      border-bottom-color: var(--fill-color);\n",
              "    }\n",
              "    90% {\n",
              "      border-color: transparent;\n",
              "      border-bottom-color: var(--fill-color);\n",
              "    }\n",
              "  }\n",
              "</style>\n",
              "\n",
              "  <script>\n",
              "    async function quickchart(key) {\n",
              "      const quickchartButtonEl =\n",
              "        document.querySelector('#' + key + ' button');\n",
              "      quickchartButtonEl.disabled = true;  // To prevent multiple clicks.\n",
              "      quickchartButtonEl.classList.add('colab-df-spinner');\n",
              "      try {\n",
              "        const charts = await google.colab.kernel.invokeFunction(\n",
              "            'suggestCharts', [key], {});\n",
              "      } catch (error) {\n",
              "        console.error('Error during call to suggestCharts:', error);\n",
              "      }\n",
              "      quickchartButtonEl.classList.remove('colab-df-spinner');\n",
              "      quickchartButtonEl.classList.add('colab-df-quickchart-complete');\n",
              "    }\n",
              "    (() => {\n",
              "      let quickchartButtonEl =\n",
              "        document.querySelector('#df-a27161bc-a612-4a16-b6e0-a04d44d59a13 button');\n",
              "      quickchartButtonEl.style.display =\n",
              "        google.colab.kernel.accessAllowed ? 'block' : 'none';\n",
              "    })();\n",
              "  </script>\n",
              "</div>\n",
              "\n",
              "    </div>\n",
              "  </div>\n"
            ],
            "application/vnd.google.colaboratory.intrinsic+json": {
              "type": "dataframe",
              "summary": "{\n  \"name\": \"documentclassifications\",\n  \"rows\": 5,\n  \"fields\": [\n    {\n      \"column\": \"document\",\n      \"properties\": {\n        \"dtype\": \"number\",\n        \"std\": 313,\n        \"min\": 145,\n        \"max\": 935,\n        \"num_unique_values\": 5,\n        \"samples\": [\n          935,\n          145,\n          815\n        ],\n        \"semantic_type\": \"\",\n        \"description\": \"\"\n      }\n    },\n    {\n      \"column\": \"rank_1\",\n      \"properties\": {\n        \"dtype\": \"string\",\n        \"num_unique_values\": 5,\n        \"samples\": [\n          \"1_shoe_wear_fit_foot_size (0.58)\",\n          \"2_size_shoe_great_comfortable_order (0.4329)\",\n          \"1_shoe_wear_fit_foot_size (0.3551)\"\n        ],\n        \"semantic_type\": \"\",\n        \"description\": \"\"\n      }\n    },\n    {\n      \"column\": \"rank_2\",\n      \"properties\": {\n        \"dtype\": \"string\",\n        \"num_unique_values\": 5,\n        \"samples\": [\n          \"10_foot_sandal_size_like_shoe (0.388)\",\n          \"7_shoe_fit_wear_buy_comfortable (0.2181)\",\n          \"7_shoe_fit_wear_buy_comfortable (0.2391)\"\n        ],\n        \"semantic_type\": \"\",\n        \"description\": \"\"\n      }\n    },\n    {\n      \"column\": \"text\",\n      \"properties\": {\n        \"dtype\": \"string\",\n        \"num_unique_values\": 5,\n        \"samples\": [\n          \"Love these slides! I've had 2 different pair of nike slides but none of then come close to how comfortable and attractive these comfort slides are. There a great buy for the price.\",\n          \"Got em for my hubbys birthday. He loves the darn things, super light weight, comfortable, easy to walk in. He has PAD so make walking on his left leg a whole lot easier.\",\n          \"i have had this type thong before , just needed replacements ..and glad i was ableto find them as easy as i did\"\n        ],\n        \"semantic_type\": \"\",\n        \"description\": \"\"\n      }\n    }\n  ]\n}"
            }
          },
          "metadata": {},
          "execution_count": 97
        },
        {
          "output_type": "stream",
          "name": "stderr",
          "text": [
            "/usr/local/lib/python3.10/dist-packages/ipykernel/ipkernel.py:283: DeprecationWarning: `should_run_async` will not call `transform_cell` automatically in the future. Please pass the result to `transformed_cell` argument and any exception that happen during thetransform in `preprocessing_exc_tuple` in IPython 7.17 and above.\n",
            "  and should_run_async(code)\n"
          ]
        }
      ]
    },
    {
      "cell_type": "markdown",
      "source": [
        "## Visualization"
      ],
      "metadata": {
        "id": "u4g5oKuuPsIX"
      }
    },
    {
      "cell_type": "markdown",
      "source": [
        "Looking at the distribution of topics and salient terms."
      ],
      "metadata": {
        "id": "nlEWzZjiRBMP"
      }
    },
    {
      "cell_type": "code",
      "source": [
        "ldavis_params = parameters_for_ldavis(\n",
        "    model.topic_word_,\n",
        "    model.doc_topic_,\n",
        "    dtm,\n",
        "    vocab\n",
        ")\n",
        "print(ldavis_params.keys())"
      ],
      "metadata": {
        "id": "FaUssC2ZDs_I",
        "colab": {
          "base_uri": "https://localhost:8080/"
        },
        "outputId": "e61792d1-6e1b-461c-8cb4-a616e16c633f"
      },
      "execution_count": 95,
      "outputs": [
        {
          "output_type": "stream",
          "name": "stdout",
          "text": [
            "dict_keys(['topic_term_dists', 'doc_topic_dists', 'vocab', 'doc_lengths', 'term_frequency', 'sort_topics'])\n"
          ]
        },
        {
          "output_type": "stream",
          "name": "stderr",
          "text": [
            "/usr/local/lib/python3.10/dist-packages/ipykernel/ipkernel.py:283: DeprecationWarning: `should_run_async` will not call `transform_cell` automatically in the future. Please pass the result to `transformed_cell` argument and any exception that happen during thetransform in `preprocessing_exc_tuple` in IPython 7.17 and above.\n",
            "  and should_run_async(code)\n"
          ]
        }
      ]
    },
    {
      "cell_type": "code",
      "source": [
        "%matplotlib inline\n",
        "# pyLDAvis.drop('saliency', axis=1)\n",
        "vis = pyLDAvis.prepare(**ldavis_params)\n",
        "pyLDAvis.enable_notebook(local=True)\n",
        "pyLDAvis.display(vis)"
      ],
      "metadata": {
        "id": "CqzNrjjUFdqa",
        "colab": {
          "base_uri": "https://localhost:8080/",
          "height": 917
        },
        "outputId": "65b67343-bf96-490c-c205-a9d560f71162"
      },
      "execution_count": 96,
      "outputs": [
        {
          "output_type": "stream",
          "name": "stderr",
          "text": [
            "/usr/local/lib/python3.10/dist-packages/ipykernel/ipkernel.py:283: DeprecationWarning: `should_run_async` will not call `transform_cell` automatically in the future. Please pass the result to `transformed_cell` argument and any exception that happen during thetransform in `preprocessing_exc_tuple` in IPython 7.17 and above.\n",
            "  and should_run_async(code)\n"
          ]
        },
        {
          "output_type": "execute_result",
          "data": {
            "text/plain": [
              "<IPython.core.display.HTML object>"
            ],
            "text/html": [
              "\n",
              "<link rel=\"stylesheet\" type=\"text/css\" href=\"https://cdn.jsdelivr.net/gh/bmabey/pyLDAvis@3.4.0/pyLDAvis/js/ldavis.v1.0.0.css\">\n",
              "\n",
              "\n",
              "<div id=\"ldavis_el7141361547633646082170874939\" style=\"background-color:white;\"></div>\n",
              "<script type=\"text/javascript\">\n",
              "\n",
              "var ldavis_el7141361547633646082170874939_data = {\"mdsDat\": {\"x\": [0.08393536436035373, -0.02418420722127709, -0.12525718072418854, -0.0670708971861706, 0.15696495308607164, -0.10971992396544522, 0.05482920672358917, 0.08427376612701881, 0.16297125902854004, -0.21674234022849242], \"y\": [-0.12743976125199483, 0.07715990758697076, 0.1667718724842056, 0.02580505067389888, -0.032231743948746505, -0.18892660106174983, -0.08480886922891319, 0.028062119605363645, 0.13481276855915827, 0.0007952565818067681], \"topics\": [1, 2, 3, 4, 5, 6, 7, 8, 9, 10], \"cluster\": [1, 1, 1, 1, 1, 1, 1, 1, 1, 1], \"Freq\": [10.621724954399347, 10.056627835402187, 10.895804056426417, 9.528777598410219, 11.862379117439781, 9.204760483091064, 10.397975858712096, 10.059384366801936, 8.286658526756252, 9.085907202560694]}, \"tinfo\": {\"Term\": [\"foot\", \"shoe\", \"great\", \"nike\", \"sandal\", \"size\", \"order\", \"flip\", \"walk\", \"buy\", \"flop\", \"nice\", \"like\", \"run\", \"light\", \"wide\", \"happy\", \"tight\", \"fit\", \"price\", \"basketball\", \"perfect\", \"color\", \"long\", \"pair\", \"thank\", \"return\", \"feel\", \"want\", \"support\", \"watch\", \"band\", \"blue\", \"men\", \"non\", \"street\", \"adjustment\", \"opinion\", \"birthday\", \"comment\", \"cute\", \"guy\", \"let\", \"plenty\", \"seller\", \"top\", \"wise\", \"appreciate\", \"attractive\", \"barely\", \"beach\", \"fat\", \"jordan\", \"mention\", \"single\", \"tread\", \"anymore\", \"buck\", \"casually\", \"count\", \"inside\", \"school\", \"wonderful\", \"type\", \"maybe\", \"give\", \"send\", \"will\", \"true\", \"white\", \"black\", \"arch\", \"reason\", \"way\", \"hurt\", \"wear\", \"shoe\", \"pay\", \"fit\", \"old\", \"bit\", \"foot\", \"want\", \"sneaker\", \"size\", \"nike\", \"big\", \"order\", \"comfortable\", \"get\", \"price\", \"good\", \"great\", \"pair\", \"recommend\", \"look\", \"day\", \"time\", \"love\", \"star\", \"dry\", \"kind\", \"sandle\", \"read\", \"plastic\", \"dad\", \"alot\", \"shape\", \"date\", \"original\", \"step\", \"surface\", \"surprise\", \"call\", \"case\", \"floor\", \"forward\", \"kinda\", \"sandals\", \"service\", \"sol\", \"traction\", \"course\", \"slippery\", \"wipe\", \"bonus\", \"grow\", \"inexpensive\", \"jean\", \"shower\", \"style\", \"christmas\", \"review\", \"order\", \"wet\", \"weight\", \"walk\", \"hard\", \"like\", \"comfort\", \"nice\", \"size\", \"pair\", \"great\", \"comfortable\", \"buy\", \"feel\", \"fit\", \"shoe\", \"light\", \"gift\", \"slide\", \"love\", \"run\", \"time\", \"son\", \"look\", \"purchase\", \"year\", \"try\", \"color\", \"big\", \"width\", \"appear\", \"grandson\", \"notice\", \"pad\", \"period\", \"regret\", \"require\", \"sell\", \"absorb\", \"accurate\", \"ahead\", \"believe\", \"breaking\", \"glue\", \"pick\", \"previous\", \"refund\", \"flip\", \"basically\", \"conform\", \"generally\", \"literally\", \"loop\", \"match\", \"mind\", \"swear\", \"switch\", \"bare\", \"basic\", \"flop\", \"stay\", \"one\", \"ship\", \"runner\", \"leather\", \"actually\", \"shop\", \"away\", \"real\", \"length\", \"narrow\", \"toe\", \"fast\", \"quality\", \"perfect\", \"foot\", \"past\", \"summer\", \"walk\", \"nike\", \"light\", \"purchase\", \"order\", \"pair\", \"day\", \"like\", \"size\", \"color\", \"run\", \"long\", \"nice\", \"wear\", \"good\", \"comfortable\", \"love\", \"buy\", \"small\", \"tight\", \"foam\", \"description\", \"ill\", \"life\", \"thin\", \"downshifter\", \"muy\", \"se\", \"10d\", \"dress\", \"excelente\", \"feature\", \"hole\", \"ideal\", \"impact\", \"max\", \"present\", \"spring\", \"suck\", \"2e\", \"advertise\", \"baby\", \"baseball\", \"blah\", \"boo\", \"boot\", \"carry\", \"construct\", \"crazy\", \"cut\", \"rubber\", \"similar\", \"guess\", \"pretty\", \"especially\", \"probably\", \"solid\", \"normal\", \"comfortably\", \"ago\", \"break\", \"padding\", \"sandal\", \"gym\", \"snug\", \"replace\", \"nike\", \"large\", \"lace\", \"running\", \"think\", \"totally\", \"use\", \"product\", \"wear\", \"size\", \"item\", \"run\", \"buy\", \"good\", \"great\", \"strap\", \"perfect\", \"look\", \"support\", \"small\", \"quality\", \"like\", \"little\", \"nice\", \"fit\", \"shoe\", \"time\", \"expect\", \"comfortable\", \"get\", \"heavy\", \"expectation\", \"place\", \"affordable\", \"early\", \"sin\", \"uniform\", \"add\", \"breathable\", \"dudacompren\", \"tag\", \"trash\", \"update\", \"drive\", \"footed\", \"kick\", \"member\", \"relatively\", \"town\", \"unglued\", \"1334\", \"addition\", \"asics\", \"benassi\", \"clothe\", \"concrete\", \"detail\", \"fabric\", \"florida\", \"fluff\", \"amazon\", \"quickly\", \"happy\", \"far\", \"nikes\", \"slip\", \"thank\", \"reasonable\", \"low\", \"friend\", \"store\", \"new\", \"lightweight\", \"great\", \"say\", \"live\", \"buy\", \"son\", \"shoe\", \"love\", \"find\", \"comfortable\", \"able\", \"cheap\", \"price\", \"sandal\", \"look\", \"awesome\", \"purchase\", \"pair\", \"day\", \"need\", \"fit\", \"recommend\", \"good\", \"year\", \"expect\", \"wear\", \"time\", \"like\", \"husband\", \"tennis\", \"figure\", \"waste\", \"point\", \"young\", \"push\", \"que\", \"weekend\", \"button\", \"con\", \"deck\", \"diabetic\", \"dirty\", \"estos\", \"exchange\", \"force\", \"having\", \"intend\", \"pressure\", \"teenage\", \"ve\", \"army\", \"attach\", \"bball\", \"bulky\", \"bump\", \"club\", \"consequently\", \"creo\", \"direction\", \"normally\", \"thick\", \"adidas\", \"highly\", \"sport\", \"correct\", \"local\", \"plan\", \"sure\", \"right\", \"return\", \"job\", \"insole\", \"foot\", \"wide\", \"strap\", \"good\", \"leave\", \"size\", \"arrive\", \"fit\", \"shoe\", \"light\", \"nike\", \"day\", \"wear\", \"hurt\", \"order\", \"exactly\", \"get\", \"pair\", \"expect\", \"small\", \"sandal\", \"love\", \"hope\", \"tight\", \"comfortable\", \"time\", \"blister\", \"simply\", \"distance\", \"package\", \"sturdy\", \"absolutely\", \"check\", \"choice\", \"fact\", \"indoor\", \"open\", \"assume\", \"cloud\", \"loosen\", \"grey\", \"mold\", \"nicely\", \"reliable\", \"share\", \"certainly\", \"child\", \"continue\", \"crack\", \"durant\", \"fill\", \"major\", \"outdoor\", \"prevent\", \"walking\", \"wearable\", \"box\", \"provide\", \"ankle\", \"end\", \"ask\", \"state\", \"leg\", \"simple\", \"support\", \"sock\", \"help\", \"gift\", \"come\", \"cool\", \"complaint\", \"fit\", \"little\", \"shoe\", \"buy\", \"pair\", \"wear\", \"nike\", \"like\", \"comfortable\", \"love\", \"size\", \"perfect\", \"run\", \"husband\", \"exactly\", \"good\", \"great\", \"time\", \"new\", \"get\", \"expect\", \"find\", \"sandal\", \"look\", \"need\", \"player\", \"average\", \"twice\", \"disappointed\", \"practice\", \"wife\", \"workout\", \"balance\", \"brace\", \"bring\", \"exercise\", \"tear\", \"today\", \"upper\", \"beat\", \"heal\", \"incredible\", \"pass\", \"trouble\", \"typically\", \"afghanistan\", \"car\", \"daughter\", \"hear\", \"kevin\", \"learn\", \"medium\", \"overplay\", \"pro\", \"rough\", \"amazing\", \"quick\", \"receive\", \"half\", \"people\", \"basketball\", \"excellent\", \"last\", \"court\", \"play\", \"take\", \"shoe\", \"fine\", \"week\", \"want\", \"mile\", \"look\", \"house\", \"need\", \"buy\", \"great\", \"use\", \"wear\", \"foot\", \"good\", \"comfortable\", \"run\", \"price\", \"work\", \"long\", \"pair\", \"recommend\", \"year\", \"sandal\", \"fit\", \"quality\", \"nike\", \"stand\", \"fantastic\", \"mean\", \"describe\", \"free\", \"gray\", \"meet\", \"awhile\", \"bien\", \"display\", \"season\", \"second\", \"accept\", \"class\", \"dark\", \"matter\", \"recomend\", \"side\", \"worry\", \"y\", \"attract\", \"clasp\", \"esta\", \"general\", \"genuine\", \"hate\", \"hit\", \"hot\", \"in34\", \"jog\", \"confortable\", \"change\", \"velcro\", \"compare\", \"rip\", \"wait\", \"thing\", \"wish\", \"loose\", \"high\", \"know\", \"long\", \"shoe\", \"running\", \"nice\", \"money\", \"expensive\", \"color\", \"little\", \"great\", \"product\", \"price\", \"work\", \"fit\", \"time\", \"overall\", \"recommend\", \"look\", \"comfortable\", \"wear\", \"good\", \"tight\", \"love\", \"quality\", \"black\", \"foot\", \"keep\", \"close\", \"cause\", \"fitting\", \"fan\", \"lol\", \"fair\", \"hopefully\", \"huge\", \"option\", \"tiny\", \"beautiful\", \"door\", \"firm\", \"orange\", \"pound\", \"save\", \"training\", \"combination\", \"cross\", \"dog\", \"entire\", \"feeling\", \"head\", \"manner\", \"originally\", \"pavement\", \"picky\", \"skeptical\", \"straight\", \"red\", \"prefer\", \"person\", \"father\", \"not\", \"sole\", \"different\", \"somewhat\", \"exact\", \"month\", \"well\", \"comfy\", \"feel\", \"tight\", \"stretch\", \"gym\", \"easy\", \"slide\", \"air\", \"casual\", \"small\", \"foot\", \"sandal\", \"like\", \"walk\", \"soft\", \"wide\", \"big\", \"get\", \"size\", \"love\", \"use\", \"shoe\", \"fit\", \"try\", \"buy\", \"slipper\", \"expect\", \"comfortable\", \"look\"], \"Freq\": [273.0, 656.0, 308.0, 211.0, 194.0, 303.0, 138.0, 39.0, 83.0, 297.0, 42.0, 117.0, 202.0, 110.0, 71.0, 60.0, 45.0, 76.0, 327.0, 113.0, 50.0, 79.0, 62.0, 48.0, 217.0, 42.0, 54.0, 101.0, 66.0, 54.0, 14.834062832321651, 12.857505492905041, 11.869226823196739, 9.892669483780129, 6.927833474655215, 6.927833474655215, 5.93955480494691, 5.93955480494691, 4.951276135238605, 4.951276135238605, 4.951276135238605, 4.951276135238605, 4.951276135238605, 4.951276135238605, 4.951276135238605, 4.951276135238605, 4.951276135238605, 3.962997465530301, 3.962997465530301, 3.962997465530301, 3.962997465530301, 3.962997465530301, 3.962997465530301, 3.962997465530301, 3.962997465530301, 3.962997465530301, 2.9747187958219965, 2.9747187958219965, 2.9747187958219965, 2.9747187958219965, 15.822341502029959, 11.869226823196739, 8.904390814071824, 9.892669483780129, 9.892669483780129, 18.787177511154873, 11.869226823196739, 8.904390814071824, 16.81062017173826, 17.798898841446565, 25.705128199113005, 14.834062832321651, 5.93955480494691, 19.775456180863177, 11.869226823196739, 56.341766960070444, 72.15422567540332, 12.857505492905041, 47.447258932695696, 13.845784162613345, 13.845784162613345, 39.54102957502926, 18.787177511154873, 15.822341502029959, 35.58791489619605, 26.693406868821306, 16.81062017173826, 20.76373485057148, 26.693406868821306, 18.787177511154873, 17.798898841446565, 20.76373485057148, 20.76373485057148, 16.81062017173826, 14.834062832321651, 15.822341502029959, 13.845784162613345, 13.845784162613345, 13.845784162613345, 15.767065166102505, 10.842934883122332, 10.842934883122332, 10.842934883122332, 9.858108826526298, 8.873282769930265, 7.888456713334231, 6.903630656738198, 6.903630656738198, 5.918804600142163, 5.918804600142163, 5.918804600142163, 5.918804600142163, 5.918804600142163, 4.93397854354613, 4.93397854354613, 4.93397854354613, 4.93397854354613, 4.93397854354613, 4.93397854354613, 4.93397854354613, 4.93397854354613, 4.93397854354613, 3.9491524869500956, 3.9491524869500956, 3.9491524869500956, 2.9643264303540615, 2.9643264303540615, 2.9643264303540615, 2.9643264303540615, 19.70636939248664, 22.66084756227474, 6.903630656738198, 11.827760939718367, 43.34219475079145, 10.842934883122332, 10.842934883122332, 26.600151788658874, 14.782239109506468, 42.357368694195415, 16.751891222698536, 29.554629958446977, 48.266325033771615, 39.40289052440732, 45.31184686398351, 44.327020807387484, 41.37254263759938, 22.66084756227474, 36.448412354619215, 47.28149897717559, 16.751891222698536, 12.8125869963144, 15.767065166102505, 24.63049967546681, 18.721543335890605, 19.70636939248664, 16.751891222698536, 19.70636939248664, 15.767065166102505, 14.782239109506468, 13.797413052910434, 13.797413052910434, 13.797413052910434, 18.737843793096054, 6.909641503924426, 6.909641503924426, 4.938274455729155, 4.938274455729155, 4.938274455729155, 4.938274455729155, 4.938274455729155, 4.938274455729155, 3.9525909316315193, 3.9525909316315193, 3.9525909316315193, 3.9525909316315193, 3.9525909316315193, 3.9525909316315193, 3.9525909316315193, 3.9525909316315193, 3.9525909316315193, 38.451514275048766, 2.966907407533883, 2.966907407533883, 2.966907407533883, 2.966907407533883, 2.966907407533883, 2.966907407533883, 2.966907407533883, 2.966907407533883, 2.966907407533883, 1.9812238834362477, 1.9812238834362477, 38.451514275048766, 12.823742648510239, 19.723527317193692, 14.795109696705511, 7.895325028022063, 7.895325028022063, 9.866692076217333, 6.909641503924426, 10.852375600314968, 9.866692076217333, 7.895325028022063, 20.709210841291327, 16.766476744900782, 10.852375600314968, 30.566046082267682, 28.59467903407241, 60.136551805196746, 7.895325028022063, 10.852375600314968, 25.637628461779503, 44.36561541963458, 22.6805778894866, 25.637628461779503, 30.566046082267682, 38.451514275048766, 23.666261413584234, 36.4801472268535, 41.40856484734167, 18.737843793096054, 23.666261413584234, 15.78079322080315, 22.6805778894866, 33.52309665456059, 29.580362558170048, 31.551729606365317, 23.666261413584234, 22.6805778894866, 16.766476744900782, 15.78079322080315, 12.829700486995735, 4.9405687501805255, 4.9405687501805255, 4.9405687501805255, 4.9405687501805255, 3.9544272830786236, 3.9544272830786236, 3.9544272830786236, 2.9682858159767225, 2.9682858159767225, 2.9682858159767225, 2.9682858159767225, 2.9682858159767225, 2.9682858159767225, 2.9682858159767225, 2.9682858159767225, 2.9682858159767225, 2.9682858159767225, 2.9682858159767225, 1.9821443488748212, 1.9821443488748212, 1.9821443488748212, 1.9821443488748212, 1.9821443488748212, 1.9821443488748212, 1.9821443488748212, 1.9821443488748212, 1.9821443488748212, 1.9821443488748212, 1.9821443488748212, 12.829700486995735, 11.843559019893835, 9.871276085690031, 23.677256625116648, 11.843559019893835, 11.843559019893835, 8.885134618588129, 9.871276085690031, 4.9405687501805255, 6.912851684384328, 20.718832223810946, 8.885134618588129, 57.206066506581294, 13.815841954097635, 9.871276085690031, 9.871276085690031, 51.289217703969875, 16.77426635540334, 7.898993151486228, 14.801983421199537, 18.746549289607145, 4.9405687501805255, 17.760407822505243, 20.718832223810946, 45.37236890135847, 41.42780303295087, 10.857417552791931, 22.69111515801475, 35.510954230339465, 30.580246894829955, 32.55252982903376, 12.829700486995735, 16.77426635540334, 21.704973690912848, 13.815841954097635, 16.77426635540334, 15.788124888301441, 19.732690756709044, 15.788124888301441, 15.788124888301441, 18.746549289607145, 20.718832223810946, 15.788124888301441, 13.815841954097635, 14.801983421199537, 13.815841954097635, 10.764701405574272, 5.876099495685864, 5.876099495685864, 4.898379113708183, 4.898379113708183, 4.898379113708183, 4.898379113708183, 3.920658731730502, 3.920658731730502, 3.920658731730502, 3.920658731730502, 3.920658731730502, 3.920658731730502, 2.9429383497528203, 2.9429383497528203, 2.9429383497528203, 2.9429383497528203, 2.9429383497528203, 2.9429383497528203, 2.9429383497528203, 1.9652179677751391, 1.9652179677751391, 1.9652179677751391, 1.9652179677751391, 1.9652179677751391, 1.9652179677751391, 1.9652179677751391, 1.9652179677751391, 1.9652179677751391, 1.9652179677751391, 26.408227517217174, 13.697862551507313, 35.2077109550163, 19.564184843373404, 6.853819877663545, 14.675582933484996, 30.3191090451279, 7.831540259641226, 7.831540259641226, 10.764701405574272, 15.65330331546268, 24.452786753261808, 8.80926064161891, 91.91549310972182, 25.430507135239495, 6.853819877663545, 75.29424661610125, 35.2077109550163, 126.13570647894065, 58.673000122480644, 23.47506637128413, 63.561602032369066, 9.786981023596589, 11.742421787551951, 27.385947899194854, 34.22999057303862, 35.2077109550163, 11.742421787551951, 21.519625607328766, 31.296829427105575, 20.541905225351083, 18.586464461395725, 34.22999057303862, 20.541905225351083, 29.341388663150216, 17.60874407941804, 17.60874407941804, 26.408227517217174, 17.60874407941804, 16.63102369744036, 14.675582933484996, 10.898550132895975, 6.939040547829317, 5.9491631515626535, 4.959285755295989, 4.959285755295989, 3.9694083590293245, 3.9694083590293245, 3.9694083590293245, 2.97953096276266, 2.97953096276266, 2.97953096276266, 2.97953096276266, 2.97953096276266, 2.97953096276266, 2.97953096276266, 2.97953096276266, 2.97953096276266, 2.97953096276266, 2.97953096276266, 2.97953096276266, 2.97953096276266, 1.9896535664959953, 1.9896535664959953, 1.9896535664959953, 1.9896535664959953, 1.9896535664959953, 1.9896535664959953, 1.9896535664959953, 1.9896535664959953, 1.9896535664959953, 10.898550132895975, 6.939040547829317, 6.939040547829317, 10.898550132895975, 7.928917944095983, 8.918795340362648, 4.959285755295989, 6.939040547829317, 16.837814510495964, 24.75683368062928, 24.75683368062928, 5.9491631515626535, 5.9491631515626535, 69.30131651262919, 23.766956284362617, 17.82769190676263, 55.44303296489587, 5.9491631515626535, 56.43291036116254, 12.878304925429305, 54.453155568629214, 82.16972266409583, 20.797324095562622, 38.61511722836258, 21.78720149182929, 43.564504209695905, 9.908672736629311, 23.766956284362617, 9.908672736629311, 20.797324095562622, 25.746711076895945, 14.858059717962634, 15.8479371142293, 16.837814510495964, 15.8479371142293, 8.918795340362648, 10.898550132895975, 12.878304925429305, 10.898550132895975, 11.82280421710123, 7.885150855868514, 6.900737515560336, 6.900737515560336, 6.900737515560336, 5.916324175252156, 5.916324175252156, 5.916324175252156, 5.916324175252156, 5.916324175252156, 5.916324175252156, 4.931910834943977, 4.931910834943977, 4.931910834943977, 3.9474974946357984, 3.9474974946357984, 3.9474974946357984, 3.9474974946357984, 3.9474974946357984, 2.963084154327619, 2.963084154327619, 2.963084154327619, 2.963084154327619, 2.963084154327619, 2.963084154327619, 2.963084154327619, 2.963084154327619, 2.963084154327619, 2.963084154327619, 2.963084154327619, 15.76045757833395, 13.791630897717589, 15.76045757833395, 12.807217557409409, 8.869564196176693, 5.916324175252156, 5.916324175252156, 7.885150855868514, 26.589004321723916, 12.807217557409409, 6.900737515560336, 17.729284258950308, 22.651350960491204, 9.853977536484871, 6.900737515560336, 55.13699119066111, 24.62017764110756, 69.9031912952838, 44.308444447271135, 36.433137724805704, 44.308444447271135, 34.46431104418935, 33.47989770388117, 41.3552044263466, 31.511071023264808, 36.433137724805704, 18.713697599258484, 21.666937620183024, 15.76045757833395, 10.838390876793051, 28.55783100234028, 29.542244342648456, 21.666937620183024, 13.791630897717589, 18.713697599258484, 14.776044238025769, 13.791630897717589, 17.729284258950308, 16.74487091864213, 13.791630897717589, 10.873090517824377, 9.885525529829428, 7.910395553839532, 6.922830565844584, 6.922830565844584, 6.922830565844584, 5.935265577849636, 4.947700589854689, 4.947700589854689, 4.947700589854689, 4.947700589854689, 4.947700589854689, 4.947700589854689, 4.947700589854689, 3.9601356018597405, 3.9601356018597405, 3.9601356018597405, 3.9601356018597405, 3.9601356018597405, 3.9601356018597405, 2.972570613864793, 2.972570613864793, 2.972570613864793, 2.972570613864793, 2.972570613864793, 2.972570613864793, 2.972570613864793, 2.972570613864793, 2.972570613864793, 2.972570613864793, 10.873090517824377, 11.860655505819324, 19.761175409778907, 19.761175409778907, 11.860655505819324, 26.67413032574354, 15.810915457799117, 8.897960541834479, 4.947700589854689, 17.786045433789013, 12.84822049381427, 114.5674142572939, 11.860655505819324, 12.84822049381427, 23.7114353617587, 9.885525529829428, 44.4503001096526, 13.83578548180922, 22.723870373763752, 47.41299507363745, 43.46273512165765, 17.786045433789013, 43.46273512165765, 38.52491018168291, 33.587085241708174, 33.587085241708174, 21.7363053857688, 21.7363053857688, 17.786045433789013, 14.823350469804167, 25.686565337748597, 18.77361042178396, 15.810915457799117, 17.786045433789013, 18.77361042178396, 12.84822049381427, 12.84822049381427, 9.898716719068902, 8.909833929951128, 8.909833929951128, 7.920951140833357, 6.932068351715584, 6.932068351715584, 5.943185562597812, 4.954302773480039, 4.954302773480039, 4.954302773480039, 4.954302773480039, 4.954302773480039, 3.965419984362267, 3.965419984362267, 3.965419984362267, 3.965419984362267, 3.965419984362267, 3.965419984362267, 3.965419984362267, 3.965419984362267, 2.976537195244495, 2.976537195244495, 2.976537195244495, 2.976537195244495, 2.976537195244495, 2.976537195244495, 2.976537195244495, 2.976537195244495, 2.976537195244495, 2.976537195244495, 14.843130664657762, 7.920951140833357, 12.86536508642222, 5.943185562597812, 4.954302773480039, 4.954302773480039, 16.82089624289331, 12.86536508642222, 6.932068351715584, 17.809779032011082, 16.82089624289331, 17.809779032011082, 86.04269148113738, 14.843130664657762, 26.709724134071035, 10.887599508186675, 7.920951140833357, 17.809779032011082, 21.765310188482168, 40.55408318171985, 18.798661821128853, 22.754192977599946, 17.809779032011082, 36.59855202524876, 23.743075766717716, 10.887599508186675, 18.798661821128853, 24.73195855583549, 28.68748971230658, 21.765310188482168, 17.809779032011082, 12.86536508642222, 15.832013453775536, 11.876482297304447, 10.887599508186675, 10.887599508186675, 13.889310189328345, 11.906539284356418, 8.932382926898528, 7.9409974744125655, 6.949612021926603, 5.958226569440639, 4.966841116954676, 4.966841116954676, 4.966841116954676, 4.966841116954676, 4.966841116954676, 3.975455664468713, 3.975455664468713, 3.975455664468713, 3.975455664468713, 3.975455664468713, 3.975455664468713, 3.975455664468713, 2.984070211982749, 2.984070211982749, 2.984070211982749, 2.984070211982749, 2.984070211982749, 2.984070211982749, 2.984070211982749, 2.984070211982749, 2.984070211982749, 2.984070211982749, 2.984070211982749, 2.984070211982749, 8.932382926898528, 6.949612021926603, 11.906539284356418, 5.958226569440639, 15.872081094300274, 17.8548519992722, 13.889310189328345, 9.923768379384493, 4.966841116954676, 13.889310189328345, 19.837622904244128, 14.88069564181431, 32.72563378656165, 26.777321071645872, 11.906539284356418, 12.897924736842382, 13.889310189328345, 21.820393809216057, 9.923768379384493, 7.9409974744125655, 25.785935619159908, 45.613644668879175, 36.6911755965055, 34.70840469153357, 21.820393809216057, 12.897924736842382, 17.8548519992722, 18.846237451758164, 23.80316471418798, 34.70840469153357, 26.777321071645872, 15.872081094300274, 33.71701923904761, 25.785935619159908, 14.88069564181431, 19.837622904244128, 12.897924736842382, 12.897924736842382, 12.897924736842382, 12.897924736842382], \"Total\": [273.0, 656.0, 308.0, 211.0, 194.0, 303.0, 138.0, 39.0, 83.0, 297.0, 42.0, 117.0, 202.0, 110.0, 71.0, 60.0, 45.0, 76.0, 327.0, 113.0, 50.0, 79.0, 62.0, 48.0, 217.0, 42.0, 54.0, 101.0, 66.0, 54.0, 14.922827786281117, 12.946270446864506, 11.957991777156204, 9.981434437739594, 7.016598428614683, 7.016598428614683, 6.028319758906378, 6.028319758906378, 5.040041089198073, 5.040041089198073, 5.040041089198073, 5.040041089198073, 5.040041089198073, 5.040041089198073, 5.040041089198073, 5.040041089198073, 5.040041089198073, 4.051762419489769, 4.051762419489769, 4.051762419489769, 4.051762419489769, 4.051762419489769, 4.051762419489769, 4.051762419489769, 4.051762419489769, 4.051762419489769, 3.063483749781464, 3.063483749781464, 3.063483749781464, 3.063483749781464, 16.895519796297602, 12.935712159133885, 9.978839292128926, 11.936875201694956, 11.959200015975139, 25.748407837431518, 14.915042349449111, 10.968285744021186, 25.75910518847134, 27.74322885259293, 44.55199129099123, 22.8233476902407, 7.0144612260082795, 38.59023138163291, 21.85676573982285, 324.6407142649244, 656.6428932238206, 28.762644066431296, 327.6303128106846, 34.685802271601375, 35.53439863543649, 273.9040698082891, 66.16643234842579, 47.453144490160525, 303.18268716130746, 211.28196527294705, 73.19081780136187, 138.10008876138954, 310.3417517787757, 121.58193024583761, 113.39646827077316, 255.59707784762756, 308.0918463481317, 217.80774248862886, 100.59911871420121, 205.08577480798888, 88.80506898535543, 138.14273231158737, 215.74145004158626, 15.855864646193094, 10.931734363212922, 10.931734363212922, 10.931734363212922, 9.946908306616887, 8.962082250020854, 7.977256193424822, 6.992430136828788, 6.992430136828788, 6.0076040802327535, 6.0076040802327535, 6.0076040802327535, 6.0076040802327535, 6.0076040802327535, 5.02277802363672, 5.02277802363672, 5.02277802363672, 5.02277802363672, 5.02277802363672, 5.02277802363672, 5.02277802363672, 5.02277802363672, 5.02277802363672, 4.037951967040686, 4.037951967040686, 4.037951967040686, 3.053125910444652, 3.053125910444652, 3.053125910444652, 3.053125910444652, 24.73299381255197, 40.47531337073108, 8.96471307103259, 18.819049790166584, 138.10008876138954, 17.841842237391464, 18.85075353334624, 83.02714795203914, 32.600933753829075, 202.20066407979488, 41.552021611803056, 117.47240939368284, 303.18268716130746, 217.80774248862886, 308.0918463481317, 310.3417517787757, 297.3193277928406, 101.70159307802388, 327.6303128106846, 656.6428932238206, 71.0537612803892, 38.44258965777367, 65.29027410399884, 215.74145004158626, 110.51127915287029, 138.14273231158737, 100.43142719541667, 205.08577480798888, 90.6457887213784, 73.90555126482258, 54.432434148797185, 62.31071512480758, 73.19081780136187, 18.82663469851163, 6.998432409340001, 6.998432409340001, 5.02706536114473, 5.02706536114473, 5.02706536114473, 5.02706536114473, 5.02706536114473, 5.02706536114473, 4.041381837047094, 4.041381837047094, 4.041381837047094, 4.041381837047094, 4.041381837047094, 4.041381837047094, 4.041381837047094, 4.041381837047094, 4.041381837047094, 39.525131237060386, 3.0556983129494575, 3.0556983129494575, 3.0556983129494575, 3.0556983129494575, 3.0556983129494575, 3.0556983129494575, 3.0556983129494575, 3.0556983129494575, 3.0556983129494575, 2.070014788851822, 2.070014788851822, 42.47960940684849, 13.900098541920759, 22.777648788839763, 16.863655394654412, 8.961836315415319, 8.973993329704301, 11.938253886604834, 7.984573876441902, 13.910798694530534, 12.909961151421008, 9.959245909427532, 40.5285571735961, 32.65973226275289, 17.8551542605853, 86.83130460863264, 79.00697621947687, 273.9040698082891, 11.921769294670355, 19.816439709647653, 83.02714795203914, 211.28196527294705, 71.0537612803892, 90.6457887213784, 138.10008876138954, 217.80774248862886, 88.80506898535543, 202.20066407979488, 303.18268716130746, 62.31071512480758, 110.51127915287029, 48.48294915026285, 117.47240939368284, 324.6407142649244, 255.59707784762756, 310.3417517787757, 215.74145004158626, 297.3193277928406, 99.86125878023009, 76.24253363182311, 12.918486812981266, 5.029355076166057, 5.029355076166057, 5.029355076166057, 5.029355076166057, 4.043213609064155, 4.043213609064155, 4.043213609064155, 3.057072141962254, 3.057072141962254, 3.057072141962254, 3.057072141962254, 3.057072141962254, 3.057072141962254, 3.057072141962254, 3.057072141962254, 3.057072141962254, 3.057072141962254, 3.057072141962254, 2.0709306748603526, 2.0709306748603526, 2.0709306748603526, 2.0709306748603526, 2.0709306748603526, 2.0709306748603526, 2.0709306748603526, 2.0709306748603526, 2.0709306748603526, 2.0709306748603526, 2.0709306748603526, 13.906051800976213, 13.901172026495724, 11.937827989911106, 31.659036999472516, 14.886823515667468, 14.889395918172273, 10.94528799276893, 12.924898420800476, 6.0070754581437384, 8.97300505856513, 36.59648038643674, 13.930848207003477, 194.35575496567216, 26.79263916240069, 17.838670864443834, 17.84261053894193, 211.28196527294705, 42.57952466039428, 13.875418793192903, 38.58373164672526, 57.21676116704842, 7.005912415582666, 57.40803084680134, 75.98094651253153, 324.6407142649244, 303.18268716130746, 25.746508451420496, 110.51127915287029, 297.3193277928406, 255.59707784762756, 308.0918463481317, 40.60064104234684, 79.00697621947687, 205.08577480798888, 54.2921501334388, 99.86125878023009, 86.83130460863264, 202.20066407979488, 91.86847007319652, 117.47240939368284, 327.6303128106846, 656.6428932238206, 138.14273231158737, 79.93926382132824, 310.3417517787757, 121.58193024583761, 10.853571942411046, 5.964970032522638, 5.964970032522638, 4.987249650544957, 4.987249650544957, 4.987249650544957, 4.987249650544957, 4.009529268567276, 4.009529268567276, 4.009529268567276, 4.009529268567276, 4.009529268567276, 4.009529268567276, 3.031808886589594, 3.031808886589594, 3.031808886589594, 3.031808886589594, 3.031808886589594, 3.031808886589594, 3.031808886589594, 2.054088504611913, 2.054088504611913, 2.054088504611913, 2.054088504611913, 2.054088504611913, 2.054088504611913, 2.054088504611913, 2.054088504611913, 2.054088504611913, 2.054088504611913, 31.427805389563456, 15.763290427760696, 45.172001036602026, 24.5944487287517, 7.930969084208624, 18.708809036376536, 42.23186777757979, 9.895540772467895, 9.903181701449927, 15.794965290952566, 26.609209184734894, 48.206230751496136, 12.840865274846225, 308.0918463481317, 58.06134091479589, 9.906139516833498, 297.3193277928406, 100.43142719541667, 656.6428932238206, 215.74145004158626, 65.01078761115409, 310.3417517787757, 16.793802248391497, 22.670207828541027, 113.39646827077316, 194.35575496567216, 205.08577480798888, 26.635306621858884, 90.6457887213784, 217.80774248862886, 88.80506898535543, 75.92618016155326, 327.6303128106846, 100.59911871420121, 255.59707784762756, 73.90555126482258, 79.93926382132824, 324.6407142649244, 138.14273231158737, 202.20066407979488, 54.21169049590092, 10.98729909958986, 7.027789514523201, 6.037912118256537, 5.048034721989873, 5.048034721989873, 4.058157325723209, 4.058157325723209, 4.058157325723209, 3.0682799294565437, 3.0682799294565437, 3.0682799294565437, 3.0682799294565437, 3.0682799294565437, 3.0682799294565437, 3.0682799294565437, 3.0682799294565437, 3.0682799294565437, 3.0682799294565437, 3.0682799294565437, 3.0682799294565437, 3.0682799294565437, 2.0784025331898794, 2.0784025331898794, 2.0784025331898794, 2.0784025331898794, 2.0784025331898794, 2.0784025331898794, 2.0784025331898794, 2.0784025331898794, 2.0784025331898794, 12.956951212781927, 8.016068184231504, 8.019174967009164, 13.951421427001415, 9.98903395898514, 11.965968708362235, 6.032860778585906, 9.002919490513095, 26.813087861032916, 53.371426002225945, 54.447922292236946, 7.9933528822119, 8.006738798872895, 273.9040698082891, 60.424343016150914, 40.60064104234684, 255.59707784762756, 8.996336519562242, 303.18268716130746, 30.63768904680104, 327.6303128106846, 656.6428932238206, 71.0537612803892, 211.28196527294705, 88.80506898535543, 324.6407142649244, 21.85676573982285, 138.10008876138954, 23.784392848018868, 121.58193024583761, 217.80774248862886, 79.93926382132824, 99.86125878023009, 194.35575496567216, 215.74145004158626, 25.815481572211283, 76.24253363182311, 310.3417517787757, 138.14273231158737, 11.9116078243547, 7.973954463121983, 6.989541122813805, 6.989541122813805, 6.989541122813805, 6.0051277825056255, 6.0051277825056255, 6.0051277825056255, 6.0051277825056255, 6.0051277825056255, 6.0051277825056255, 5.020714442197447, 5.020714442197447, 5.020714442197447, 4.036301101889268, 4.036301101889268, 4.036301101889268, 4.036301101889268, 4.036301101889268, 3.0518877615810878, 3.0518877615810878, 3.0518877615810878, 3.0518877615810878, 3.0518877615810878, 3.0518877615810878, 3.0518877615810878, 3.0518877615810878, 3.0518877615810878, 3.0518877615810878, 3.0518877615810878, 16.840646638073384, 15.860189297504387, 18.80373935537552, 15.863664139165087, 10.936133381665707, 6.989953839101659, 6.990811306603261, 10.948110820579872, 54.2921501334388, 22.79459383155845, 9.942391480781382, 38.44258965777367, 55.270609412837075, 17.807178247269906, 9.956189490167121, 327.6303128106846, 91.86847007319652, 656.6428932238206, 297.3193277928406, 217.80774248862886, 324.6407142649244, 211.28196527294705, 202.20066407979488, 310.3417517787757, 215.74145004158626, 303.18268716130746, 79.00697621947687, 110.51127915287029, 54.21169049590092, 23.784392848018868, 255.59707784762756, 308.0918463481317, 138.14273231158737, 48.206230751496136, 121.58193024583761, 79.93926382132824, 65.01078761115409, 194.35575496567216, 205.08577480798888, 75.92618016155326, 10.961862608600978, 9.974297620606029, 7.999167644616134, 7.011602656621186, 7.011602656621186, 7.011602656621186, 6.024037668626238, 5.036472680631291, 5.036472680631291, 5.036472680631291, 5.036472680631291, 5.036472680631291, 5.036472680631291, 5.036472680631291, 4.048907692636342, 4.048907692636342, 4.048907692636342, 4.048907692636342, 4.048907692636342, 4.048907692636342, 3.0613427046413944, 3.0613427046413944, 3.0613427046413944, 3.0613427046413944, 3.0613427046413944, 3.0613427046413944, 3.0613427046413944, 3.0613427046413944, 3.0613427046413944, 3.0613427046413944, 11.948004075702878, 13.904868360551287, 24.79436144614437, 24.806874762985323, 16.87149429813682, 50.30181412561996, 25.74966304953926, 12.926036858995216, 6.02088602093947, 34.53622176816918, 23.78278528263925, 656.6428932238206, 21.79701725326516, 24.775620942416904, 66.16643234842579, 16.86808001677827, 205.08577480798888, 30.751890337926888, 75.92618016155326, 297.3193277928406, 308.0918463481317, 57.40803084680134, 324.6407142649244, 273.9040698082891, 255.59707784762756, 310.3417517787757, 110.51127915287029, 113.39646827077316, 71.13082282520786, 48.48294915026285, 217.80774248862886, 100.59911871420121, 73.90555126482258, 194.35575496567216, 327.6303128106846, 86.83130460863264, 211.28196527294705, 9.987475631834275, 8.998592842716501, 8.998592842716501, 8.00971005359873, 7.020827264480957, 7.020827264480957, 6.031944475363185, 5.043061686245412, 5.043061686245412, 5.043061686245412, 5.043061686245412, 5.043061686245412, 4.05417889712764, 4.05417889712764, 4.05417889712764, 4.05417889712764, 4.05417889712764, 4.05417889712764, 4.05417889712764, 4.05417889712764, 3.065296108009868, 3.065296108009868, 3.065296108009868, 3.065296108009868, 3.065296108009868, 3.065296108009868, 3.065296108009868, 3.065296108009868, 3.065296108009868, 3.065296108009868, 16.914660482395064, 8.994536110194764, 16.904383951167382, 7.021821871629849, 6.03062667424036, 6.034447138731375, 31.713119522609624, 22.8326286059905, 9.97925166578666, 39.638433858808696, 36.57177751494074, 48.48294915026285, 656.6428932238206, 38.58373164672526, 117.47240939368284, 24.78809150508242, 13.95802276851451, 62.31071512480758, 91.86847007319652, 308.0918463481317, 75.98094651253153, 113.39646827077316, 71.13082282520786, 327.6303128106846, 138.14273231158737, 26.753105727100262, 100.59911871420121, 205.08577480798888, 310.3417517787757, 324.6407142649244, 255.59707784762756, 76.24253363182311, 215.74145004158626, 86.83130460863264, 44.55199129099123, 273.9040698082891, 13.978044075460037, 11.99527317048811, 9.02111681303022, 8.029731360544258, 7.038345908058294, 6.04696045557233, 5.055575003086367, 5.055575003086367, 5.055575003086367, 5.055575003086367, 5.055575003086367, 4.064189550600404, 4.064189550600404, 4.064189550600404, 4.064189550600404, 4.064189550600404, 4.064189550600404, 4.064189550600404, 3.07280409811444, 3.07280409811444, 3.07280409811444, 3.07280409811444, 3.07280409811444, 3.07280409811444, 3.07280409811444, 3.07280409811444, 3.07280409811444, 3.07280409811444, 3.07280409811444, 3.07280409811444, 10.005530153338398, 8.027228697176067, 14.953697571793812, 7.032643979669967, 23.87983415056528, 27.826372582486933, 22.84147858482434, 14.941683888166985, 6.0404010596824005, 24.841258943404462, 42.61525817281213, 28.790353784031673, 101.70159307802388, 76.24253363182311, 22.860135125420044, 26.79263916240069, 30.71761073986548, 65.29027410399884, 18.83310227877656, 12.958148981032435, 99.86125878023009, 273.9040698082891, 194.35575496567216, 202.20066407979488, 83.02714795203914, 31.768279005050623, 60.424343016150914, 73.19081780136187, 121.58193024583761, 303.18268716130746, 215.74145004158626, 57.40803084680134, 656.6428932238206, 327.6303128106846, 54.432434148797185, 297.3193277928406, 35.671874061633424, 79.93926382132824, 310.3417517787757, 205.08577480798888], \"Category\": [\"Default\", \"Default\", \"Default\", \"Default\", \"Default\", \"Default\", \"Default\", \"Default\", \"Default\", \"Default\", \"Default\", \"Default\", \"Default\", \"Default\", \"Default\", \"Default\", \"Default\", \"Default\", \"Default\", \"Default\", \"Default\", \"Default\", \"Default\", \"Default\", \"Default\", \"Default\", \"Default\", \"Default\", \"Default\", \"Default\", \"Topic1\", \"Topic1\", \"Topic1\", \"Topic1\", \"Topic1\", \"Topic1\", \"Topic1\", \"Topic1\", \"Topic1\", \"Topic1\", \"Topic1\", \"Topic1\", \"Topic1\", \"Topic1\", \"Topic1\", \"Topic1\", \"Topic1\", \"Topic1\", \"Topic1\", \"Topic1\", \"Topic1\", \"Topic1\", \"Topic1\", \"Topic1\", \"Topic1\", \"Topic1\", \"Topic1\", \"Topic1\", \"Topic1\", \"Topic1\", \"Topic1\", \"Topic1\", \"Topic1\", \"Topic1\", \"Topic1\", \"Topic1\", \"Topic1\", \"Topic1\", \"Topic1\", \"Topic1\", \"Topic1\", \"Topic1\", \"Topic1\", \"Topic1\", \"Topic1\", \"Topic1\", \"Topic1\", \"Topic1\", \"Topic1\", \"Topic1\", \"Topic1\", \"Topic1\", \"Topic1\", \"Topic1\", \"Topic1\", \"Topic1\", \"Topic1\", \"Topic1\", \"Topic1\", \"Topic1\", \"Topic1\", \"Topic1\", \"Topic1\", \"Topic1\", \"Topic1\", \"Topic1\", \"Topic1\", \"Topic1\", \"Topic1\", \"Topic2\", \"Topic2\", \"Topic2\", \"Topic2\", \"Topic2\", \"Topic2\", \"Topic2\", \"Topic2\", \"Topic2\", \"Topic2\", \"Topic2\", \"Topic2\", \"Topic2\", \"Topic2\", \"Topic2\", \"Topic2\", \"Topic2\", \"Topic2\", \"Topic2\", \"Topic2\", \"Topic2\", \"Topic2\", \"Topic2\", \"Topic2\", \"Topic2\", \"Topic2\", \"Topic2\", \"Topic2\", \"Topic2\", \"Topic2\", \"Topic2\", \"Topic2\", \"Topic2\", \"Topic2\", \"Topic2\", \"Topic2\", \"Topic2\", \"Topic2\", \"Topic2\", \"Topic2\", \"Topic2\", \"Topic2\", \"Topic2\", \"Topic2\", \"Topic2\", \"Topic2\", \"Topic2\", \"Topic2\", \"Topic2\", \"Topic2\", \"Topic2\", \"Topic2\", \"Topic2\", \"Topic2\", \"Topic2\", \"Topic2\", \"Topic2\", \"Topic2\", \"Topic2\", \"Topic2\", \"Topic2\", \"Topic2\", \"Topic2\", \"Topic3\", \"Topic3\", \"Topic3\", \"Topic3\", \"Topic3\", \"Topic3\", \"Topic3\", \"Topic3\", \"Topic3\", \"Topic3\", \"Topic3\", \"Topic3\", \"Topic3\", \"Topic3\", \"Topic3\", \"Topic3\", \"Topic3\", \"Topic3\", \"Topic3\", \"Topic3\", \"Topic3\", \"Topic3\", \"Topic3\", \"Topic3\", \"Topic3\", \"Topic3\", \"Topic3\", \"Topic3\", \"Topic3\", \"Topic3\", \"Topic3\", \"Topic3\", \"Topic3\", \"Topic3\", \"Topic3\", \"Topic3\", \"Topic3\", \"Topic3\", \"Topic3\", \"Topic3\", \"Topic3\", \"Topic3\", \"Topic3\", \"Topic3\", \"Topic3\", \"Topic3\", \"Topic3\", \"Topic3\", \"Topic3\", \"Topic3\", \"Topic3\", \"Topic3\", \"Topic3\", \"Topic3\", \"Topic3\", \"Topic3\", \"Topic3\", \"Topic3\", \"Topic3\", \"Topic3\", \"Topic3\", \"Topic3\", \"Topic3\", \"Topic3\", \"Topic3\", \"Topic3\", \"Topic3\", \"Topic3\", \"Topic3\", \"Topic4\", \"Topic4\", \"Topic4\", \"Topic4\", \"Topic4\", \"Topic4\", \"Topic4\", \"Topic4\", \"Topic4\", \"Topic4\", \"Topic4\", \"Topic4\", \"Topic4\", \"Topic4\", \"Topic4\", \"Topic4\", \"Topic4\", \"Topic4\", \"Topic4\", \"Topic4\", \"Topic4\", \"Topic4\", \"Topic4\", \"Topic4\", \"Topic4\", \"Topic4\", \"Topic4\", \"Topic4\", \"Topic4\", \"Topic4\", \"Topic4\", \"Topic4\", \"Topic4\", \"Topic4\", \"Topic4\", \"Topic4\", \"Topic4\", \"Topic4\", \"Topic4\", \"Topic4\", \"Topic4\", \"Topic4\", \"Topic4\", \"Topic4\", \"Topic4\", \"Topic4\", \"Topic4\", \"Topic4\", \"Topic4\", \"Topic4\", \"Topic4\", \"Topic4\", \"Topic4\", \"Topic4\", \"Topic4\", \"Topic4\", \"Topic4\", \"Topic4\", \"Topic4\", \"Topic4\", \"Topic4\", \"Topic4\", \"Topic4\", \"Topic4\", \"Topic4\", \"Topic4\", \"Topic4\", \"Topic4\", \"Topic4\", \"Topic4\", \"Topic4\", \"Topic4\", \"Topic4\", \"Topic4\", \"Topic4\", \"Topic4\", \"Topic5\", \"Topic5\", \"Topic5\", \"Topic5\", \"Topic5\", \"Topic5\", \"Topic5\", \"Topic5\", \"Topic5\", \"Topic5\", \"Topic5\", \"Topic5\", \"Topic5\", \"Topic5\", \"Topic5\", \"Topic5\", \"Topic5\", \"Topic5\", \"Topic5\", \"Topic5\", \"Topic5\", \"Topic5\", \"Topic5\", \"Topic5\", \"Topic5\", \"Topic5\", \"Topic5\", \"Topic5\", \"Topic5\", \"Topic5\", \"Topic5\", \"Topic5\", \"Topic5\", \"Topic5\", \"Topic5\", \"Topic5\", \"Topic5\", \"Topic5\", \"Topic5\", \"Topic5\", \"Topic5\", \"Topic5\", \"Topic5\", \"Topic5\", \"Topic5\", \"Topic5\", \"Topic5\", \"Topic5\", \"Topic5\", \"Topic5\", \"Topic5\", \"Topic5\", \"Topic5\", \"Topic5\", \"Topic5\", \"Topic5\", \"Topic5\", \"Topic5\", \"Topic5\", \"Topic5\", \"Topic5\", \"Topic5\", \"Topic5\", \"Topic5\", \"Topic5\", \"Topic5\", \"Topic5\", \"Topic5\", \"Topic5\", \"Topic5\", \"Topic5\", \"Topic6\", \"Topic6\", \"Topic6\", \"Topic6\", \"Topic6\", \"Topic6\", \"Topic6\", \"Topic6\", \"Topic6\", \"Topic6\", \"Topic6\", \"Topic6\", \"Topic6\", \"Topic6\", \"Topic6\", \"Topic6\", \"Topic6\", \"Topic6\", \"Topic6\", \"Topic6\", \"Topic6\", \"Topic6\", \"Topic6\", \"Topic6\", \"Topic6\", \"Topic6\", \"Topic6\", \"Topic6\", \"Topic6\", \"Topic6\", \"Topic6\", \"Topic6\", \"Topic6\", \"Topic6\", \"Topic6\", \"Topic6\", \"Topic6\", \"Topic6\", \"Topic6\", \"Topic6\", \"Topic6\", \"Topic6\", \"Topic6\", \"Topic6\", \"Topic6\", \"Topic6\", \"Topic6\", \"Topic6\", \"Topic6\", \"Topic6\", \"Topic6\", \"Topic6\", \"Topic6\", \"Topic6\", \"Topic6\", \"Topic6\", \"Topic6\", \"Topic6\", \"Topic6\", \"Topic6\", \"Topic6\", \"Topic6\", \"Topic6\", \"Topic6\", \"Topic6\", \"Topic6\", \"Topic6\", \"Topic6\", \"Topic6\", \"Topic7\", \"Topic7\", \"Topic7\", \"Topic7\", \"Topic7\", \"Topic7\", \"Topic7\", \"Topic7\", \"Topic7\", \"Topic7\", \"Topic7\", \"Topic7\", \"Topic7\", \"Topic7\", \"Topic7\", \"Topic7\", \"Topic7\", \"Topic7\", \"Topic7\", \"Topic7\", \"Topic7\", \"Topic7\", \"Topic7\", \"Topic7\", \"Topic7\", \"Topic7\", \"Topic7\", \"Topic7\", \"Topic7\", \"Topic7\", \"Topic7\", \"Topic7\", \"Topic7\", \"Topic7\", \"Topic7\", \"Topic7\", \"Topic7\", \"Topic7\", \"Topic7\", \"Topic7\", \"Topic7\", \"Topic7\", \"Topic7\", \"Topic7\", \"Topic7\", \"Topic7\", \"Topic7\", \"Topic7\", \"Topic7\", \"Topic7\", \"Topic7\", \"Topic7\", \"Topic7\", \"Topic7\", \"Topic7\", \"Topic7\", \"Topic7\", \"Topic7\", \"Topic7\", \"Topic7\", \"Topic7\", \"Topic7\", \"Topic7\", \"Topic7\", \"Topic7\", \"Topic7\", \"Topic7\", \"Topic7\", \"Topic7\", \"Topic7\", \"Topic8\", \"Topic8\", \"Topic8\", \"Topic8\", \"Topic8\", \"Topic8\", \"Topic8\", \"Topic8\", \"Topic8\", \"Topic8\", \"Topic8\", \"Topic8\", \"Topic8\", \"Topic8\", \"Topic8\", \"Topic8\", \"Topic8\", \"Topic8\", \"Topic8\", \"Topic8\", \"Topic8\", \"Topic8\", \"Topic8\", \"Topic8\", \"Topic8\", \"Topic8\", \"Topic8\", \"Topic8\", \"Topic8\", \"Topic8\", \"Topic8\", \"Topic8\", \"Topic8\", \"Topic8\", \"Topic8\", \"Topic8\", \"Topic8\", \"Topic8\", \"Topic8\", \"Topic8\", \"Topic8\", \"Topic8\", \"Topic8\", \"Topic8\", \"Topic8\", \"Topic8\", \"Topic8\", \"Topic8\", \"Topic8\", \"Topic8\", \"Topic8\", \"Topic8\", \"Topic8\", \"Topic8\", \"Topic8\", \"Topic8\", \"Topic8\", \"Topic8\", \"Topic8\", \"Topic8\", \"Topic8\", \"Topic8\", \"Topic8\", \"Topic8\", \"Topic8\", \"Topic8\", \"Topic8\", \"Topic9\", \"Topic9\", \"Topic9\", \"Topic9\", \"Topic9\", \"Topic9\", \"Topic9\", \"Topic9\", \"Topic9\", \"Topic9\", \"Topic9\", \"Topic9\", \"Topic9\", \"Topic9\", \"Topic9\", \"Topic9\", \"Topic9\", \"Topic9\", \"Topic9\", \"Topic9\", \"Topic9\", \"Topic9\", \"Topic9\", \"Topic9\", \"Topic9\", \"Topic9\", \"Topic9\", \"Topic9\", \"Topic9\", \"Topic9\", \"Topic9\", \"Topic9\", \"Topic9\", \"Topic9\", \"Topic9\", \"Topic9\", \"Topic9\", \"Topic9\", \"Topic9\", \"Topic9\", \"Topic9\", \"Topic9\", \"Topic9\", \"Topic9\", \"Topic9\", \"Topic9\", \"Topic9\", \"Topic9\", \"Topic9\", \"Topic9\", \"Topic9\", \"Topic9\", \"Topic9\", \"Topic9\", \"Topic9\", \"Topic9\", \"Topic9\", \"Topic9\", \"Topic9\", \"Topic9\", \"Topic9\", \"Topic9\", \"Topic9\", \"Topic9\", \"Topic9\", \"Topic9\", \"Topic10\", \"Topic10\", \"Topic10\", \"Topic10\", \"Topic10\", \"Topic10\", \"Topic10\", \"Topic10\", \"Topic10\", \"Topic10\", \"Topic10\", \"Topic10\", \"Topic10\", \"Topic10\", \"Topic10\", \"Topic10\", \"Topic10\", \"Topic10\", \"Topic10\", \"Topic10\", \"Topic10\", \"Topic10\", \"Topic10\", \"Topic10\", \"Topic10\", \"Topic10\", \"Topic10\", \"Topic10\", \"Topic10\", \"Topic10\", \"Topic10\", \"Topic10\", \"Topic10\", \"Topic10\", \"Topic10\", \"Topic10\", \"Topic10\", \"Topic10\", \"Topic10\", \"Topic10\", \"Topic10\", \"Topic10\", \"Topic10\", \"Topic10\", \"Topic10\", \"Topic10\", \"Topic10\", \"Topic10\", \"Topic10\", \"Topic10\", \"Topic10\", \"Topic10\", \"Topic10\", \"Topic10\", \"Topic10\", \"Topic10\", \"Topic10\", \"Topic10\", \"Topic10\", \"Topic10\", \"Topic10\", \"Topic10\", \"Topic10\", \"Topic10\", \"Topic10\", \"Topic10\", \"Topic10\", \"Topic10\", \"Topic10\", \"Topic10\"], \"logprob\": [30.0, 29.0, 28.0, 27.0, 26.0, 25.0, 24.0, 23.0, 22.0, 21.0, 20.0, 19.0, 18.0, 17.0, 16.0, 15.0, 14.0, 13.0, 12.0, 11.0, 10.0, 9.0, 8.0, 7.0, 6.0, 5.0, 4.0, 3.0, 2.0, 1.0, -4.7202, -4.8632, -4.9432, -5.1253, -5.4816, -5.4816, -5.6355, -5.6355, -5.8175, -5.8175, -5.8175, -5.8175, -5.8175, -5.8175, -5.8175, -5.8175, -5.8175, -6.0401, -6.0401, -6.0401, -6.0401, -6.0401, -6.0401, -6.0401, -6.0401, -6.0401, -6.327, -6.327, -6.327, -6.327, -4.6557, -4.9432, -5.2306, -5.1253, -5.1253, -4.4839, -4.9432, -5.2306, -4.5951, -4.538, -4.1704, -4.7202, -5.6355, -4.4327, -4.9432, -3.3857, -3.1383, -4.8632, -3.5575, -4.7891, -4.7891, -3.7398, -4.4839, -4.6557, -3.8451, -4.1327, -4.5951, -4.3839, -4.1327, -4.4839, -4.538, -4.3839, -4.3839, -4.5951, -4.7202, -4.6557, -4.7891, -4.7891, -4.7891, -4.6045, -4.9789, -4.9789, -4.9789, -5.0741, -5.1794, -5.297, -5.4304, -5.4304, -5.5843, -5.5843, -5.5843, -5.5843, -5.5843, -5.7663, -5.7663, -5.7663, -5.7663, -5.7663, -5.7663, -5.7663, -5.7663, -5.7663, -5.9889, -5.9889, -5.9889, -6.2758, -6.2758, -6.2758, -6.2758, -4.3815, -4.2418, -5.4304, -4.892, -3.5933, -4.9789, -4.9789, -4.0815, -4.669, -3.6163, -4.5439, -3.9762, -3.4857, -3.6886, -3.5489, -3.5708, -3.6398, -4.2418, -3.7665, -3.5063, -4.5439, -4.812, -4.6045, -4.1585, -4.4328, -4.3815, -4.5439, -4.3815, -4.6045, -4.669, -4.738, -4.738, -4.738, -4.512, -5.5097, -5.5097, -5.8456, -5.8456, -5.8456, -5.8456, -5.8456, -5.8456, -6.0682, -6.0682, -6.0682, -6.0682, -6.0682, -6.0682, -6.0682, -6.0682, -6.0682, -3.7932, -6.3551, -6.3551, -6.3551, -6.3551, -6.3551, -6.3551, -6.3551, -6.3551, -6.3551, -6.7589, -6.7589, -3.7932, -4.8913, -4.4608, -4.7483, -5.3763, -5.3763, -5.1534, -5.5097, -5.0582, -5.1534, -5.3763, -4.412, -4.6232, -5.0582, -4.0227, -4.0894, -3.346, -5.3763, -5.0582, -4.1985, -3.6501, -4.3211, -4.1985, -4.0227, -3.7932, -4.2785, -3.8458, -3.7191, -4.512, -4.2785, -4.6838, -4.3211, -3.9303, -4.0555, -3.991, -4.2785, -4.3211, -4.6232, -4.6838, -4.7568, -5.711, -5.711, -5.711, -5.711, -5.9337, -5.9337, -5.9337, -6.2205, -6.2205, -6.2205, -6.2205, -6.2205, -6.2205, -6.2205, -6.2205, -6.2205, -6.2205, -6.2205, -6.6243, -6.6243, -6.6243, -6.6243, -6.6243, -6.6243, -6.6243, -6.6243, -6.6243, -6.6243, -6.6243, -4.7568, -4.8367, -5.0189, -4.144, -4.8367, -4.8367, -5.1241, -5.0189, -5.711, -5.3751, -4.2775, -5.1241, -3.2619, -4.6827, -5.0189, -5.0189, -3.371, -4.4887, -5.2418, -4.6138, -4.3775, -5.711, -4.4316, -4.2775, -3.4936, -3.5846, -4.9237, -4.1865, -3.7387, -3.8882, -3.8257, -4.7568, -4.4887, -4.231, -4.6827, -4.4887, -4.5493, -4.3262, -4.5493, -4.5493, -4.3775, -4.2775, -4.5493, -4.6827, -4.6138, -4.6827, -5.1513, -5.7567, -5.7567, -5.9387, -5.9387, -5.9387, -5.9387, -6.1613, -6.1613, -6.1613, -6.1613, -6.1613, -6.1613, -6.4482, -6.4482, -6.4482, -6.4482, -6.4482, -6.4482, -6.4482, -6.852, -6.852, -6.852, -6.852, -6.852, -6.852, -6.852, -6.852, -6.852, -6.852, -4.2539, -4.9103, -3.9663, -4.5539, -5.6028, -4.8414, -4.1158, -5.4694, -5.4694, -5.1513, -4.7769, -4.3308, -5.3518, -3.0067, -4.2916, -5.6028, -3.2062, -3.9663, -2.6902, -3.4556, -4.3716, -3.3756, -5.2465, -5.0644, -4.2175, -3.9945, -3.9663, -5.0644, -4.4586, -4.0841, -4.5051, -4.6051, -3.9945, -4.5051, -4.1486, -4.6592, -4.6592, -4.2539, -4.6592, -4.7163, -4.8414, -4.8853, -5.3368, -5.4907, -5.6727, -5.6727, -5.8953, -5.8953, -5.8953, -6.1822, -6.1822, -6.1822, -6.1822, -6.1822, -6.1822, -6.1822, -6.1822, -6.1822, -6.1822, -6.1822, -6.1822, -6.1822, -6.586, -6.586, -6.586, -6.586, -6.586, -6.586, -6.586, -6.586, -6.586, -4.8853, -5.3368, -5.3368, -4.8853, -5.2034, -5.0858, -5.6727, -5.3368, -4.4503, -4.0648, -4.0648, -5.4907, -5.4907, -3.0355, -4.1056, -4.3932, -3.2586, -5.4907, -3.2409, -4.7184, -3.2766, -2.8651, -4.2391, -3.6203, -4.1926, -3.4997, -4.9805, -4.1056, -4.9805, -4.2391, -4.0256, -4.5754, -4.5109, -4.4503, -4.5109, -5.0858, -4.8853, -4.7184, -4.8853, -4.9258, -5.3308, -5.4642, -5.4642, -5.4642, -5.6181, -5.6181, -5.6181, -5.6181, -5.6181, -5.6181, -5.8001, -5.8001, -5.8001, -6.0227, -6.0227, -6.0227, -6.0227, -6.0227, -6.3096, -6.3096, -6.3096, -6.3096, -6.3096, -6.3096, -6.3096, -6.3096, -6.3096, -6.3096, -6.3096, -4.6383, -4.7718, -4.6383, -4.8458, -5.2132, -5.6181, -5.6181, -5.3308, -4.1153, -4.8458, -5.4642, -4.5206, -4.2756, -5.1079, -5.4642, -3.386, -4.1923, -3.1487, -3.6046, -3.8003, -3.6046, -3.8559, -3.8849, -3.6736, -3.9455, -3.8003, -4.4666, -4.32, -4.6383, -5.0127, -4.0439, -4.01, -4.32, -4.7718, -4.4666, -4.7028, -4.7718, -4.5206, -4.5777, -4.7718, -4.9764, -5.0716, -5.2945, -5.4279, -5.4279, -5.4279, -5.5818, -5.7638, -5.7638, -5.7638, -5.7638, -5.7638, -5.7638, -5.7638, -5.9864, -5.9864, -5.9864, -5.9864, -5.9864, -5.9864, -6.2733, -6.2733, -6.2733, -6.2733, -6.2733, -6.2733, -6.2733, -6.2733, -6.2733, -6.2733, -4.9764, -4.8895, -4.379, -4.379, -4.8895, -4.079, -4.602, -5.1769, -5.7638, -4.4843, -4.8095, -2.6215, -4.8895, -4.8095, -4.1968, -5.0716, -3.5683, -4.7355, -4.2393, -3.5038, -3.5908, -4.4843, -3.5908, -3.7114, -3.8486, -3.8486, -4.2837, -4.2837, -4.4843, -4.6665, -4.1167, -4.4303, -4.602, -4.4843, -4.4303, -4.8095, -4.8095, -4.8764, -4.9817, -4.9817, -5.0993, -5.2327, -5.2327, -5.3866, -5.5686, -5.5686, -5.5686, -5.5686, -5.5686, -5.7912, -5.7912, -5.7912, -5.7912, -5.7912, -5.7912, -5.7912, -5.7912, -6.0781, -6.0781, -6.0781, -6.0781, -6.0781, -6.0781, -6.0781, -6.0781, -6.0781, -6.0781, -4.4713, -5.0993, -4.6143, -5.3866, -5.5686, -5.5686, -4.3462, -4.6143, -5.2327, -4.2891, -4.3462, -4.2891, -2.714, -4.4713, -3.8838, -4.7812, -5.0993, -4.2891, -4.0885, -3.4662, -4.2351, -4.0441, -4.2891, -3.5688, -4.0016, -4.7812, -4.2351, -3.9608, -3.8124, -4.0885, -4.2891, -4.6143, -4.4068, -4.6943, -4.7812, -4.7812, -4.6298, -4.7838, -5.0712, -5.1889, -5.3222, -5.4762, -5.6581, -5.6581, -5.6581, -5.6581, -5.6581, -5.8808, -5.8808, -5.8808, -5.8808, -5.8808, -5.8808, -5.8808, -6.1676, -6.1676, -6.1676, -6.1676, -6.1676, -6.1676, -6.1676, -6.1676, -6.1676, -6.1676, -6.1676, -6.1676, -5.0712, -5.3222, -4.7838, -5.4762, -4.4964, -4.3787, -4.6298, -4.966, -5.6581, -4.6298, -4.2733, -4.5609, -3.7728, -3.9734, -4.7838, -4.7039, -4.6298, -4.1781, -4.966, -5.1889, -4.0111, -3.4407, -3.6584, -3.7139, -4.1781, -4.7039, -4.3787, -4.3246, -4.0911, -3.7139, -3.9734, -4.4964, -3.7429, -4.0111, -4.5609, -4.2733, -4.7039, -4.7039, -4.7039, -4.7039], \"loglift\": [30.0, 29.0, 28.0, 27.0, 26.0, 25.0, 24.0, 23.0, 22.0, 21.0, 20.0, 19.0, 18.0, 17.0, 16.0, 15.0, 14.0, 13.0, 12.0, 11.0, 10.0, 9.0, 8.0, 7.0, 6.0, 5.0, 4.0, 3.0, 2.0, 1.0, 2.2363, 2.2354, 2.2348, 2.2333, 2.2295, 2.2295, 2.2274, 2.2274, 2.2245, 2.2245, 2.2245, 2.2245, 2.2245, 2.2245, 2.2245, 2.2245, 2.2245, 2.2201, 2.2201, 2.2201, 2.2201, 2.2201, 2.2201, 2.2201, 2.2201, 2.2201, 2.2129, 2.2129, 2.2129, 2.2129, 2.1766, 2.1562, 2.1283, 2.0544, 2.0526, 1.9271, 2.0138, 2.0338, 1.8155, 1.7984, 1.6923, 1.8114, 2.0759, 1.5737, 1.6317, 0.491, 0.0339, 1.4371, 0.31, 1.3239, 1.2997, 0.3068, 0.9833, 1.1439, 0.0999, 0.1735, 0.7712, 0.3475, -0.211, 0.3749, 0.3905, -0.2681, -0.4549, -0.3193, 0.3281, -0.3197, 0.3838, -0.058, -0.5038, 2.2913, 2.2888, 2.2888, 2.2888, 2.288, 2.287, 2.2857, 2.2842, 2.2842, 2.282, 2.282, 2.282, 2.282, 2.282, 2.2791, 2.2791, 2.2791, 2.2791, 2.2791, 2.2791, 2.2791, 2.2791, 2.2791, 2.2747, 2.2747, 2.2747, 2.2674, 2.2674, 2.2674, 2.2674, 2.0697, 1.7169, 2.0357, 1.8325, 1.1381, 1.7989, 1.7439, 1.1587, 1.506, 0.7338, 1.3885, 0.917, 0.4593, 0.5872, 0.3801, 0.3509, 0.3247, 0.7955, 0.101, -0.3341, 0.852, 1.1982, 0.876, 0.1268, 0.5215, 0.3496, 0.506, -0.0455, 0.5479, 0.6876, 0.9245, 0.7893, 0.6283, 2.2121, 2.204, 2.204, 2.199, 2.199, 2.199, 2.199, 2.199, 2.199, 2.1946, 2.1946, 2.1946, 2.1946, 2.1946, 2.1946, 2.1946, 2.1946, 2.1946, 2.1893, 2.1873, 2.1873, 2.1873, 2.1873, 2.1873, 2.1873, 2.1873, 2.1873, 2.1873, 2.173, 2.173, 2.1172, 2.1362, 2.0728, 2.0859, 2.0901, 2.0887, 2.0262, 2.0722, 1.9685, 1.948, 1.9846, 1.5454, 1.55, 1.7189, 1.1727, 1.2005, 0.7006, 1.8047, 1.6147, 1.0417, 0.6561, 1.0749, 0.9539, 0.7087, 0.4826, 0.8944, 0.5043, 0.2259, 1.0152, 0.6757, 1.0944, 0.5721, -0.0537, 0.0603, -0.0693, 0.0068, -0.3565, 0.4324, 0.6417, 2.344, 2.333, 2.333, 2.333, 2.333, 2.3286, 2.3286, 2.3286, 2.3214, 2.3214, 2.3214, 2.3214, 2.3214, 2.3214, 2.3214, 2.3214, 2.3214, 2.3214, 2.3214, 2.307, 2.307, 2.307, 2.307, 2.307, 2.307, 2.307, 2.307, 2.307, 2.307, 2.307, 2.2703, 2.1907, 2.1608, 2.0603, 2.1222, 2.122, 2.1423, 2.0813, 2.1554, 2.09, 1.7819, 1.9011, 1.1278, 1.6885, 1.7591, 1.7589, 0.9351, 1.4193, 1.7875, 1.3928, 1.235, 2.0016, 1.1776, 1.0514, 0.383, 0.3605, 1.4874, 0.7677, 0.2259, 0.2276, 0.1033, 1.1988, 0.8012, 0.105, 0.9823, 0.5669, 0.6461, 0.0239, 0.5898, 0.3439, -0.51, -1.1052, 0.1818, 0.5954, -0.6921, 0.1761, 2.1236, 2.1168, 2.1168, 2.1138, 2.1138, 2.1138, 2.1138, 2.1094, 2.1094, 2.1094, 2.1094, 2.1094, 2.1094, 2.102, 2.102, 2.102, 2.102, 2.102, 2.102, 2.102, 2.0876, 2.0876, 2.0876, 2.0876, 2.0876, 2.0876, 2.0876, 2.0876, 2.0876, 2.0876, 1.9578, 1.9914, 1.8826, 1.903, 1.9858, 1.889, 1.8004, 1.8979, 1.8971, 1.7484, 1.6012, 1.4531, 1.755, 0.9223, 1.3062, 1.7634, 0.7584, 1.0836, 0.482, 0.8297, 1.1132, 0.5461, 1.5918, 1.474, 0.7109, 0.3952, 0.3696, 1.3128, 0.6938, 0.1917, 0.6678, 0.7245, -0.127, 0.5431, -0.0328, 0.6974, 0.6189, -0.3772, 0.0719, -0.3662, 0.8251, 2.3773, 2.3727, 2.3706, 2.3677, 2.3677, 2.3633, 2.3633, 2.3633, 2.3561, 2.3561, 2.3561, 2.3561, 2.3561, 2.3561, 2.3561, 2.3561, 2.3561, 2.3561, 2.3561, 2.3561, 2.3561, 2.3418, 2.3418, 2.3418, 2.3418, 2.3418, 2.3418, 2.3418, 2.3418, 2.3418, 2.2124, 2.2412, 2.2408, 2.1385, 2.1545, 2.0915, 2.1895, 2.1251, 1.9202, 1.6173, 1.5973, 2.0901, 2.0884, 1.0111, 1.4524, 1.5624, 0.8572, 1.9719, 0.7042, 1.5188, 0.5909, 0.3071, 1.1568, 0.6859, 0.9803, 0.377, 1.5943, 0.6258, 1.5098, 0.6197, 0.2501, 0.7027, 0.5447, -0.0606, -0.2256, 1.3226, 0.4402, -0.7967, -0.1542, 2.2561, 2.2524, 2.2508, 2.2508, 2.2508, 2.2487, 2.2487, 2.2487, 2.2487, 2.2487, 2.2487, 2.2457, 2.2457, 2.2457, 2.2413, 2.2413, 2.2413, 2.2413, 2.2413, 2.234, 2.234, 2.234, 2.234, 2.234, 2.234, 2.234, 2.234, 2.234, 2.234, 2.234, 2.1973, 2.1238, 2.087, 2.0495, 2.0541, 2.0968, 2.0967, 1.9354, 1.5497, 1.687, 1.8984, 1.4896, 1.3715, 1.6718, 1.897, 0.4815, 0.9468, 0.0235, 0.3599, 0.4754, 0.272, 0.4503, 0.4652, 0.2481, 0.3398, 0.1447, 0.8233, 0.6342, 1.0282, 1.4776, 0.0719, -0.081, 0.4111, 1.0121, 0.3922, 0.5753, 0.7131, -0.1309, -0.2418, 0.5579, 2.2885, 2.2877, 2.2855, 2.2839, 2.2839, 2.2839, 2.2818, 2.2789, 2.2789, 2.2789, 2.2789, 2.2789, 2.2789, 2.2789, 2.2745, 2.2745, 2.2745, 2.2745, 2.2745, 2.2745, 2.2672, 2.2672, 2.2672, 2.2672, 2.2672, 2.2672, 2.2672, 2.2672, 2.2672, 2.2672, 2.2024, 2.1377, 2.0698, 2.0693, 1.9443, 1.6623, 1.8089, 1.9232, 2.1004, 1.6331, 1.6809, 0.5507, 1.6881, 1.64, 1.2704, 1.7623, 0.7676, 1.498, 1.0903, 0.4608, 0.3382, 1.1249, 0.2858, 0.3352, 0.2672, 0.0731, 0.6705, 0.6448, 0.9106, 1.1117, 0.159, 0.618, 0.7546, -0.0946, -0.5628, 0.3859, -0.5033, 2.4816, 2.4806, 2.4806, 2.4794, 2.4778, 2.4778, 2.4757, 2.4728, 2.4728, 2.4728, 2.4728, 2.4728, 2.4684, 2.4684, 2.4684, 2.4684, 2.4684, 2.4684, 2.4684, 2.4684, 2.4611, 2.4611, 2.4611, 2.4611, 2.4611, 2.4611, 2.4611, 2.4611, 2.4611, 2.4611, 2.3599, 2.3634, 2.2175, 2.3237, 2.2939, 2.2933, 1.8564, 1.9169, 2.1262, 1.6905, 1.7139, 1.4891, 0.4582, 1.5352, 1.0093, 1.6678, 1.924, 1.2381, 1.0505, 0.4628, 1.0938, 0.8844, 1.1058, 0.2986, 0.7295, 1.5915, 0.8132, 0.3752, 0.1093, -0.2119, -0.1733, 0.7111, -0.1215, 0.5011, 1.0815, -0.7346, 2.3921, 2.391, 2.3886, 2.3873, 2.3858, 2.3837, 2.3807, 2.3807, 2.3807, 2.3807, 2.3807, 2.3764, 2.3764, 2.3764, 2.3764, 2.3764, 2.3764, 2.3764, 2.3691, 2.3691, 2.3691, 2.3691, 2.3691, 2.3691, 2.3691, 2.3691, 2.3691, 2.3691, 2.3691, 2.3691, 2.285, 2.2543, 2.1706, 2.2327, 1.99, 1.9547, 1.901, 1.9892, 2.2028, 1.8171, 1.6338, 1.7385, 1.2646, 1.3521, 1.7461, 1.6674, 1.6047, 1.3024, 1.7578, 1.9088, 1.0445, 0.6059, 0.7313, 0.6362, 1.0621, 1.497, 1.1793, 1.0417, 0.7677, 0.2311, 0.3119, 1.1128, -0.5707, -0.1436, 1.1016, -0.3088, 1.3811, 0.5742, -0.7822, -0.3679]}, \"token.table\": {\"Topic\": [4, 5, 4, 1, 5, 7, 3, 9, 3, 3, 10, 5, 5, 6, 10, 1, 4, 5, 8, 3, 4, 3, 1, 5, 10, 2, 4, 8, 4, 5, 2, 7, 1, 3, 1, 1, 8, 6, 3, 5, 6, 5, 7, 9, 7, 6, 9, 1, 8, 3, 6, 2, 4, 5, 6, 9, 4, 8, 1, 3, 1, 4, 3, 3, 5, 7, 8, 6, 1, 8, 10, 3, 5, 9, 1, 2, 3, 4, 8, 10, 1, 1, 2, 4, 5, 1, 3, 7, 9, 4, 7, 1, 2, 4, 4, 7, 10, 8, 4, 6, 7, 3, 5, 8, 1, 6, 6, 6, 1, 2, 3, 4, 5, 7, 8, 9, 10, 2, 8, 4, 2, 3, 10, 1, 10, 7, 2, 9, 4, 5, 7, 7, 7, 7, 2, 4, 9, 9, 10, 5, 7, 6, 2, 3, 9, 10, 10, 1, 3, 5, 6, 7, 8, 2, 6, 7, 10, 1, 2, 3, 4, 5, 6, 7, 8, 9, 10, 4, 5, 4, 6, 10, 1, 6, 9, 7, 9, 6, 5, 3, 9, 10, 6, 4, 7, 2, 5, 7, 4, 6, 1, 2, 7, 8, 7, 4, 6, 10, 4, 1, 2, 9, 2, 8, 1, 3, 5, 6, 8, 9, 10, 6, 9, 4, 5, 6, 2, 10, 6, 6, 8, 9, 7, 10, 10, 4, 4, 5, 2, 5, 7, 5, 2, 7, 10, 6, 7, 9, 10, 2, 4, 9, 6, 2, 10, 4, 6, 7, 4, 2, 3, 8, 6, 8, 4, 5, 6, 7, 9, 10, 5, 9, 10, 5, 7, 10, 10, 9, 1, 5, 2, 3, 6, 1, 3, 10, 4, 2, 3, 4, 5, 7, 8, 10, 10, 6, 7, 2, 5, 7, 9, 10, 4, 7, 8, 10, 1, 2, 4, 5, 6, 7, 8, 9, 10, 10, 2, 3, 2, 2, 3, 5, 5, 4, 1, 3, 4, 6, 7, 8, 9, 10, 5, 6, 2, 9, 1, 5, 9, 3, 9, 1, 2, 4, 5, 6, 7, 8, 9, 10, 2, 5, 7, 1, 2, 5, 3, 1, 3, 4, 5, 6, 7, 8, 9, 10, 3, 9, 1, 2, 4, 5, 6, 7, 8, 9, 7, 2, 4, 9, 1, 4, 10, 8, 10, 5, 7, 9, 1, 2, 5, 9, 9, 6, 10, 8, 8, 5, 5, 7, 8, 1, 2, 8, 9, 10, 1, 6, 8, 9, 4, 3, 6, 10, 10, 9, 4, 8, 10, 10, 1, 6, 1, 2, 4, 5, 6, 7, 4, 4, 4, 9, 8, 7, 2, 1, 7, 6, 7, 6, 3, 4, 8, 2, 5, 6, 9, 1, 10, 8, 5, 2, 2, 3, 5, 6, 9, 2, 4, 5, 1, 2, 4, 9, 10, 2, 8, 8, 3, 6, 4, 6, 3, 7, 3, 8, 1, 4, 2, 3, 5, 6, 3, 5, 1, 2, 3, 4, 5, 7, 8, 10, 3, 2, 3, 4, 7, 8, 9, 10, 3, 5, 9, 2, 6, 10, 3, 8, 9, 1, 2, 3, 4, 5, 7, 8, 9, 10, 3, 4, 9, 7, 1, 2, 3, 5, 6, 7, 8, 9, 10, 5, 10, 7, 10, 3, 9, 4, 1, 9, 9, 8, 9, 5, 1, 1, 2, 8, 3, 7, 1, 2, 9, 8, 10, 4, 2, 3, 7, 9, 4, 5, 6, 7, 8, 9, 1, 5, 7, 1, 2, 3, 4, 7, 9, 7, 1, 3, 4, 6, 7, 8, 9, 1, 5, 1, 1, 4, 2, 6, 6, 10, 3, 1, 6, 7, 10, 3, 8, 9, 7, 1, 10, 10, 1, 2, 3, 4, 5, 6, 9, 2, 10, 7, 2, 3, 8, 9, 8, 7, 3, 4, 10, 1, 2, 3, 4, 5, 6, 7, 8, 10, 8, 3, 7, 10, 1, 2, 6, 8, 7, 8, 1, 3, 4, 7, 10, 3, 4, 10, 3, 10, 5, 6, 8, 2, 5, 7, 8, 8, 1, 6, 10, 8, 9, 10, 4, 6, 3, 4, 8, 7, 3, 1, 3, 4, 5, 8, 9, 8, 3, 4, 2, 3, 4, 5, 6, 9, 6, 7, 2, 3, 4, 5, 7, 10, 6, 2, 3, 4, 5, 8, 9, 6, 5, 8, 1, 5, 2, 2, 3, 1, 4, 5, 8, 8, 9, 9, 1, 2, 3, 4, 5, 8, 9, 7, 10, 3, 3, 5, 7, 4, 5, 6, 3, 1, 6, 7, 9, 1, 2, 7, 1, 4, 5, 6, 9, 10, 8, 9, 8, 4, 8, 2, 3, 4, 6, 7, 8, 3, 5, 4, 7, 9, 1, 4, 5, 6, 7, 8, 10, 2, 2, 10, 2, 3, 4, 5, 7, 9, 1, 5, 4, 9, 9, 3, 1, 1, 3, 2, 2, 7, 3, 6, 1, 2, 3, 4, 5, 6, 7, 8, 9, 10, 3, 4, 2, 8, 9, 4, 7, 7, 10, 7, 5, 1, 1, 2, 3, 4, 6, 7, 8, 10, 10, 1, 2, 3, 7, 10, 2, 5, 6, 3, 4, 8, 10, 2, 2, 3, 4, 5, 6, 7, 8, 10, 1, 3, 5, 7, 9, 2, 4, 7, 8, 10, 3, 6, 8, 9, 10, 2, 1, 10, 3, 4, 2, 6, 10, 1, 2, 4, 5, 6, 7, 8, 9, 3, 6, 4, 9, 2, 2, 7, 3, 8, 2, 5, 8, 10, 10, 3, 4, 6, 8, 1, 3, 4, 6, 10, 7, 1, 2, 5, 4, 3, 4, 1, 4, 5, 7, 8, 5, 6, 10, 2, 2, 3, 3, 5, 2, 7, 8, 10, 8, 6, 6, 5, 6, 7, 1, 6, 4, 1, 2, 9, 2, 3, 4, 5, 10, 3, 4, 6, 9, 10, 1, 2, 4, 5, 6, 7, 8, 9, 10, 10, 8, 3, 4, 8, 9, 1, 1, 4, 5, 2, 10, 5, 1, 8, 1, 7, 2, 6, 7, 8, 10, 8, 1, 5, 8, 5, 5, 5, 8, 3, 4, 8, 9, 10, 6, 8, 9, 9, 10, 2, 3, 9, 10, 7, 1, 3, 5, 6, 8, 6, 1, 1, 3, 7, 8, 1, 2, 3, 4, 5, 6, 7, 8, 9, 10, 7, 1, 2, 8, 6, 2, 6, 1, 7, 8, 10, 2, 4, 8, 1, 3, 7, 2, 3, 6, 10, 3, 8, 1, 8, 2, 1, 1, 8, 9, 1, 3, 1, 3, 5, 8, 9, 10, 8, 9, 9, 1, 2, 3, 5, 7, 8, 6], \"Freq\": [0.981331110516214, 0.9736678801860429, 0.9657493726268092, 0.4168204374724287, 0.5954577678177553, 0.9991460993518633, 0.9897604733441049, 0.9866362835724823, 0.9897604733441049, 0.83764343554633, 0.167528687109266, 0.9976233448045932, 0.9736678801860429, 0.8729077528296809, 0.12470110754709728, 0.9953022135455675, 0.9657493726268092, 1.0025565893725914, 0.9799621569488477, 0.2228907692513682, 0.7801176923797887, 0.9897604733441049, 0.10619599311866129, 0.37168597591531455, 0.5309799655933065, 1.001082579735955, 0.08369598751925199, 0.9206558627117719, 0.1590947868622223, 0.827292891683556, 0.15954273473495978, 0.8508945852531188, 0.9792772689634822, 1.0002239916838958, 0.9872247150423278, 0.6572217276615395, 0.3505182547528211, 0.9622775030640723, 0.29375583733655375, 0.29375583733655375, 0.42431398726391095, 0.9736678801860429, 0.8229599700281993, 0.18287999333959984, 0.9958742042719362, 0.9622775030640723, 0.9786982706697588, 0.9872247150423278, 1.0025768610855237, 0.7907525830508204, 0.21565979537749647, 0.30035321588656366, 0.03754415198582046, 0.45052982382984547, 0.22526491191492273, 0.9914612017610532, 0.9657493726268092, 0.9927582887977228, 1.0041501954834031, 0.9661766721528317, 0.9872247150423278, 0.9657493726268092, 0.9661766721528317, 0.9817723128250525, 0.25843998324861167, 0.21867998582574832, 0.536759965208655, 0.9622775030640723, 0.9872247150423278, 0.9879207686741565, 0.9842060637671485, 0.9897604733441049, 0.9736678801860429, 0.9914612017610532, 0.23226957302400408, 0.19128082484329748, 0.12296624454211981, 0.1639549927228264, 0.0409887481807066, 0.25959540514447516, 0.9920554042140866, 0.3939844358598087, 0.05628349083711552, 0.2532757087670199, 0.30955919960413536, 0.5835878318026473, 0.08978274335425343, 0.08978274335425343, 0.24690254422419694, 0.9657493726268092, 1.0074206754410242, 1.0035129830850065, 0.982599502279644, 0.9657493726268092, 0.9657493726268092, 0.9500822826973373, 0.05938014266858358, 0.9927582887977228, 0.5738256733503517, 0.19127522445011721, 0.24592528857872215, 0.9897604733441049, 0.9976233448045932, 0.9927582887977228, 0.9792772689634822, 0.9622775030640723, 0.9622775030640723, 0.9777465123696724, 0.03027048415187732, 0.13789887224744113, 0.07735790394368648, 0.12108193660750928, 0.25225403459897766, 0.14798903363140023, 0.15807919501535933, 0.006726774255972737, 0.06726774255972738, 0.9954650546909442, 0.9799621569488477, 0.9657493726268092, 0.9954650546909442, 0.38585757945203275, 0.6173721271232524, 0.9792772689634822, 0.9976591797370677, 0.9829981422533683, 0.11117860751779743, 0.8894288601423794, 0.26466453441358406, 0.5293290688271681, 0.22055377867798673, 0.9991460993518633, 0.9829981422533683, 0.9991460993518633, 0.7808392688683915, 0.22309693396239758, 0.9786982706697588, 0.9866362835724823, 1.0003940576796133, 0.9736678801860429, 0.9958742042719362, 0.9622775030640723, 0.22468045779860135, 0.30492347844095896, 0.28887487431248743, 0.19258324954165829, 0.9763069509835935, 0.18092798516669537, 0.10855679110001723, 0.12664958961668676, 0.10855679110001723, 0.41613436588339936, 0.07237119406667815, 0.4091257017244876, 0.1684635242394949, 0.21659595973649345, 0.21659595973649345, 0.08700086225989569, 0.14177918294205222, 0.10311213304876525, 0.04833381236660871, 0.2062242660975305, 0.04188930405106089, 0.13211242046873048, 0.10955664136431309, 0.09344537057544351, 0.04188930405106089, 0.8323517882935105, 0.1664703576587021, 0.3473385591234525, 0.138935423649381, 0.5210078386851787, 0.9920554042140866, 0.14241318254458768, 0.8544790952675261, 0.7030802303344369, 0.3013200987147587, 0.9777465123696724, 0.9736678801860429, 0.9817723128250525, 0.8868046754832672, 0.11824062339776897, 0.9622775030640723, 0.9657493726268092, 0.9829981422533683, 0.33694277199251854, 0.11231425733083951, 0.5615712866541975, 0.2507110016010234, 0.7521330048030702, 0.9792772689634822, 0.9906011841273832, 0.16608851197684105, 0.8304425598842052, 0.9829981422533683, 0.9657493726268092, 0.9622775030640723, 0.9763069509835935, 0.9657493726268092, 0.9920554042140866, 1.0028510813773193, 0.9866362835724823, 0.9987342574292182, 0.9799621569488477, 0.15764865857272964, 0.2702548432675365, 0.23647298785909446, 0.24773360632857513, 0.045042473877922755, 0.011260618469480689, 0.045042473877922755, 0.9777465123696724, 0.9987877147195401, 0.9941632524008556, 0.9736678801860429, 0.9777465123696724, 0.3940200266185707, 0.6129200414066656, 0.9622775030640723, 0.9777465123696724, 0.9983452204596578, 0.9914612017610532, 1.0014963610632546, 0.9763069509835935, 0.9842060637671485, 0.9893120638080367, 0.981331110516214, 0.9895082811023174, 1.0062447215161763, 0.9976233448045932, 0.9829981422533683, 1.0025565893725914, 0.35810076809535646, 0.19532769168837624, 0.4557646139395446, 0.0630371389123869, 0.8194828058610296, 0.1260742778247738, 0.9763069509835935, 0.20152049205410974, 0.806081968216439, 0.9786982706697588, 0.9777465123696724, 0.16555192115878795, 0.8277596057939398, 0.12613313357081918, 0.42044377856939724, 0.46248815642633695, 0.981331110516214, 0.3106836770876947, 0.07767091927192367, 0.6213673541753894, 0.9777465123696724, 0.9927582887977228, 0.17513296133538725, 0.22517095028835504, 0.1876424585736292, 0.1876424585736292, 0.07505698342945168, 0.16262346409714531, 1.005872614160066, 0.5731470805482433, 0.4298603104111825, 0.9736678801860429, 0.9991460993518633, 0.9890071845334232, 0.9945518579849292, 1.000156375258676, 0.20329790901777112, 0.8131916360710845, 0.16801871080007452, 0.6160686062669398, 0.22402494773343268, 0.9872247150423278, 0.14219403156064908, 0.8531641893638945, 0.981331110516214, 0.2261518163472106, 0.0786615013381602, 0.09832687667270026, 0.12782493967451034, 0.06882881367089018, 0.08849418900543023, 0.32447869301991084, 0.9763069509835935, 0.9960457673830764, 0.9829981422533683, 0.18458475033059168, 0.35378743813363406, 0.2153488753856903, 0.09229237516529584, 0.15382062527549306, 0.09175567357503482, 0.3670226943001393, 0.5505340414502089, 0.9842060637671485, 0.1434543696424028, 0.10987994270481916, 0.057992191983099, 0.10377550144344032, 0.16481991405722873, 0.16787213468791815, 0.057992191983099, 0.11293216333550858, 0.07935773639792494, 0.9962973405697794, 0.02530035875155701, 0.9614136325591663, 0.9954650546909442, 0.09416282437274781, 0.8945468315411041, 0.9736678801860429, 0.9736678801860429, 1.0063098092058913, 0.14603653033705122, 0.2190547955055768, 0.03285821932583652, 0.2519130148314133, 0.0036509132584262804, 0.14238561707862493, 0.040160045842689084, 0.16794200988760888, 0.9895082811023174, 0.9777465123696724, 0.9954650546909442, 0.9970335027915693, 0.3165565677351646, 0.6964244490173621, 0.9786982706697588, 0.9817723128250525, 0.9786982706697588, 0.15627322219331577, 0.016449812862454293, 0.11514869003718003, 0.05757434501859002, 0.17272303505577005, 0.15627322219331577, 0.05757434501859002, 0.08224906431227146, 0.1973977543494515, 0.33816660416817695, 0.20810252564195503, 0.4682306826943988, 0.7379097037751173, 0.15534941132107732, 0.116512058490808, 0.9897604733441049, 0.08216056371551715, 0.11737223387931021, 0.12128464167528721, 0.1134598260833332, 0.2151824287787354, 0.1134598260833332, 0.13302186506321823, 0.07042334032758613, 0.03912407795977007, 1.0002239916838958, 0.9970335027915693, 0.06816149225926227, 0.14606034055556202, 0.10711091640741215, 0.29861225180248235, 0.012983141382716624, 0.09737356037037467, 0.1395687698642037, 0.13307719917284538, 0.9910063444294887, 0.982599502279644, 0.8376733195059601, 0.16753466390119204, 0.9920554042140866, 0.522531577241813, 0.4852078931531121, 0.8062281198695078, 0.20155702996737695, 0.7748162400784538, 0.06641282057815319, 0.15496324801569075, 0.15336984019400166, 0.460109520582005, 0.184043808232802, 0.21471777627160232, 0.9786982706697588, 0.9777465123696724, 0.9763069509835935, 0.9879207686741565, 0.9799621569488477, 1.0134912320447038, 0.10057942316322965, 0.7040559621426076, 0.2011588463264593, 0.30273648153566707, 0.025228040127972258, 0.1765962808958058, 0.45410472230350063, 0.050456080255944516, 0.14335456859823786, 0.7884501272903083, 0.07167728429911893, 0.9786982706697588, 0.981331110516214, 0.3098915655562083, 0.34862801125073434, 0.34862801125073434, 0.9890071845334232, 0.9786982706697588, 0.16259163079264125, 0.4552565662193955, 0.39021991390233896, 0.9890071845334232, 0.5490290806446306, 0.45752423387052554, 0.07378482322558176, 0.12912344064476808, 0.0922310290319772, 0.2766930870959316, 0.14756964645116352, 0.29513929290232704, 0.981331110516214, 0.9941632524008556, 0.981331110516214, 0.9786982706697588, 0.9879207686741565, 0.9991460993518633, 0.982599502279644, 0.9469966116997571, 0.05918728823123482, 0.7493687693227381, 0.24978958977424603, 0.9777465123696724, 0.27188152573028956, 0.42724239757616933, 0.31072174369175953, 0.982599502279644, 0.2502078951688375, 0.7506236855065125, 0.9786982706697588, 0.9872247150423278, 1.0015707436907078, 0.9799621569488477, 0.9895082811023174, 1.0062447215161763, 0.9954650546909442, 0.32812186925006903, 0.19140442372920694, 0.02734348910417242, 0.4648393147709311, 0.2162096902957452, 0.5765591741219872, 0.2162096902957452, 0.1643982655003923, 0.11742733250028022, 0.39925293050095273, 0.04697093300011209, 0.28182559800067253, 0.3094529316011043, 0.6962690961024848, 0.9799621569488477, 0.8914648926158278, 0.11143311157697848, 0.33346907304730067, 0.6669381460946013, 0.1430449136934131, 0.8582694821604787, 0.8032736687852151, 0.20081841719630378, 0.9920554042140866, 0.9941632524008556, 0.23925545521672464, 0.32369855705792155, 0.1548123533755277, 0.29555085644418927, 0.31150548770537595, 0.7008873473370959, 0.05440140392248686, 0.20771445134040437, 0.17804095829177516, 0.09891164349543065, 0.08407489697111604, 0.16320421176746056, 0.039564657398172255, 0.17309537611700362, 0.9817723128250525, 0.043540509565610334, 0.09796614652262325, 0.17416203826244134, 0.2721281847850646, 0.10885127391402584, 0.23947280261085685, 0.07619589173981808, 0.1009474980945605, 0.7066324866619235, 0.201894996189121, 0.165758839247472, 0.82879419623736, 0.9922340395778418, 0.3300129278524563, 0.3093871198616778, 0.3712645438340133, 0.078016137467262, 0.0975201718340775, 0.06826412028385426, 0.10727218901748525, 0.17066030070963564, 0.08289214605896589, 0.2145443780349705, 0.12190021479259688, 0.06338811169215038, 0.9817723128250525, 0.3006237441916955, 0.7014554031139562, 0.9958742042719362, 0.06489249051260833, 0.11587944734394344, 0.1112442694501857, 0.27347549573170654, 0.0741628463001238, 0.1483256926002476, 0.02317588946878869, 0.0741628463001238, 0.12514980313145893, 0.8078211872885982, 0.20195529682214955, 0.9829981422533683, 0.9763069509835935, 0.9817723128250525, 0.9866362835724823, 0.981331110516214, 0.8361763317481075, 0.1672352663496215, 1.000156375258676, 0.9799621569488477, 0.994704116476261, 0.9895082811023174, 1.0018600094381436, 0.9872247150423278, 0.4149849889873222, 0.5928356985533175, 0.9817723128250525, 0.9910063444294887, 0.28239366465807814, 0.28239366465807814, 0.4437614730341228, 0.4428116958589404, 0.5635785220022878, 0.9893120638080367, 0.12336980017777302, 0.5181531607466466, 0.14804376021332763, 0.22206564031999143, 0.07902412563404869, 0.25024306450782086, 0.0658534380283739, 0.18438962647944693, 0.30292581493051995, 0.1317068760567478, 0.20744206390145195, 0.4978609533634847, 0.29041888946203276, 0.08512637181456974, 0.2553791154437092, 0.1957906551735104, 0.1362021949033116, 0.11066428335894066, 0.2298412038993383, 0.9910063444294887, 0.12779131415745654, 0.20825251196029956, 0.24138359340852902, 0.1845874537829928, 0.16092239560568602, 0.061529151260997596, 0.01419903490638406, 0.12608799623126798, 0.882615973618876, 0.9976344052202001, 0.23211014139747502, 0.7737004713249167, 0.15435729958039945, 0.848965147692197, 0.335010701898473, 0.670021403796946, 0.9946160713656275, 0.40362335835208135, 0.23064191905833223, 0.23064191905833223, 0.14415119941145763, 0.8780537528438531, 0.043902687642192656, 0.08780537528438531, 0.9991460993518633, 0.9953022135455675, 0.9890071845334232, 0.9842060637671485, 0.15206362420435493, 0.311368373370822, 0.22447487382547635, 0.02172337488633642, 0.1086168744316821, 0.17378699909069137, 0.01448224992422428, 0.9987342574292182, 0.9763069509835935, 0.9829981422533683, 0.07475767562844292, 0.3737883781422146, 0.14951535125688584, 0.41116721595643607, 0.9799621569488477, 1.0014963610632546, 0.9946160713656275, 0.6460482424519862, 0.3589156902511035, 0.07805048528468873, 0.17905699565310945, 0.17446579063636306, 0.013773615050239189, 0.14232735551913828, 0.11937133043540629, 0.16528338060287026, 0.11937133043540629, 0.004591205016746396, 0.9879207686741565, 0.6710413364211311, 0.33552066821056553, 0.9763069509835935, 0.4519751372639701, 0.06953463650214925, 0.3129058642596716, 0.17383659125537312, 0.29635786324819896, 0.7112588717956775, 0.06328555071023456, 0.3670561941193605, 0.21517087241479754, 0.24048509269889137, 0.12657110142046912, 0.9946160713656275, 0.200619277312302, 0.802477109249208, 0.9897604733441049, 0.9763069509835935, 1.005872614160066, 0.7775255579455432, 0.22215015941301233, 1.0042309085010972, 0.3185061780596485, 0.1737306425779901, 0.5211919277339703, 1.003479097737377, 0.9920554042140866, 0.990484470762329, 0.9842060637671485, 0.9983452204596578, 0.12457599474545858, 0.87203196321821, 0.981331110516214, 0.9777465123696724, 0.12634623093768282, 0.7580773856260971, 0.12634623093768282, 0.9829981422533683, 0.9897604733441049, 0.1587351023756648, 0.10582340158377652, 0.10582340158377652, 0.23810265356349716, 0.19400956957025695, 0.202828186368905, 0.9799621569488477, 0.20148567587880092, 0.8059427035152037, 0.17109552587444948, 0.09212836008624202, 0.27638508025872605, 0.1579343315764149, 0.06580597149017288, 0.25006269166265693, 0.1261018996989337, 0.8827132978925359, 0.1765112337339779, 0.2868307548177141, 0.12135147319210982, 0.24270294638421963, 0.07722366475861533, 0.11031952108373619, 0.9856690312732406, 0.08061608692337983, 0.3570140992321107, 0.1842653415391539, 0.10364925461577407, 0.14971559000056253, 0.13819900615436542, 0.9856690312732406, 0.1438345152316642, 0.8630070913899853, 0.12687706346371722, 0.8881394442460205, 1.0053375070671753, 0.23237870081969905, 0.7745956693989968, 0.8553757454319012, 0.1425626242386502, 0.8084449535348479, 0.20211123838371198, 0.8066350102801331, 0.20165875257003327, 0.9866362835724823, 0.1491066740118719, 0.1292257841436223, 0.06958311453887354, 0.07952355947299834, 0.20874934361662065, 0.18886845374837105, 0.18886845374837105, 0.09994472903230867, 0.899502561290778, 0.9897604733441049, 0.9946160713656275, 0.9895082811023174, 0.9910063444294887, 0.5604561046812493, 0.1681368314043748, 0.28022805234062464, 0.9946160713656275, 0.1836617372895747, 0.4591543432239368, 0.2387602584764471, 0.1285632161027023, 0.15941293707440923, 0.6376517482976369, 0.212550582765879, 0.11241970562581108, 0.13115632323011292, 0.22483941125162216, 0.46841544010754615, 0.0374732352086037, 0.0374732352086037, 0.1658202462227466, 0.829101231113733, 0.9799621569488477, 0.9348447845626026, 0.07191113727404636, 0.17192815200082243, 0.21717240252735462, 0.2081235524220482, 0.018097700210612886, 0.19907470231674174, 0.19907470231674174, 0.8926741929261911, 0.11158427411577389, 0.38876488509045243, 0.23325893105427148, 0.38876488509045243, 0.07203285543292881, 0.2932766256912102, 0.17493693462282714, 0.08746846731141357, 0.09261367127090848, 0.09261367127090848, 0.19037254650131188, 0.9954650546909442, 1.0062447215161763, 0.9842060637671485, 0.08611582028974188, 0.137785312463587, 0.17223164057948376, 0.43057910144870937, 0.0688926562317935, 0.10333898434769025, 0.9276644263862055, 0.07730536886551713, 0.9893120638080367, 0.9914612017610532, 0.9914612017610532, 0.9946160713656275, 0.9920554042140866, 0.804556884174266, 0.2011392210435665, 0.9954650546909442, 1.001082579735955, 0.9910063444294887, 0.8894868668126859, 0.11859824890835811, 0.1096486396837594, 0.07157619534912071, 0.006091591093542189, 0.031980853241096494, 0.19188511944657896, 0.12487761741761487, 0.10660284413698831, 0.17513324393933793, 0.13096920851115706, 0.051778524295108604, 0.8766904919814394, 0.12524149885449135, 0.8086364372860523, 0.20215910932151307, 0.9866362835724823, 0.8632365657462495, 0.14387276095770823, 0.7307196767648608, 0.2740198787868228, 1.0032663262623924, 1.0025565893725914, 0.9872247150423278, 0.1187402893518333, 0.1583203858024444, 0.1352319962062546, 0.1352319962062546, 0.18470711676951845, 0.1187402893518333, 0.029685072337958324, 0.11544194798094903, 0.9763069509835935, 0.1837946028666624, 0.2450594704888832, 0.1684783859611072, 0.07658108452777601, 0.3369567719222144, 0.16035227010799777, 0.8017613505399889, 0.05345075670266593, 0.2803329026874821, 0.19623303188123747, 0.16819974161248927, 0.36443277349372677, 0.9906011841273832, 0.13018061417200621, 0.17023618776339272, 0.17023618776339272, 0.020027786795693264, 0.1602222943655461, 0.020027786795693264, 0.08011114718277305, 0.26036122834401243, 0.33717470510974507, 0.23180760976294976, 0.04214683813871813, 0.21073419069359067, 0.18966077162423162, 0.4484639052310594, 0.5605798815388242, 0.5703106664704803, 0.1754802050678401, 0.26322030760176013, 0.12591176246481803, 0.22034558431343157, 0.03147794061620451, 0.22034558431343157, 0.4092132280106586, 0.9954650546909442, 0.359371311167367, 0.6468683601012605, 0.18272703297723292, 0.8222716483975482, 0.26770744381547157, 0.06692686095386789, 0.669268609538679, 0.10952746871351839, 0.16926972437543752, 0.009957042610319855, 0.34849649136119487, 0.07965634088255884, 0.10952746871351839, 0.08961338349287869, 0.08961338349287869, 0.20021956159244, 0.80087824636976, 0.981331110516214, 1.0012540073815854, 1.0090903496607175, 0.14306246121483956, 0.8583747672890374, 0.935245168283794, 0.07194193602183031, 0.9987342574292182, 0.6012955848826519, 0.3758097405516574, 0.03758097405516574, 0.9763069509835935, 0.14778091788604877, 0.32019198875310567, 0.44334275365814635, 0.09852061192403253, 0.9976344052202001, 0.1312328200835548, 0.1312328200835548, 0.21872136680592466, 0.5249312803342192, 1.0014963610632546, 0.29647701279263133, 0.5682476078525434, 0.14823850639631567, 0.981331110516214, 0.5550946669115663, 0.4541683638367361, 0.05525660694274632, 0.2578641657328162, 0.03683773796183088, 0.49730946248471686, 0.16576982082823896, 0.07459043920512311, 0.6340187332435464, 0.29836175682049243, 0.9987342574292182, 0.9987342574292182, 0.9817723128250525, 0.9817723128250525, 0.9976233448045932, 0.33637775832083766, 0.04204721979010471, 0.5466138572713611, 0.08409443958020942, 0.9927582887977228, 0.9777465123696724, 1.001155962015325, 0.7103640349983884, 0.0473576023332259, 0.23678801166612948, 0.12474943788116861, 0.8732460651681803, 0.9941632524008556, 0.28379421941078736, 0.18919614627385825, 0.5360557477759317, 0.2097287535197098, 0.12234177288649738, 0.33207052640620716, 0.2097287535197098, 0.13981916901313984, 0.2098566146458925, 0.1311603841536828, 0.1442764225690511, 0.17050849939978766, 0.3541330372149436, 0.10134445559120944, 0.14477779370172777, 0.11582223496138222, 0.130300014331555, 0.07962778653595028, 0.15925557307190055, 0.028955558740345555, 0.17373335244207333, 0.07962778653595028, 0.9890071845334232, 0.9927582887977228, 0.5205186577535975, 0.15309372286870518, 0.0918562337212231, 0.24494995658992827, 0.9920554042140866, 0.2854731662861738, 0.7136829157154345, 0.9895082811023174, 0.9954650546909442, 0.9842060637671485, 0.9976233448045932, 0.9872247150423278, 0.9879207686741565, 0.6599608129093111, 0.34939101859904703, 0.2571995946705125, 0.1653425965739009, 0.12859979733525626, 0.18371399619322323, 0.27557099428983484, 1.0001040552493516, 0.8377401816666448, 0.16754803633332896, 0.9879207686741565, 0.9895082811023174, 1.0025565893725914, 0.9976233448045932, 0.9927582887977228, 0.06967666267241202, 0.313544982025854, 0.313544982025854, 0.03483833133620601, 0.27870665068964806, 0.9777465123696724, 0.23662500872880188, 0.7690312783686061, 0.8285763194291819, 0.16571526388583638, 0.3251948388688074, 0.3131505855773701, 0.10839827962293579, 0.26497357241162084, 0.9829981422533683, 0.2871546693034303, 0.2115876510656855, 0.13602063282794066, 0.015113403647548963, 0.3627216875411751, 0.9937209887268971, 1.0051714202444815, 0.5182658741330852, 0.2591329370665426, 0.15547976223992557, 0.07773988111996279, 0.17249838833924253, 0.018481970179204558, 0.10473116434882583, 0.13861477634403419, 0.08008853744321975, 0.13553444798083342, 0.13553444798083342, 0.13245411961763265, 0.06776722399041671, 0.012321313452803039, 0.9829981422533683, 0.24217354688889947, 0.24217354688889947, 0.5247093515926156, 0.9856690312732406, 0.583531049861823, 0.4243862180813258, 0.21119196236013557, 0.2346577359557062, 0.09386309438228248, 0.4693154719114124, 0.616528262812856, 0.11209604778415565, 0.2802401194603891, 0.6488069609935718, 0.3244034804967859, 0.03604483116630955, 0.08274810697840013, 0.23169469953952035, 0.3971909134963206, 0.29789318512224044, 1.0092085125283743, 0.9983452204596578, 0.8205475504598247, 0.18234390010218327, 0.9906011841273832, 0.9920554042140866, 0.17518788874578098, 0.2627818331186715, 0.5693606384237881, 0.9019085022342216, 0.10021205580380241, 0.042175809035303866, 0.1827618391529834, 0.1546446331294475, 0.25305485421182317, 0.25305485421182317, 0.12652742710591158, 0.9960097081146374, 0.9866362835724823, 0.9866362835724823, 0.09471548321068876, 0.2029617497371902, 0.1353078331581268, 0.24355409968462824, 0.12177704984231412, 0.21649253305300287, 0.990484470762329], \"Term\": [\"10d\", \"1334\", \"2e\", \"able\", \"able\", \"absolutely\", \"absorb\", \"accept\", \"accurate\", \"actually\", \"actually\", \"add\", \"addition\", \"adidas\", \"adidas\", \"adjustment\", \"advertise\", \"affordable\", \"afghanistan\", \"ago\", \"ago\", \"ahead\", \"air\", \"air\", \"air\", \"alot\", \"amazing\", \"amazing\", \"amazon\", \"amazon\", \"ankle\", \"ankle\", \"anymore\", \"appear\", \"appreciate\", \"arch\", \"arch\", \"army\", \"arrive\", \"arrive\", \"arrive\", \"asics\", \"ask\", \"ask\", \"assume\", \"attach\", \"attract\", \"attractive\", \"average\", \"away\", \"away\", \"awesome\", \"awesome\", \"awesome\", \"awesome\", \"awhile\", \"baby\", \"balance\", \"band\", \"bare\", \"barely\", \"baseball\", \"basic\", \"basically\", \"basketball\", \"basketball\", \"basketball\", \"bball\", \"beach\", \"beat\", \"beautiful\", \"believe\", \"benassi\", \"bien\", \"big\", \"big\", \"big\", \"big\", \"big\", \"big\", \"birthday\", \"bit\", \"bit\", \"bit\", \"bit\", \"black\", \"black\", \"black\", \"black\", \"blah\", \"blister\", \"blue\", \"bonus\", \"boo\", \"boot\", \"box\", \"box\", \"brace\", \"break\", \"break\", \"break\", \"breaking\", \"breathable\", \"bring\", \"buck\", \"bulky\", \"bump\", \"button\", \"buy\", \"buy\", \"buy\", \"buy\", \"buy\", \"buy\", \"buy\", \"buy\", \"buy\", \"call\", \"car\", \"carry\", \"case\", \"casual\", \"casual\", \"casually\", \"cause\", \"certainly\", \"change\", \"change\", \"cheap\", \"cheap\", \"cheap\", \"check\", \"child\", \"choice\", \"christmas\", \"christmas\", \"clasp\", \"class\", \"close\", \"clothe\", \"cloud\", \"club\", \"color\", \"color\", \"color\", \"color\", \"combination\", \"come\", \"come\", \"come\", \"come\", \"come\", \"come\", \"comfort\", \"comfort\", \"comfort\", \"comfort\", \"comfortable\", \"comfortable\", \"comfortable\", \"comfortable\", \"comfortable\", \"comfortable\", \"comfortable\", \"comfortable\", \"comfortable\", \"comfortable\", \"comfortably\", \"comfortably\", \"comfy\", \"comfy\", \"comfy\", \"comment\", \"compare\", \"compare\", \"complaint\", \"complaint\", \"con\", \"concrete\", \"conform\", \"confortable\", \"confortable\", \"consequently\", \"construct\", \"continue\", \"cool\", \"cool\", \"cool\", \"correct\", \"correct\", \"count\", \"course\", \"court\", \"court\", \"crack\", \"crazy\", \"creo\", \"cross\", \"cut\", \"cute\", \"dad\", \"dark\", \"date\", \"daughter\", \"day\", \"day\", \"day\", \"day\", \"day\", \"day\", \"day\", \"deck\", \"describe\", \"description\", \"detail\", \"diabetic\", \"different\", \"different\", \"direction\", \"dirty\", \"disappointed\", \"display\", \"distance\", \"dog\", \"door\", \"downshifter\", \"dress\", \"drive\", \"dry\", \"dudacompren\", \"durant\", \"early\", \"easy\", \"easy\", \"easy\", \"end\", \"end\", \"end\", \"entire\", \"especially\", \"especially\", \"esta\", \"estos\", \"exact\", \"exact\", \"exactly\", \"exactly\", \"exactly\", \"excelente\", \"excellent\", \"excellent\", \"excellent\", \"exchange\", \"exercise\", \"expect\", \"expect\", \"expect\", \"expect\", \"expect\", \"expect\", \"expectation\", \"expensive\", \"expensive\", \"fabric\", \"fact\", \"fair\", \"fan\", \"fantastic\", \"far\", \"far\", \"fast\", \"fast\", \"fast\", \"fat\", \"father\", \"father\", \"feature\", \"feel\", \"feel\", \"feel\", \"feel\", \"feel\", \"feel\", \"feel\", \"feeling\", \"figure\", \"fill\", \"find\", \"find\", \"find\", \"find\", \"find\", \"fine\", \"fine\", \"fine\", \"firm\", \"fit\", \"fit\", \"fit\", \"fit\", \"fit\", \"fit\", \"fit\", \"fit\", \"fit\", \"fitting\", \"flip\", \"flip\", \"floor\", \"flop\", \"flop\", \"florida\", \"fluff\", \"foam\", \"foot\", \"foot\", \"foot\", \"foot\", \"foot\", \"foot\", \"foot\", \"foot\", \"footed\", \"force\", \"forward\", \"free\", \"friend\", \"friend\", \"general\", \"generally\", \"genuine\", \"get\", \"get\", \"get\", \"get\", \"get\", \"get\", \"get\", \"get\", \"get\", \"gift\", \"gift\", \"gift\", \"give\", \"give\", \"give\", \"glue\", \"good\", \"good\", \"good\", \"good\", \"good\", \"good\", \"good\", \"good\", \"good\", \"grandson\", \"gray\", \"great\", \"great\", \"great\", \"great\", \"great\", \"great\", \"great\", \"great\", \"grey\", \"grow\", \"guess\", \"guess\", \"guy\", \"gym\", \"gym\", \"half\", \"half\", \"happy\", \"happy\", \"happy\", \"hard\", \"hard\", \"hard\", \"hard\", \"hate\", \"having\", \"head\", \"heal\", \"hear\", \"heavy\", \"help\", \"help\", \"help\", \"high\", \"high\", \"high\", \"high\", \"high\", \"highly\", \"highly\", \"highly\", \"hit\", \"hole\", \"hope\", \"hope\", \"hope\", \"hopefully\", \"hot\", \"house\", \"house\", \"house\", \"huge\", \"hurt\", \"hurt\", \"husband\", \"husband\", \"husband\", \"husband\", \"husband\", \"husband\", \"ideal\", \"ill\", \"impact\", \"in34\", \"incredible\", \"indoor\", \"inexpensive\", \"inside\", \"inside\", \"insole\", \"insole\", \"intend\", \"item\", \"item\", \"item\", \"jean\", \"job\", \"job\", \"jog\", \"jordan\", \"keep\", \"kevin\", \"kick\", \"kind\", \"kinda\", \"know\", \"know\", \"know\", \"know\", \"lace\", \"lace\", \"lace\", \"large\", \"large\", \"large\", \"large\", \"large\", \"last\", \"last\", \"learn\", \"leather\", \"leather\", \"leave\", \"leave\", \"leg\", \"leg\", \"length\", \"length\", \"let\", \"life\", \"light\", \"light\", \"light\", \"light\", \"lightweight\", \"lightweight\", \"like\", \"like\", \"like\", \"like\", \"like\", \"like\", \"like\", \"like\", \"literally\", \"little\", \"little\", \"little\", \"little\", \"little\", \"little\", \"little\", \"live\", \"live\", \"live\", \"local\", \"local\", \"lol\", \"long\", \"long\", \"long\", \"look\", \"look\", \"look\", \"look\", \"look\", \"look\", \"look\", \"look\", \"look\", \"loop\", \"loose\", \"loose\", \"loosen\", \"love\", \"love\", \"love\", \"love\", \"love\", \"love\", \"love\", \"love\", \"love\", \"low\", \"low\", \"major\", \"manner\", \"match\", \"matter\", \"max\", \"maybe\", \"maybe\", \"mean\", \"medium\", \"meet\", \"member\", \"men\", \"mention\", \"mile\", \"mile\", \"mind\", \"mold\", \"money\", \"money\", \"money\", \"month\", \"month\", \"muy\", \"narrow\", \"narrow\", \"narrow\", \"narrow\", \"need\", \"need\", \"need\", \"need\", \"need\", \"need\", \"new\", \"new\", \"new\", \"nice\", \"nice\", \"nice\", \"nice\", \"nice\", \"nice\", \"nicely\", \"nike\", \"nike\", \"nike\", \"nike\", \"nike\", \"nike\", \"nike\", \"nikes\", \"nikes\", \"non\", \"normal\", \"normal\", \"normally\", \"normally\", \"not\", \"not\", \"notice\", \"old\", \"old\", \"old\", \"old\", \"one\", \"one\", \"one\", \"open\", \"opinion\", \"option\", \"orange\", \"order\", \"order\", \"order\", \"order\", \"order\", \"order\", \"order\", \"original\", \"originally\", \"outdoor\", \"overall\", \"overall\", \"overall\", \"overall\", \"overplay\", \"package\", \"pad\", \"padding\", \"padding\", \"pair\", \"pair\", \"pair\", \"pair\", \"pair\", \"pair\", \"pair\", \"pair\", \"pair\", \"pass\", \"past\", \"past\", \"pavement\", \"pay\", \"pay\", \"pay\", \"pay\", \"people\", \"people\", \"perfect\", \"perfect\", \"perfect\", \"perfect\", \"perfect\", \"period\", \"person\", \"person\", \"pick\", \"picky\", \"place\", \"plan\", \"plan\", \"plastic\", \"play\", \"play\", \"play\", \"player\", \"plenty\", \"point\", \"pound\", \"practice\", \"prefer\", \"prefer\", \"present\", \"pressure\", \"pretty\", \"pretty\", \"pretty\", \"prevent\", \"previous\", \"price\", \"price\", \"price\", \"price\", \"price\", \"price\", \"pro\", \"probably\", \"probably\", \"product\", \"product\", \"product\", \"product\", \"product\", \"product\", \"provide\", \"provide\", \"purchase\", \"purchase\", \"purchase\", \"purchase\", \"purchase\", \"purchase\", \"push\", \"quality\", \"quality\", \"quality\", \"quality\", \"quality\", \"quality\", \"que\", \"quick\", \"quick\", \"quickly\", \"quickly\", \"read\", \"real\", \"real\", \"reason\", \"reason\", \"reasonable\", \"reasonable\", \"receive\", \"receive\", \"recomend\", \"recommend\", \"recommend\", \"recommend\", \"recommend\", \"recommend\", \"recommend\", \"recommend\", \"red\", \"red\", \"refund\", \"regret\", \"relatively\", \"reliable\", \"replace\", \"replace\", \"replace\", \"require\", \"return\", \"return\", \"return\", \"return\", \"review\", \"review\", \"review\", \"right\", \"right\", \"right\", \"right\", \"right\", \"right\", \"rip\", \"rip\", \"rough\", \"rubber\", \"rubber\", \"run\", \"run\", \"run\", \"run\", \"run\", \"run\", \"runner\", \"runner\", \"running\", \"running\", \"running\", \"sandal\", \"sandal\", \"sandal\", \"sandal\", \"sandal\", \"sandal\", \"sandal\", \"sandals\", \"sandle\", \"save\", \"say\", \"say\", \"say\", \"say\", \"say\", \"say\", \"school\", \"school\", \"se\", \"season\", \"second\", \"sell\", \"seller\", \"send\", \"send\", \"service\", \"shape\", \"share\", \"ship\", \"ship\", \"shoe\", \"shoe\", \"shoe\", \"shoe\", \"shoe\", \"shoe\", \"shoe\", \"shoe\", \"shoe\", \"shoe\", \"shop\", \"shop\", \"shower\", \"shower\", \"side\", \"similar\", \"similar\", \"simple\", \"simple\", \"simply\", \"sin\", \"single\", \"size\", \"size\", \"size\", \"size\", \"size\", \"size\", \"size\", \"size\", \"skeptical\", \"slide\", \"slide\", \"slide\", \"slide\", \"slide\", \"slip\", \"slip\", \"slip\", \"slipper\", \"slipper\", \"slipper\", \"slipper\", \"slippery\", \"small\", \"small\", \"small\", \"small\", \"small\", \"small\", \"small\", \"small\", \"sneaker\", \"sneaker\", \"sneaker\", \"sneaker\", \"sneaker\", \"snug\", \"snug\", \"sock\", \"sock\", \"sock\", \"soft\", \"soft\", \"soft\", \"soft\", \"soft\", \"sol\", \"sole\", \"sole\", \"solid\", \"solid\", \"somewhat\", \"somewhat\", \"somewhat\", \"son\", \"son\", \"son\", \"son\", \"son\", \"son\", \"son\", \"son\", \"sport\", \"sport\", \"spring\", \"stand\", \"star\", \"state\", \"state\", \"stay\", \"stay\", \"step\", \"store\", \"store\", \"store\", \"straight\", \"strap\", \"strap\", \"strap\", \"strap\", \"street\", \"stretch\", \"stretch\", \"stretch\", \"stretch\", \"sturdy\", \"style\", \"style\", \"style\", \"suck\", \"summer\", \"summer\", \"support\", \"support\", \"support\", \"support\", \"support\", \"sure\", \"sure\", \"sure\", \"surface\", \"surprise\", \"swear\", \"switch\", \"tag\", \"take\", \"take\", \"take\", \"take\", \"tear\", \"teenage\", \"tennis\", \"thank\", \"thank\", \"thank\", \"thick\", \"thick\", \"thin\", \"thing\", \"thing\", \"thing\", \"think\", \"think\", \"think\", \"think\", \"think\", \"tight\", \"tight\", \"tight\", \"tight\", \"tight\", \"time\", \"time\", \"time\", \"time\", \"time\", \"time\", \"time\", \"time\", \"time\", \"tiny\", \"today\", \"toe\", \"toe\", \"toe\", \"toe\", \"top\", \"totally\", \"totally\", \"town\", \"traction\", \"training\", \"trash\", \"tread\", \"trouble\", \"true\", \"true\", \"try\", \"try\", \"try\", \"try\", \"try\", \"twice\", \"type\", \"type\", \"typically\", \"unglued\", \"uniform\", \"update\", \"upper\", \"use\", \"use\", \"use\", \"use\", \"use\", \"ve\", \"velcro\", \"velcro\", \"wait\", \"wait\", \"walk\", \"walk\", \"walk\", \"walk\", \"walking\", \"want\", \"want\", \"want\", \"want\", \"want\", \"waste\", \"watch\", \"way\", \"way\", \"way\", \"way\", \"wear\", \"wear\", \"wear\", \"wear\", \"wear\", \"wear\", \"wear\", \"wear\", \"wear\", \"wear\", \"wearable\", \"week\", \"week\", \"week\", \"weekend\", \"weight\", \"weight\", \"well\", \"well\", \"well\", \"well\", \"wet\", \"wet\", \"wet\", \"white\", \"white\", \"white\", \"wide\", \"wide\", \"wide\", \"wide\", \"width\", \"wife\", \"will\", \"will\", \"wipe\", \"wise\", \"wish\", \"wish\", \"wish\", \"wonderful\", \"wonderful\", \"work\", \"work\", \"work\", \"work\", \"work\", \"work\", \"workout\", \"worry\", \"y\", \"year\", \"year\", \"year\", \"year\", \"year\", \"year\", \"young\"]}, \"R\": 30, \"lambda.step\": 0.01, \"plot.opts\": {\"xlab\": \"PC1\", \"ylab\": \"PC2\"}, \"topic.order\": [1, 2, 3, 4, 5, 6, 7, 8, 9, 10]};\n",
              "\n",
              "function LDAvis_load_lib(url, callback){\n",
              "  var s = document.createElement('script');\n",
              "  s.src = url;\n",
              "  s.async = true;\n",
              "  s.onreadystatechange = s.onload = callback;\n",
              "  s.onerror = function(){console.warn(\"failed to load library \" + url);};\n",
              "  document.getElementsByTagName(\"head\")[0].appendChild(s);\n",
              "}\n",
              "\n",
              "if(typeof(LDAvis) !== \"undefined\"){\n",
              "   // already loaded: just create the visualization\n",
              "   !function(LDAvis){\n",
              "       new LDAvis(\"#\" + \"ldavis_el7141361547633646082170874939\", ldavis_el7141361547633646082170874939_data);\n",
              "   }(LDAvis);\n",
              "}else if(typeof define === \"function\" && define.amd){\n",
              "   // require.js is available: use it to load d3/LDAvis\n",
              "   require.config({paths: {d3: \"https://d3js.org/d3.v5\"}});\n",
              "   require([\"d3\"], function(d3){\n",
              "      window.d3 = d3;\n",
              "      LDAvis_load_lib(\"https://cdn.jsdelivr.net/gh/bmabey/pyLDAvis@3.4.0/pyLDAvis/js/ldavis.v3.0.0.js\", function(){\n",
              "        new LDAvis(\"#\" + \"ldavis_el7141361547633646082170874939\", ldavis_el7141361547633646082170874939_data);\n",
              "      });\n",
              "    });\n",
              "}else{\n",
              "    // require.js not available: dynamically load d3 & LDAvis\n",
              "    LDAvis_load_lib(\"https://d3js.org/d3.v5.js\", function(){\n",
              "         LDAvis_load_lib(\"https://cdn.jsdelivr.net/gh/bmabey/pyLDAvis@3.4.0/pyLDAvis/js/ldavis.v3.0.0.js\", function(){\n",
              "                 new LDAvis(\"#\" + \"ldavis_el7141361547633646082170874939\", ldavis_el7141361547633646082170874939_data);\n",
              "            })\n",
              "         });\n",
              "}\n",
              "</script>"
            ]
          },
          "metadata": {},
          "execution_count": 96
        }
      ]
    },
    {
      "cell_type": "markdown",
      "source": [
        "## Potential Insights\n",
        "\n"
      ],
      "metadata": {
        "id": "NdynLl1rU9C6"
      }
    },
    {
      "cell_type": "markdown",
      "source": [
        "Once you have completed execution of the above code, and have generated the visualization of your topic model, submit a screenshot of your interactive LDAvis above as proof of completion of the lab. This should be submitted as an image file in the peer review assessment after Lab 2 in Coursera."
      ],
      "metadata": {
        "id": "X28_EexNVDb3"
      }
    }
  ]
}